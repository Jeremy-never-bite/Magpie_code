{
 "cells": [
  {
   "cell_type": "code",
   "execution_count": 50,
   "metadata": {},
   "outputs": [],
   "source": [
    "import numpy as np\n",
    "import matplotlib.pyplot as plt\n",
    "# from matplotlib import gridspec\n",
    "import h5py\n",
    "import os\n",
    "import numpy as np\n",
    "import matplotlib.pyplot as plt\n",
    "from pygadgetreader import readsnap, readhead, readheader\n",
    "import re"
   ]
  },
  {
   "cell_type": "code",
   "execution_count": 59,
   "metadata": {},
   "outputs": [],
   "source": [
    "# specify for which entries below to calculate the satellite positions at each redshift\n",
    "#systems = [16, 17, 18, 19]\n",
    "# systems = [0,1,2,3,4,5,6,7,8,9]\n",
    "# systems = [0,1,2,3,4]\n",
    "systems = [1]\n",
    "# central galaxy index (i.e.) position in the Galform file (one entry per system)\n",
    "# only needed for the systems where the central is not a type=0 galaxy with the largest halo mass\n",
    "# index of the galaxy in the Galform file dataset 'Output001'\n",
    "\n",
    "simulation_names = [\n",
    "    \"M1_zcut7\", # 0\n",
    "    \"M2_zcut7\",\n",
    "    \"M3_zcut7\",\n",
    "    \"M4_zcut7\",\n",
    "    \"M5_zcut7\",\n",
    "    \"M1_7DM_GAS\", # 5\n",
    "    \"M2_7DM_GAS\",\n",
    "    \"M3_7DM_GAS\",\n",
    "    \"M4_7DM_GAS\",\n",
    "    \"M5_7DM_GAS\"\n",
    "]\n",
    "\n",
    "centralIndeces = [\n",
    "    0,    # M1_zcut7\n",
    "    0,    # M2_zcut7\n",
    "    0,    # M3_zcut7\n",
    "    518,  # M4_zcut7\n",
    "    79,   # M5_zcut7\n",
    "    0,    # M1_7DM_GAS\n",
    "    387,  # M2_7DM_GAS\n",
    "    0,    # M3_7DM_GAS\n",
    "    581,  # M4_7DM_GAS\n",
    "    0,    # M5_7DM_GAS\n",
    "]\n",
    "\n",
    "# path to the input files\n",
    "root_galformFiles = \"/home/zhaox/Magpie/Galform/\"\n",
    "list_galformFiles = [\n",
    "    \"M1_zcut7/galaxies.hdf5\",\n",
    "    \"M2_zcut7/galaxies.hdf5\",\n",
    "    \"M3_zcut7/galaxies.hdf5\",\n",
    "    \"M4_zcut7/galaxies.hdf5\",\n",
    "    \"M5_zcut7/galaxies.hdf5\",\n",
    "    \"M1_7DM_GAS/galaxies.hdf5\",\n",
    "    \"M2_7DM_GAS/galaxies.hdf5\",\n",
    "    \"M3_7DM_GAS/galaxies.hdf5\",\n",
    "    \"M4_7DM_GAS/galaxies.hdf5\",\n",
    "    \"M5_7DM_GAS/galaxies.hdf5\",\n",
    "]\n",
    "\n",
    "# path to the input particle data files\n",
    "root_subhaloFiles = \"/home/zhaox/Magpie/\"\n",
    "list_subhaloFiles = [\n",
    "    \"M1_zcut7/groups_%03i_z???p???/\",\n",
    "    \"M2_zcut7/groups_%03i_z???p???/\",\n",
    "    \"M3_zcut7/groups_%03i_z???p???/\",\n",
    "    \"M4_zcut7/groups_%03i_z???p???/\",\n",
    "    \"M5_zcut7/groups_%03i_z???p???/\",\n",
    "    \"M1_7DM_GAS/groups_%03i_z???p???/\",\n",
    "    \"M2_7DM_GAS/groups_%03i_z???p???/\",\n",
    "    \"M3_7DM_GAS/groups_%03i_z???p???/\",\n",
    "    \"M4_7DM_GAS/groups_%03i_z???p???/\",\n",
    "    \"M5_7DM_GAS/groups_%03i_z???p???/\",\n",
    "]\n",
    "\n",
    "# path to the output \n",
    "root_satelliteFiles = \"/home/zhaox/Magpie/Destruction/satellite_orbits_Galform/\"\n",
    "list_satelliteFiles = [\n",
    "    \"M1_MR.hdf5\",\n",
    "    \"M2_MR.hdf5\",\n",
    "    \"M3_MR.hdf5\",\n",
    "    \"M4_MR.hdf5\",\n",
    "    \"M5_MR.hdf5\",\n",
    "    \"M1_7DM_GAS.hdf5\",\n",
    "    \"M2_7DM_GAS.hdf5\",\n",
    "    \"M3_7DM_GAS.hdf5\",\n",
    "    \"M4_7DM_GAS.hdf5\",\n",
    "    \"M5_7DM_GAS.hdf5\",\n",
    "]\n",
    "\n",
    "# path to the output files for figures\n",
    "plotFigures = True\n",
    "root_plotFiles = \"./fig/\"\n",
    "list_plotFiles = [\n",
    "    \"M1_MR_orbits.pdf\",\n",
    "    \"M2_MR_orbits.pdf\",\n",
    "    \"M3_MR_orbits.pdf\",\n",
    "    \"M4_MR_orbits.pdf\",\n",
    "    \"M5_MR_orbits.pdf\",\n",
    "    \"M1_7DM_GAS_orbits.pdf\",\n",
    "    \"M2_7DM_GAS_orbits.pdf\",\n",
    "    \"M3_7DM_GAS_orbits.pdf\",\n",
    "    \"M4_7DM_GAS_orbits.pdf\",\n",
    "    \"M5_7DM_GAS_orbits.pdf\",\n",
    "]\n",
    "\n",
    "if systems is None:\n",
    "    systems = list(range(len(centralIndeces)))\n",
    "\n",
    "\n",
    "dm_halo_minor_l = []\n",
    "\n",
    "central_GroupNumber_l = [1,1,1,2,2,1,2,1,3,1]\n",
    "r = 300 # kpc\n",
    "# r = 2.174019391371011807e+02"
   ]
  },
  {
   "cell_type": "code",
   "execution_count": 60,
   "metadata": {},
   "outputs": [],
   "source": [
    "def read_dm_pos(filedir, file_id, r, center_pos):\n",
    "    for file in os.listdir(filedir):\n",
    "        if re.search('snapshot_'+file_id, file) != None:\n",
    "            filedir_snap = filedir + '/' + file\n",
    "            file_list = np.array(os.listdir(filedir_snap))\n",
    "            file_list.sort()\n",
    "            snap_file = filedir_snap + '/' +file_list[0]\n",
    "            print(snap_file)\n",
    "            # a = readheader(snap_file, 'a')\n",
    "            dm = readsnap(snap_file, 'pos', 'dm') * 1000/h\n",
    "            dm = dm - center_pos\n",
    "            dis = np.linalg.norm(dm, axis = 1) \n",
    "            dm = dm[dis<r]\n",
    "    return dm"
   ]
  },
  {
   "cell_type": "code",
   "execution_count": 61,
   "metadata": {},
   "outputs": [],
   "source": [
    "def read_satellite_orbit_Galform(satelliteFile):\n",
    "# within 300kpc, > mass_min, after tidal destruction\n",
    "\n",
    "    with h5py.File(satelliteFile, 'r' ) as hf:\n",
    "        central_pos = hf['central_galaxy/pos'][:][0]\n",
    "        h = hf['header_info/h'][()].astype(np.float64)\n",
    "    return central_pos, h"
   ]
  },
  {
   "cell_type": "code",
   "execution_count": 62,
   "metadata": {},
   "outputs": [],
   "source": [
    "def cal_c_a_ratio(satellite_coordinate):\n",
    "    n = len(satellite_coordinate)\n",
    "    I = np.zeros([3,3])\n",
    "    for i in range(3):\n",
    "        for j in range(3):\n",
    "            for k in range(n):\n",
    "                I[i][j] = I[i][j] + satellite_coordinate[k][i]*satellite_coordinate[k][j]\n",
    "    # print(I)\n",
    "    eigenvalue, featurevector = np.linalg.eig(I)\n",
    "    # print(\"eigenvalue:\", eigenvalue)\n",
    "    # print(\"featurevector:\", featurevector)\n",
    "    c = min(eigenvalue)**0.5\n",
    "    a = max(eigenvalue)**0.5\n",
    "    rng=range(len(eigenvalue))\n",
    "    mindex=min(rng,key=lambda x:eigenvalue[x])\n",
    "    c_a_minor = featurevector[:,mindex]\n",
    "    # print(\"c/a=\", c/a)\n",
    "    return c/a, c_a_minor"
   ]
  },
  {
   "cell_type": "code",
   "execution_count": 63,
   "metadata": {},
   "outputs": [
    {
     "name": "stdout",
     "output_type": "stream",
     "text": [
      "1\n",
      "/data/inspur_disk02/Simulations/Magpie/M2_zcut7/snapshot_199_z000p000/snap_199_z000p000.0.hdf5\n",
      "Returning DM    Positions\n"
     ]
    }
   ],
   "source": [
    "file_id = '199_z000p000'\n",
    "for system in systems:\n",
    "    print(system)\n",
    "    satelliteFile = root_satelliteFiles + list_satelliteFiles[system]\n",
    "    central_pos, h = read_satellite_orbit_Galform(satelliteFile)\n",
    "    simulation_name = simulation_names[system]\n",
    "    filedir = '/data/inspur_disk02/Simulations/Magpie/' + simulation_name\n",
    "    dm_pos = read_dm_pos(filedir, file_id, r, central_pos)\n",
    "    c_a, c_a_minor = cal_c_a_ratio(dm_pos)\n",
    "    dm_halo_minor_l.append(c_a_minor)"
   ]
  },
  {
   "cell_type": "code",
   "execution_count": 64,
   "metadata": {},
   "outputs": [
    {
     "name": "stdout",
     "output_type": "stream",
     "text": [
      "[-0.18031118 -0.48783585  0.8541101 ]\n"
     ]
    }
   ],
   "source": [
    "print(c_a_minor)"
   ]
  },
  {
   "cell_type": "code",
   "execution_count": 65,
   "metadata": {},
   "outputs": [
    {
     "data": {
      "text/plain": [
       "[array([-0.18031118, -0.48783585,  0.8541101 ])]"
      ]
     },
     "execution_count": 65,
     "metadata": {},
     "output_type": "execute_result"
    }
   ],
   "source": [
    "dm_halo_minor_l"
   ]
  }
 ],
 "metadata": {
  "kernelspec": {
   "display_name": "base",
   "language": "python",
   "name": "python3"
  },
  "language_info": {
   "codemirror_mode": {
    "name": "ipython",
    "version": 3
   },
   "file_extension": ".py",
   "mimetype": "text/x-python",
   "name": "python",
   "nbconvert_exporter": "python",
   "pygments_lexer": "ipython3",
   "version": "3.8.16"
  },
  "orig_nbformat": 4,
  "vscode": {
   "interpreter": {
    "hash": "c8418f71ca869135fee4bba0b1a21408fc19234041c34c937e231c438942041d"
   }
  }
 },
 "nbformat": 4,
 "nbformat_minor": 2
}
