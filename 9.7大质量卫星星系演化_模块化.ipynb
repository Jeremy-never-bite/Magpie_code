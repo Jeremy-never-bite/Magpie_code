{
 "cells": [
  {
   "cell_type": "code",
   "execution_count": 1,
   "metadata": {
    "collapsed": true
   },
   "outputs": [],
   "source": [
    "import numpy as np\n",
    "import matplotlib.pyplot as plt\n",
    "# from matplotlib import gridspec\n",
    "import h5py"
   ]
  },
  {
   "cell_type": "markdown",
   "metadata": {},
   "source": [
    "# Part1: get the galaxy satellite index filtered by mass and distance"
   ]
  },
  {
   "cell_type": "code",
   "execution_count": 2,
   "metadata": {
    "collapsed": true
   },
   "outputs": [],
   "source": [
    "def get_satellite_index(file, distance_limit, mass_limit):\n",
    "    \"\"\"\n",
    "        input:  file eg:'/home/zhaox/Magpie/Galform/M1_zcut7/galaxies.hdf5'\n",
    "                distance_limit: unit: Kpc \n",
    "                mass_limit unit:mass of sun\n",
    "        output: a list contain satellit index in 'output001'\n",
    "    \"\"\"\n",
    "    # the name used to obtain individual files\n",
    "    inputRoot = file\n",
    "    # the specific file\n",
    "    inputFile = 'Output001'\n",
    "    print \"file = \", inputRoot + '/' + inputFile \n",
    "\n",
    "    # get the Galaxy num\n",
    "    with h5py.File(inputRoot, 'r' ) as hf:\n",
    "        data = hf[inputFile]\n",
    "        gid = data['GalaxyID'][:]\n",
    "        num = len(gid)\n",
    "        print \"Galaxy num = \" , num\n",
    "        \n",
    "        # numpy array initialization\n",
    "        mstars_bulge = np.zeros(num)\n",
    "        mstars_disk = np.zeros(num)\n",
    "        xgal = np.zeros(num)\n",
    "        ygal = np.zeros(num)\n",
    "        zgal = np.zeros(num)\n",
    "        vxgal = np.zeros(num)\n",
    "        vzgal = np.zeros(num)\n",
    "\n",
    "        #read data\n",
    "        mstars_bulge = data['mstars_bulge'][:]\n",
    "        mstars_disk = data[ 'mstars_disk'][:]\n",
    "        xgal, ygal, zgal = data[ 'xgal'][:], data['ygal'][:], data['zgal'][:]\n",
    "        gal_coordinate_vector = np.array([xgal, ygal, zgal])\n",
    "\n",
    "        x_center, y_center, z_center = xgal[0], ygal[0], zgal[0]\n",
    "        x_LMC, y_LMC, z_LMC = xgal[4], ygal[4], zgal[4]\n",
    "        center_coordinate_vector = np.array([x_center, y_center, z_center])\n",
    "        LMC_vector = np.array([x_LMC, y_LMC, z_LMC])\n",
    "\n",
    "    h = 0.6776999831199646 #(m/s)/Mpc\n",
    "        \n",
    "    def cal_distance(vector1, vector2):\n",
    "        v = vector1 - vector2\n",
    "        distance = ((v[0])**2 + (v[1])**2 + (v[2])**2)**0.5\n",
    "        return distance\n",
    "\n",
    "    print \"central galaxy coordinate:\", center_coordinate_vector\n",
    "\n",
    "    distance = np.zeros(num)\n",
    "    distance_to_LMC = np.zeros(num)\n",
    "    for i in range(num):\n",
    "        # cal coordinate, use liniar algebra 2-norm\n",
    "    #     distance = np.linalg.norm(gal_coordinate_vector[:,i]/h - center_coordinate_vector/h)  # Mpc\n",
    "        distance[i] = cal_distance(gal_coordinate_vector[:, i]/h, center_coordinate_vector/h) # Mpc\n",
    "        distance_to_LMC[i] = cal_distance(gal_coordinate_vector[:, i]/h, LMC_vector/h) # Mpc\n",
    "    mass = (mstars_bulge + mstars_disk) / h\n",
    "\n",
    "    satellite_index = np.where((mass > mass_limit) & (distance < distance_limit/1000.0))[0] # [0]means row\n",
    "    print(\"satellite index = \", satellite_index)\n",
    "\n",
    "    satellite_mass = mass[satellite_index]\n",
    "    satellite_distance = distance[satellite_index]\n",
    "\n",
    "    print(\"close to LMC\", np.where(distance_to_LMC < 100/1000.0))\n",
    "    satellite_num = len(satellite_index)\n",
    "    print \"satellite num = \", satellite_num\n",
    "    np.savetxt(\"./data/satellite_mass\"+str(mass_limit)+\".txt\", np.array(satellite_mass), delimiter='\\t')\n",
    "    return satellite_index, satellite_mass"
   ]
  },
  {
   "cell_type": "code",
   "execution_count": 3,
   "metadata": {},
   "outputs": [
    {
     "name": "stdout",
     "output_type": "stream",
     "text": [
      "file =  /home/zhaox/Magpie/Galform/M1_zcut7/galaxies.hdf5/Output001\n",
      "Galaxy num =  702\n",
      "central galaxy coordinate: [ 47.60614395  49.33514786  20.33740044]\n",
      "('satellite index = ', array([  0,   1,   2,   3,   4,   7,   8,  12,  14,  15,  17,  18,  19,\n",
      "        20,  22,  24,  26,  27,  28,  29,  30,  33,  34,  35,  36,  37,\n",
      "        39,  40,  41,  42,  43,  47,  48,  49,  50,  51,  52,  53,  54,\n",
      "        55,  57,  58,  59,  60,  61,  62,  63,  64,  65,  66,  69,  70,\n",
      "        71,  72,  73,  74,  75,  76,  77,  78,  79,  80,  83,  84,  86,\n",
      "        87,  88,  89,  90,  91,  92,  93,  94,  95,  96,  97,  98,  99,\n",
      "       100, 101, 102, 103, 104, 105, 106, 107, 108, 109, 110, 111, 112,\n",
      "       113, 114, 115, 116, 117, 118, 119, 120, 122, 123, 124, 125, 127,\n",
      "       128, 129, 130, 131, 133, 134, 135, 136, 137, 138, 140, 141, 142,\n",
      "       143, 144, 248, 596, 606]))\n",
      "('close to LMC', (array([  4,  14,  17,  19,  27,  28,  30,  39,  44,  53,  62,  74,  75,\n",
      "        76,  80,  89,  90,  91,  92,  93,  95,  98,  99, 102, 108, 109,\n",
      "       110, 112, 113, 119, 123, 130, 136, 137, 138, 248]),))\n",
      "satellite num =  122\n"
     ]
    }
   ],
   "source": [
    "file = '/home/zhaox/Magpie/Galform/M1_zcut7/galaxies.hdf5'\n",
    "# mass_limit = 100000\n",
    "mass_limit = 100\n",
    "distance_limit = 300 #kpc\n",
    "satellite_Galaxy_ID, satellite_mass = get_satellite_index(file = file, distance_limit = distance_limit, mass_limit=mass_limit)"
   ]
  },
  {
   "cell_type": "code",
   "execution_count": 4,
   "metadata": {},
   "outputs": [
    {
     "name": "stdout",
     "output_type": "stream",
     "text": [
      "(array([ 0,  1,  2,  3,  4,  5,  6,  7,  9, 10, 11, 12, 13, 14, 15, 16, 17,\n",
      "       18, 19, 20, 21, 22, 23, 24, 25, 26, 27, 28, 29, 30, 31, 32, 33, 34,\n",
      "       35]), array([  4,   8,  10,  12,  17,  18,  20,  26,  37,  45,  55,  56,  57,\n",
      "        61,  67,  68,  69,  70,  71,  73,  76,  77,  80,  86,  87,  88,\n",
      "        90,  91,  97, 100, 106, 111, 112, 113, 119]))\n"
     ]
    }
   ],
   "source": [
    "satellite_index = np.array([  0,   1,   2,   3,   4,   7,   8,  12,  14,  15,  17,  18,  19,\\\n",
    "        20,  22,  24,  26,  27,  28,  29,  30,  33,  34,  35,  36,  37,\\\n",
    "        39,  40,  41,  42,  43,  47,  48,  49,  50,  51,  52,  53,  54,\\\n",
    "        55,  57,  58,  59,  60,  61,  62,  63,  64,  65,  66,  69,  70,\\\n",
    "        71,  72,  73,  74,  75,  76,  77,  78,  79,  80,  83,  84,  86,\\\n",
    "        87,  88,  89,  90,  91,  92,  93,  94,  95,  96,  97,  98,  99,\\\n",
    "       100, 101, 102, 103, 104, 105, 106, 107, 108, 109, 110, 111, 112,\\\n",
    "       113, 114, 115, 116, 117, 118, 119, 120, 122, 123, 124, 125, 127,\\\n",
    "       128, 129, 130, 131, 133, 134, 135, 136, 137, 138, 140, 141, 142,\\\n",
    "       143, 144, 248, 596, 606])\n",
    "close_to_LMC = np.array([  4,  14,  17,  19,  27,  28,  30,  39,  44,  53,  62,  74,  75,\\\n",
    "        76,  80,  89,  90,  91,  92,  93,  95,  98,  99, 102, 108, 109,\\\n",
    "       110, 112, 113, 119, 123, 130, 136, 137, 138, 248])\n",
    "# re = np.zeros(len(close_to_LMC))\n",
    "# for index in close_to_LMC:\n",
    "    # re[i] = \n",
    "re = np.where(satellite_index == close_to_LMC[:, None])\n",
    "print(re)"
   ]
  },
  {
   "cell_type": "code",
   "execution_count": 5,
   "metadata": {},
   "outputs": [
    {
     "name": "stdout",
     "output_type": "stream",
     "text": [
      "[0, 4, 12]\n",
      "[185.53711, 208.88922, 274.42297, 280.13977, 533.24457, 573.99408, 611.51007, 867.4176, 1105.9675, 1229.6245, 1547.3322, 1759.1512, 1926.2864, 1941.705, 2183.3677, 2299.2683, 2355.5032, 2634.8523, 2716.1616, 3014.9536, 3081.0562, 3194.5903, 3876.6584, 4181.4805, 4288.4116, 4355.5854, 5013.9546, 5039.3018, 5945.165, 5994.0513, 6092.6147, 6145.959, 6824.731, 7569.5508, 7992.1289, 8346.5557, 8954.2451, 8989.7412, 9127.1553, 9657.4873, 10536.445, 10713.266, 12125.18, 12955.06, 13534.48, 13914.751, 14529.769, 15318.823, 15405.466, 15505.29, 16672.607, 18464.293, 18941.635, 20381.406, 21521.213, 24915.402, 27311.314, 30149.121, 31337.195, 34561.102, 34749.223, 37116.516, 38025.035, 44201.465, 47444.633, 47606.754, 51344.668, 54326.957, 56073.68, 58357.066, 64067.152, 71476.773, 79663.875, 83526.055, 91558.617, 107935.38, 109857.2, 113209.45, 121896.42, 130253.32, 130367.39, 132870.19, 139992.97, 140602.23, 142263.59, 144216.03, 144536.2, 152257.73, 157110.91, 161295.81, 163438.88, 169494.17, 169974.23, 182308.27, 190471.34, 204226.39, 207600.55, 299046.38, 404877.53, 408378.53, 736832.0, 754960.88, 771139.19, 778020.62, 901535.25, 923279.06, 950868.38, 994727.62, 1022096.4, 1154736.5, 1317093.8, 1943350.0, 1969476.0, 2039233.1, 2047945.2, 2338752.2, 2812950.8, 2938764.5, 6456658.0, 3.1311501e+08, 2.7017521e+09, 3.7164892e+10]\n"
     ]
    }
   ],
   "source": [
    "index = []\n",
    "for i in range(122):\n",
    "    if satellite_mass[i] > 1e8:\n",
    "        index.append(i)\n",
    "# index = np.where(satellite_mass>1e9])\n",
    "print(index)\n",
    "# print(satellite_mass[4])\n",
    "print(list(sorted(satellite_mass)))"
   ]
  },
  {
   "cell_type": "markdown",
   "metadata": {},
   "source": [
    "# Part2: get the coordinates of the satellite galaxy progenitor"
   ]
  },
  {
   "cell_type": "code",
   "execution_count": 6,
   "metadata": {
    "collapsed": true
   },
   "outputs": [],
   "source": [
    "def get_satellite_progenitor_index(file, satellite_Galaxy_ID):\n",
    "    \"\"\"\n",
    "        input: a list cointain the satellite_Galaxy_ID at z=0\n",
    "        output: a list contain the satellite_progenitor_index\n",
    "    \"\"\"\n",
    "    FirstProgenitorID = []\n",
    "    gnum = []\n",
    "    GalaxyID = []\n",
    "    LastProgenitorID = []\n",
    "    for i in range(1, 200):\n",
    "        \n",
    "        if i in range(0,10):\n",
    "            inputFile = \"Output00{}\".format(i)\n",
    "        elif i in range(10,100):\n",
    "            inputFile = \"Output0{}\".format(i)\n",
    "        if i in range(100,200):\n",
    "            inputFile = \"Output{}\".format(i)\n",
    "    #     print \"file = \", inputRoot + '/' + inputFile \n",
    "\n",
    "        # get the Galaxy num\n",
    "        with h5py.File(file, 'r' ) as hf:\n",
    "            data = hf[inputFile]\n",
    "            GalaxyID.append(data['GalaxyID'][:])\n",
    "            gnum.append(len(GalaxyID))\n",
    "    #         print \"Galaxy num = \" , gnum\n",
    "    #         FirstProgenitorID = np.zeros(gnum)\n",
    "                    \n",
    "            FirstProgenitorID.append(data['FirstProgenitorID'][:])\n",
    "            \n",
    "    def find(ID, n):\n",
    "        \"\"\" input: 选中星系的FirstProgenitorID, 当前是第n个output(n从0到198)\n",
    "            output: 在前一个output中GalaxyId = 此FirstProgenitorID的index\n",
    "        \"\"\"\n",
    "        if ID == -1:\n",
    "            return -1\n",
    "        if n == 198:\n",
    "            return 0\n",
    "        for i in range(len(GalaxyID[n+1])): #  下一个output\n",
    "            if (GalaxyID[n+1][i] == ID):\n",
    "                return i\n",
    "                break\n",
    "                \n",
    "    def find_ProgenitorID(current):\n",
    "        \"\"\"\n",
    "            input: output001中id=current\n",
    "            output: 199*1的列表，包含了它在每一个output中的的前身GalaxyID\n",
    "        \"\"\"\n",
    "        # 先找output001中id=0的前身\n",
    "        ProgenitorID = [current]\n",
    "        for i in range(199): #i从0到198\n",
    "            if current == None:\n",
    "                break\n",
    "            fid = FirstProgenitorID[i][current]\n",
    "            if (fid == -1):\n",
    "                break\n",
    "            else:\n",
    "                current = find(fid, i)\n",
    "                ProgenitorID.append(current)\n",
    "        return ProgenitorID\n",
    "    satellite_progenitor = []\n",
    "    for item in satellite_Galaxy_ID:\n",
    "        satellite_progenitor.append(find_ProgenitorID(item))\n",
    "    return satellite_progenitor"
   ]
  },
  {
   "cell_type": "code",
   "execution_count": 7,
   "metadata": {
    "collapsed": true
   },
   "outputs": [],
   "source": [
    "satellite_progenitor_index = get_satellite_progenitor_index(file = file, satellite_Galaxy_ID=satellite_Galaxy_ID)"
   ]
  },
  {
   "cell_type": "markdown",
   "metadata": {},
   "source": [
    "## Part2.2 Optional reverse and fill the satellite_progenitor_index to (199, satellite_progenitor_num)"
   ]
  },
  {
   "cell_type": "code",
   "execution_count": 8,
   "metadata": {
    "collapsed": true
   },
   "outputs": [],
   "source": [
    "def reverse_and_fill(satellite_progenitor_index):\n",
    "    \"\"\"\n",
    "        eg: from [3,2,2] to [2, 2, 2, 3]\n",
    "    \"\"\"\n",
    "    satellite_num = len(satellite_progenitor_index)\n",
    "    satellite_progenitor_num = []\n",
    "    for i in range(satellite_num):\n",
    "        satellite_progenitor_num = len(satellite_progenitor_index[i])\n",
    "        satellite_progenitor_index[i] = list(reversed(satellite_progenitor_index[i]))\n",
    "        fill = satellite_progenitor_index[i][0]\n",
    "        for j in range(199 - satellite_progenitor_num):\n",
    "            satellite_progenitor_index[i].insert(0, fill)\n",
    "    return satellite_progenitor_index"
   ]
  },
  {
   "cell_type": "code",
   "execution_count": 9,
   "metadata": {},
   "outputs": [
    {
     "name": "stdout",
     "output_type": "stream",
     "text": [
      "(122, 199)\n"
     ]
    }
   ],
   "source": [
    "satellite_progenitor_index = reverse_and_fill(satellite_progenitor_index)\n",
    "satellite_progenitor_index = np.array(satellite_progenitor_index)\n",
    "print(np.shape(satellite_progenitor_index))\n",
    "# 写入一个txt文件\n",
    "np.savetxt('./data/satellite_progenitor_index_' + str(mass_limit) + 'mass'+'.txt', satellite_progenitor_index, fmt='%d', delimiter=\",\")"
   ]
  },
  {
   "cell_type": "markdown",
   "metadata": {},
   "source": [
    "# Part3: get the relative coordiantes of satellite progenitor  "
   ]
  },
  {
   "cell_type": "code",
   "execution_count": 10,
   "metadata": {
    "collapsed": true
   },
   "outputs": [],
   "source": [
    "def read_factor_a():\n",
    "    file = '/home/zhaox/Magpie/Galform/M1_zcut7/output.times'\n",
    "    a = np.loadtxt(file)[:, 1]\n",
    "    a = a[::-1]\n",
    "    return a"
   ]
  },
  {
   "cell_type": "code",
   "execution_count": 11,
   "metadata": {
    "collapsed": true
   },
   "outputs": [],
   "source": [
    "def read_coordinate(hfile, index_list):\n",
    "    \"\"\"\n",
    "    input:  hfile是hdf5文件\n",
    "            index_list是在每一个output中index的列表, 从output199 到output1 199 * 1\n",
    "    output: 所有星系的坐标\n",
    "    \"\"\"\n",
    "    inputRoot = hfile\n",
    "    gnum = len(index_list)\n",
    "    gal_coordinate_vector = np.zeros((199, 3))\n",
    "    # \n",
    "    initial = 0\n",
    "    k = index_list[initial]\n",
    "    while(index_list[initial] == k) :\n",
    "        initial = initial + 1\n",
    "    initial = initial - 1\n",
    "    for j in range(initial, 199):\n",
    "        i = 199 - j\n",
    "        if i in range(0,10):\n",
    "            inputFile = \"Output00{}\".format(i)\n",
    "        elif i in range(10,100):\n",
    "            inputFile = \"Output0{}\".format(i)\n",
    "        if i in range(100,200):\n",
    "            inputFile = \"Output{}\".format(i)\n",
    "\n",
    "        with h5py.File(inputRoot, 'r' ) as hf:\n",
    "            data = hf[inputFile]\n",
    "            xgal, ygal, zgal = data[ 'xgal'][:][index_list[j]], data['ygal'][:][index_list[j]], data['zgal'][:][index_list[j]]\n",
    "            gal_coordinate_vector[j] = [xgal, ygal, zgal]\n",
    "    # fill to 199\n",
    "    initial_coordinate_vector = gal_coordinate_vector[initial]\n",
    "    for i in range(initial):\n",
    "        gal_coordinate_vector[i] = initial_coordinate_vector\n",
    "    \n",
    "    return np.array(gal_coordinate_vector)"
   ]
  },
  {
   "cell_type": "code",
   "execution_count": 12,
   "metadata": {
    "collapsed": true
   },
   "outputs": [],
   "source": [
    "def read_relative_coordinate(file, satellite_progenitor):\n",
    "    \"\"\"\n",
    "        input: satellite_progenitor:n*199 , central_galaxy is the index = 0\n",
    "        output: galaxy_progenitor_relative_coordinate\n",
    "    \"\"\"\n",
    "    # get the central_galaxy_progenitor_coordinate \n",
    "    central_galaxy_progenitor = satellite_progenitor[0]\n",
    "    central_galaxy_progenitor_coordinate = read_coordinate(file, central_galaxy_progenitor) # 199 * 3\n",
    "    n = len(satellite_progenitor)\n",
    "    h = 0.6776999831199646\n",
    "    # global a\n",
    "    a = read_factor_a()\n",
    "    a = np.tile(a, (3, 1)).T # 199 * 3\n",
    "    galaxy_progenitor_relative_coordinate = np.zeros((n, 199, 3))\n",
    "    for i in range(n):\n",
    "        galaxy_progenitor_relative_coordinate[i] = np.multiply(a, (read_coordinate(file, satellite_progenitor[i]) - central_galaxy_progenitor_coordinate)) * 1000/ h  # 199 * 3\n",
    "        \n",
    "        # satellite_progenitor_distance[i] =  (satellite_progenitor_distance[i][0]**2 + satellite_progenitor_distance[i][1]**2 + satellite_progenitor_distance[i][2]**2)**0.5 \n",
    "    return galaxy_progenitor_relative_coordinate"
   ]
  },
  {
   "cell_type": "code",
   "execution_count": 20,
   "metadata": {},
   "outputs": [],
   "source": [
    "file = '/home/zhaox/Magpie/Galform/M1_zcut7/galaxies.hdf5'\n",
    "satellite_progenitor_index = np.loadtxt(\"./data/satellite_progenitor_index_\"+ str(mass_limit)+\"mass.txt\", dtype=int, delimiter=\",\")\n",
    "central_galaxy_progenitor = satellite_progenitor_index[0]\n",
    "central_galaxy_progenitor_coordinate = read_coordinate(file, central_galaxy_progenitor) # 199 * 3\n",
    "h = 0.6776999831199646\n",
    "central_galaxy_progenitor_coordinate = central_galaxy_progenitor_coordinate*1000/h\n",
    "np.savetxt(\"./data/central_galaxy_progenitor_coordinate.txt\", central_galaxy_progenitor_coordinate)"
   ]
  },
  {
   "cell_type": "code",
   "execution_count": 17,
   "metadata": {},
   "outputs": [],
   "source": [
    "a = read_factor_a()"
   ]
  },
  {
   "cell_type": "code",
   "execution_count": 18,
   "metadata": {},
   "outputs": [
    {
     "data": {
      "text/plain": [
       "array([ 0.050463,  0.053308,  0.056151,  0.058993,  0.061834,  0.064673,\n",
       "        0.06751 ,  0.070345,  0.073176,  0.076005,  0.07883 ,  0.081651,\n",
       "        0.084467,  0.087279,  0.090086,  0.092888,  0.095684,  0.098474,\n",
       "        0.10126 ,  0.10403 ,  0.1068  ,  0.10957 ,  0.11232 ,  0.11507 ,\n",
       "        0.1178  ,  0.12053 ,  0.12325 ,  0.12596 ,  0.12866 ,  0.13135 ,\n",
       "        0.13403 ,  0.1367  ,  0.13936 ,  0.142   ,  0.14463 ,  0.14725 ,\n",
       "        0.14987 ,  0.15247 ,  0.15506 ,  0.15765 ,  0.16023 ,  0.1628  ,\n",
       "        0.16537 ,  0.16794 ,  0.1705  ,  0.17306 ,  0.17562 ,  0.17818 ,\n",
       "        0.18074 ,  0.1833  ,  0.18587 ,  0.18844 ,  0.19101 ,  0.19359 ,\n",
       "        0.19618 ,  0.19877 ,  0.20137 ,  0.20398 ,  0.2066  ,  0.20923 ,\n",
       "        0.21188 ,  0.21453 ,  0.21721 ,  0.21989 ,  0.22259 ,  0.22531 ,\n",
       "        0.22804 ,  0.2308  ,  0.23357 ,  0.23637 ,  0.23918 ,  0.24202 ,\n",
       "        0.24488 ,  0.24776 ,  0.25067 ,  0.25361 ,  0.25657 ,  0.25956 ,\n",
       "        0.26258 ,  0.26563 ,  0.26871 ,  0.27182 ,  0.27496 ,  0.27814 ,\n",
       "        0.28135 ,  0.28459 ,  0.28788 ,  0.29119 ,  0.29455 ,  0.29795 ,\n",
       "        0.30138 ,  0.30486 ,  0.30838 ,  0.31194 ,  0.31554 ,  0.31919 ,\n",
       "        0.32289 ,  0.32663 ,  0.33042 ,  0.33425 ,  0.33814 ,  0.34208 ,\n",
       "        0.34606 ,  0.3501  ,  0.35419 ,  0.35834 ,  0.36254 ,  0.36679 ,\n",
       "        0.3711  ,  0.37547 ,  0.3799  ,  0.38439 ,  0.38894 ,  0.39354 ,\n",
       "        0.39822 ,  0.40295 ,  0.40775 ,  0.41261 ,  0.41754 ,  0.42253 ,\n",
       "        0.4276  ,  0.43273 ,  0.43793 ,  0.4432  ,  0.44854 ,  0.45396 ,\n",
       "        0.45945 ,  0.46501 ,  0.47065 ,  0.47636 ,  0.48216 ,  0.48803 ,\n",
       "        0.49397 ,  0.5     ,  0.50611 ,  0.51229 ,  0.51856 ,  0.5249  ,\n",
       "        0.53132 ,  0.53781 ,  0.54437 ,  0.551   ,  0.5577  ,  0.56447 ,\n",
       "        0.57131 ,  0.57821 ,  0.58517 ,  0.59219 ,  0.59928 ,  0.60643 ,\n",
       "        0.61363 ,  0.62089 ,  0.6282  ,  0.63557 ,  0.64298 ,  0.65045 ,\n",
       "        0.65797 ,  0.66553 ,  0.67315 ,  0.6808  ,  0.6885  ,  0.69624 ,\n",
       "        0.70402 ,  0.71184 ,  0.7197  ,  0.72759 ,  0.73552 ,  0.74348 ,\n",
       "        0.75147 ,  0.75949 ,  0.76754 ,  0.77562 ,  0.78372 ,  0.79185 ,\n",
       "        0.8     ,  0.80817 ,  0.81637 ,  0.82458 ,  0.83281 ,  0.84106 ,\n",
       "        0.84932 ,  0.85761 ,  0.8659  ,  0.87422 ,  0.88254 ,  0.89088 ,\n",
       "        0.89923 ,  0.90759 ,  0.91596 ,  0.92434 ,  0.93272 ,  0.94112 ,\n",
       "        0.94952 ,  0.95792 ,  0.96633 ,  0.97475 ,  0.98316 ,  0.99158 ,\n",
       "        1.      ])"
      ]
     },
     "execution_count": 18,
     "metadata": {},
     "output_type": "execute_result"
    }
   ],
   "source": [
    "a"
   ]
  },
  {
   "cell_type": "code",
   "execution_count": 19,
   "metadata": {},
   "outputs": [],
   "source": [
    "# for i in range(199):\n",
    "#     central_galaxy_progenitor_coordinate[i] = central_galaxy_progenitor_coordinate[i] / a[i]\n",
    "#     np.savetxt(\"./data/central_galaxy_progenitor_coordinate.txt\", central_galaxy_progenitor_coordinate)"
   ]
  },
  {
   "cell_type": "code",
   "execution_count": 48,
   "metadata": {},
   "outputs": [
    {
     "name": "stdout",
     "output_type": "stream",
     "text": [
      "(133, 199)\n"
     ]
    }
   ],
   "source": [
    "\n",
    "file = '/home/zhaox/Magpie/Galform/M1_zcut7/galaxies.hdf5'\n",
    "satellite_progenitor_index = np.loadtxt(\"./data/satellite_progenitor_index_\"+ str(mass_limit)+\"mass.txt\", dtype=int, delimiter=\",\")\n",
    "print(np.shape(satellite_progenitor_index))\n",
    "galaxy_progenitor_relative_coordinate= read_relative_coordinate(file, satellite_progenitor_index)\n",
    "galaxy_progenitor_relative_coordinate = galaxy_progenitor_relative_coordinate.reshape(-1, 3)\n",
    "np.savetxt('/home/zhaox/app/data/satellite_progenitor_relative_coordinate' + str(mass_limit)+ 'mass2.txt', galaxy_progenitor_relative_coordinate, delimiter=',')"
   ]
  },
  {
   "cell_type": "code",
   "execution_count": 49,
   "metadata": {},
   "outputs": [
    {
     "name": "stdout",
     "output_type": "stream",
     "text": [
      "(26467, 3)\n"
     ]
    }
   ],
   "source": [
    "print(np.shape(galaxy_progenitor_relative_coordinate))"
   ]
  }
 ],
 "metadata": {
  "kernelspec": {
   "display_name": "Python 2.7.18 ('zhaox': conda)",
   "language": "python",
   "name": "python3"
  },
  "language_info": {
   "codemirror_mode": {
    "name": "ipython",
    "version": 2
   },
   "file_extension": ".py",
   "mimetype": "text/x-python",
   "name": "python",
   "nbconvert_exporter": "python",
   "pygments_lexer": "ipython2",
   "version": "2.7.18"
  },
  "vscode": {
   "interpreter": {
    "hash": "83dbead9a322cda86f62d98acafff557e52abf5c9a0acd4bb87741d59c7c222b"
   }
  }
 },
 "nbformat": 4,
 "nbformat_minor": 2
}
