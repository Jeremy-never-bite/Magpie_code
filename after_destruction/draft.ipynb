{
 "cells": [
  {
   "cell_type": "code",
   "execution_count": 1,
   "metadata": {},
   "outputs": [],
   "source": [
    "from matplotlib.backends.backend_pdf import PdfPages\n",
    "import h5py                                    # To open snapshots\n",
    "import numpy as np                             # Numerical library\n",
    "# For quickly finding all snapshot paths\n",
    "from glob import glob\n",
    "from pyread_eagle import EagleSnapshot         # Eagle read routine\n",
    "# Useful to get age of the universe and thus integration times\n",
    "from astropy.cosmology import FlatLambdaCDM\n",
    "# from eagle_database.database import Database   # Eagle database code\n",
    "\n",
    "# plotting\n",
    "import matplotlib.pyplot as plt\n",
    "from matplotlib import gridspec\n",
    "%matplotlib inline\n",
    "\n",
    "\n",
    "plt.style.use(\"./shao.mplstyle\")\n",
    "fontSize = 15\n",
    "lineWidth = 1.5\n",
    "\n",
    "colors = [u'#1f77b4', u'#ff7f0e', u'#2ca02c', u'#d62728', u'#9467bd', u'#8c564b', u'#e377c2', u'#7f7f7f',\n",
    "          u'#bcbd22', u'#17becf']\n"
   ]
  },
  {
   "cell_type": "code",
   "execution_count": 4,
   "metadata": {},
   "outputs": [
    {
     "data": {
      "text/plain": [
       "5"
      ]
     },
     "execution_count": 4,
     "metadata": {},
     "output_type": "execute_result"
    }
   ],
   "source": [
    "R_max = 300.  # physical kpc\n",
    "Mstar_min = 1.  # in solar masses"
   ]
  },
  {
   "cell_type": "code",
   "execution_count": 5,
   "metadata": {},
   "outputs": [
    {
     "data": {
      "text/plain": [
       "array([2, 3])"
      ]
     },
     "execution_count": 5,
     "metadata": {},
     "output_type": "execute_result"
    }
   ],
   "source": [
    "# specify for which entries below to calculate the satellite positions at each redshift\n",
    "#systems = [16, 17, 18, 19]\n",
    "systems = [1]\n",
    "\n",
    "# central galaxy index (i.e.) position in the Galform file (one entry per system)\n",
    "# only needed for the systems where the central is not a type=0 galaxy with the largest halo mass\n",
    "# index of the galaxy in the Galform file dataset 'Output001'\n",
    "centralIndeces = [\n",
    "    0,    # M1_zcut7\n",
    "    0,    # M2_zcut7\n",
    "    0,    # M3_zcut7\n",
    "    518,  # M4_zcut7\n",
    "    79,   # M5_zcut7\n",
    "    0,    # M1_7DM_GAS\n",
    "    387,  # M2_7DM_GAS\n",
    "    0,    # M3_7DM_GAS\n",
    "    581,  # M4_7DM_GAS\n",
    "    0,    # M5_7DM_GAS\n",
    "    0,    # M1_MR_DMO\n",
    "    0,    # M2_MR_DMO\n",
    "    0,    # M3_MR_DMO\n",
    "    597,  # M4_MR_DMO\n",
    "    109,  # M5_MR_DMO\n",
    "    0,    # M1_HR_DMO\n",
    "    0,    # M2_HR_DMO\n",
    "    0,    # M3_HR_DMO\n",
    "    596,  # M4_HR_DMO\n",
    "    0     # M5_HR_DMO\n",
    "]\n",
    "\n",
    "# path to the input files\n",
    "root_galaxyFiles = \"/home/zhaox/Magpie/Galform/\"\n",
    "list_galaxyFiles = [\n",
    "    \"M1_zcut7/galaxies.hdf5\",\n",
    "    \"M2_zcut7/galaxies.hdf5\",\n",
    "    \"M3_zcut7/galaxies.hdf5\",\n",
    "    \"M4_zcut7/galaxies.hdf5\",\n",
    "    \"M5_zcut7/galaxies.hdf5\",\n",
    "    \"M1_7DM_GAS/galaxies.hdf5\",\n",
    "    \"M2_7DM_GAS/galaxies.hdf5\",\n",
    "    \"M3_7DM_GAS/galaxies.hdf5\",\n",
    "    \"M4_7DM_GAS/galaxies.hdf5\",\n",
    "    \"M5_7DM_GAS/galaxies.hdf5\",\n",
    "    \"M1_MR_DMO/galaxies.hdf5\",\n",
    "    \"M2_MR_DMO/galaxies.hdf5\",\n",
    "    \"M3_MR_DMO/galaxies.hdf5\",\n",
    "    \"M4_MR_DMO/galaxies.hdf5\",\n",
    "    \"M5_MR_DMO/galaxies.hdf5\",\n",
    "    \"M1_HR_DMO/galaxies.hdf5\",\n",
    "    \"M2_HR_DMO/galaxies.hdf5\",\n",
    "    \"M3_HR_DMO/galaxies.hdf5\",\n",
    "    \"M4_HR_DMO/galaxies.hdf5\",\n",
    "    \"M5_HR_DMO/galaxies.hdf5\"\n",
    "]\n",
    "\n",
    "# path to the input particle data files\n",
    "root_subhaloFiles = \"/home/zhaox/Magpie/\"\n",
    "list_subhaloFiles = [\n",
    "    \"M1_zcut7/groups_%03i_z???p???/\",\n",
    "    \"M2_zcut7/groups_%03i_z???p???/\",\n",
    "    \"M3_zcut7/groups_%03i_z???p???/\",\n",
    "    \"M4_zcut7/groups_%03i_z???p???/\",\n",
    "    \"M5_zcut7/groups_%03i_z???p???/\",\n",
    "    \"M1_7DM_GAS/groups_%03i_z???p???/\",\n",
    "    \"M2_7DM_GAS/groups_%03i_z???p???/\",\n",
    "    \"M3_7DM_GAS/groups_%03i_z???p???/\",\n",
    "    \"M4_7DM_GAS/groups_%03i_z???p???/\",\n",
    "    \"M5_7DM_GAS/groups_%03i_z???p???/\",\n",
    "    \"M1_MR_DMO/groups_%03i_z???p???/\",\n",
    "    \"M2_MR_DMO/groups_%03i_z???p???/\",\n",
    "    \"M3_MR_DMO/groups_%03i_z???p???/\",\n",
    "    \"M4_MR_DMO/groups_%03i_z???p???/\",\n",
    "    \"M5_MR_DMO/groups_%03i_z???p???/\",\n",
    "    \"M1_HR_DMO/groups_%03i_z???p???/\",\n",
    "    \"M2_HR_DMO/groups_%03i_z???p???/\",\n",
    "    \"M3_HR_DMO/groups_%03i_z???p???/\",\n",
    "    \"M4_HR_DMO/groups_%03i_z???p???/\",\n",
    "    \"M5_HR_DMO/groups_%03i_z???p???/\"\n",
    "]\n",
    "\n",
    "# path to the output files\n",
    "root_outputFiles = \"./satellite_orbits_Galform/\"\n",
    "list_outputFiles = [\n",
    "    \"M1_MR.hdf5\",\n",
    "    \"M2_MR.hdf5\",\n",
    "    \"M3_MR.hdf5\",\n",
    "    \"M4_MR.hdf5\",\n",
    "    \"M5_MR.hdf5\",\n",
    "    \"M1_7DM_GAS.hdf5\",\n",
    "    \"M2_7DM_GAS.hdf5\",\n",
    "    \"M3_7DM_GAS.hdf5\",\n",
    "    \"M4_7DM_GAS.hdf5\",\n",
    "    \"M5_7DM_GAS.hdf5\",\n",
    "    \"M1_MR_DMO.hdf5\",\n",
    "    \"M2_MR_DMO.hdf5\",\n",
    "    \"M3_MR_DMO.hdf5\",\n",
    "    \"M4_MR_DMO.hdf5\",\n",
    "    \"M5_MR_DMO.hdf5\",\n",
    "    \"M1_HR_DMO.hdf5\",\n",
    "    \"M2_HR_DMO.hdf5\",\n",
    "    \"M3_HR_DMO.hdf5\",\n",
    "    \"M4_HR_DMO.hdf5\",\n",
    "    \"M5_HR_DMO.hdf5\"\n",
    "]\n",
    "\n",
    "# path to the output files for figures\n",
    "plotFigures = True\n",
    "root_plotFiles = root_outputFiles\n",
    "list_plotFiles = [\n",
    "    \"M1_MR_orbits.pdf\",\n",
    "    \"M2_MR_orbits.pdf\",\n",
    "    \"M3_MR_orbits.pdf\",\n",
    "    \"M4_MR_orbits.pdf\",\n",
    "    \"M5_MR_orbits.pdf\",\n",
    "    \"M1_7DM_GAS_orbits.pdf\",\n",
    "    \"M2_7DM_GAS_orbits.pdf\",\n",
    "    \"M3_7DM_GAS_orbits.pdf\",\n",
    "    \"M4_7DM_GAS_orbits.pdf\",\n",
    "    \"M5_7DM_GAS_orbits.pdf\",\n",
    "    \"M1_MR_DMO_orbits.pdf\",\n",
    "    \"M2_MR_DMO_orbits.pdf\",\n",
    "    \"M3_MR_DMO_orbits.pdf\",\n",
    "    \"M4_MR_DMO_orbits.pdf\",\n",
    "    \"M5_MR_DMO_orbits.pdf\",\n",
    "    \"M1_HR_DMO_orbits.pdf\",\n",
    "    \"M2_HR_DMO_orbits.pdf\",\n",
    "    \"M3_HR_DMO_orbits.pdf\",\n",
    "    \"M4_HR_DMO_orbits.pdf\",\n",
    "    \"M5_HR_DMO_orbits.pdf\"\n",
    "]\n",
    "\n",
    "if systems is None:\n",
    "    systems = list(range(len(centralIndeces)))\n"
   ]
  },
  {
   "cell_type": "code",
   "execution_count": null,
   "metadata": {},
   "outputs": [],
   "source": [
    "# function for reading in the Subfind data\n",
    "def readSubhalomass(subhaloFile, gal_subID):\n",
    "    \"\"\"Reads the group data from a Subfind file.\"\"\"\n",
    "    subfile_basename = 'eagle_subfind_tab_???_z???p???.%i.hdf5'\n",
    "    # create array for subhalo mass\n",
    "    numObjs = gal_subID.shape[0]\n",
    "    numSnaps = gal_subID.shape[1]\n",
    "    gal_Msub = np.zeros((numObjs, numSnaps), np.float64)\n",
    "    for i in range(0, numObjs):\n",
    "        for j in range(0, numSnaps):\n",
    "            if j == 0 and i % 10 == 0:\n",
    "                print(\"\\t\\t %ith galaxy finished\" % (i))\n",
    "            if gal_subID[i, j] < 0:\n",
    "                continue\n",
    "            ID_temp = gal_subID[i, j]\n",
    "            a = divmod(ID_temp, 10**15)  # a[0] > 0 if no subhalo exists\n",
    "            b = divmod(a[1], 10**12)    # b[0] is snapnum\n",
    "            # c[0] is the file number and c[1] is the index of the subhalo\n",
    "            c = divmod(b[1], 10**8)\n",
    "            snapname = subhaloFile % b[0]\n",
    "            subfilename = snapname + subfile_basename\n",
    "            inputFiles = glob(subfilename % c[0])\n",
    "            # find and read the file\n",
    "            with h5py.File(inputFiles[0], 'r') as hf:\n",
    "                #           print( hf['Header'].attrs.keys() )    # returns the names of all the attributes in the header\n",
    "                HubbleParam = hf['Header'].attrs['HubbleParam']\n",
    "                numGroups = hf['Header'].attrs['TotNgroups']\n",
    "                numSubgroups = hf['Header'].attrs['TotNsubgroups']\n",
    "                gal_Msub[i, j] = np.array(\n",
    "                    hf['Subhalo/Mass'])[c[1]] * 1.e10 / HubbleParam\n",
    "    return gal_Msub, numGroups, numSubgroups"
   ]
  },
  {
   "cell_type": "code",
   "execution_count": 1,
   "metadata": {},
   "outputs": [
    {
     "data": {
      "text/plain": [
       "(9, 19)"
      ]
     },
     "execution_count": 1,
     "metadata": {},
     "output_type": "execute_result"
    }
   ],
   "source": [
    "divmod(199,20)"
   ]
  }
 ],
 "metadata": {
  "kernelspec": {
   "display_name": "base",
   "language": "python",
   "name": "python3"
  },
  "language_info": {
   "codemirror_mode": {
    "name": "ipython",
    "version": 3
   },
   "file_extension": ".py",
   "mimetype": "text/x-python",
   "name": "python",
   "nbconvert_exporter": "python",
   "pygments_lexer": "ipython3",
   "version": "3.8.16"
  },
  "orig_nbformat": 4
 },
 "nbformat": 4,
 "nbformat_minor": 2
}
