{
 "cells": [
  {
   "cell_type": "code",
   "execution_count": 1,
   "metadata": {},
   "outputs": [],
   "source": [
    "import pandas as pd\n",
    "import matplotlib as mpl\n",
    "from scipy import stats\n",
    "import scipy.special\n",
    "from scipy import constants\n",
    "from colossus.cosmology import cosmology\n",
    "from astropy.cosmology import z_at_value\n",
    "params = {'flat': True, 'H0': 67.77, 'Om0': 0.307, 'Ob0': 0.04825, 'sigma8': 0.8288, 'ns': 0.9611}\n",
    "cosmology.addCosmology('planck14', params)\n",
    "cosmo = cosmology.setCosmology('planck14')"
   ]
  },
  {
   "cell_type": "code",
   "execution_count": 2,
   "metadata": {},
   "outputs": [],
   "source": [
    "import sys\n",
    "import numpy as np\n",
    "import matplotlib.pyplot as plt\n",
    "import h5py\n",
    "import matplotlib as mpl\n",
    "from matplotlib import gridspec\n",
    "from matplotlib.ticker import MultipleLocator, FormatStrFormatter, AutoMinorLocator, FixedLocator\n",
    "from matplotlib.backends.backend_pdf import PdfPages\n",
    "\n",
    "plt.style.use(\"shao.mplstyle\")\n",
    "fontSize = 15\n",
    "lineWidth = 1.5\n",
    "\n",
    "colors = [u'#1f77b4', u'#ff7f0e', u'#2ca02c', u'#d62728', u'#9467bd', u'#8c564b', u'#e377c2', u'#7f7f7f', \\\n",
    "          u'#bcbd22', u'#17becf']"
   ]
  },
  {
   "attachments": {},
   "cell_type": "markdown",
   "metadata": {},
   "source": [
    "# functions"
   ]
  },
  {
   "cell_type": "code",
   "execution_count": 7,
   "metadata": {},
   "outputs": [],
   "source": [
    "def read_galform(file_num, simulation_name, maxn=1000, mass_min=1e2,r = 300):\n",
    "    # print (\"file = \", inputRoot + '/' + inputFile) \n",
    "    fi = 'M' + str(file_num) + '_'+ simulation_name\n",
    "    inputRoot = '/home/zhaox/Magpie/Galform/'+fi+'/galaxies.hdf5'\n",
    "    inputFile = 'Output001'\n",
    "    h = 0.6776999831199646 \n",
    "    if simulation_name == 'zcut7':\n",
    "        if file_num == 4:\n",
    "            centerIndex = 518\n",
    "        elif file_num == 5:\n",
    "            centerIndex = 79\n",
    "        else:\n",
    "            centerIndex = 0\n",
    "    elif simulation_name == '7DM_GAS':\n",
    "        if file_num == 2:\n",
    "            centerIndex = 387\n",
    "        elif file_num == 4:\n",
    "            centerIndex = 581\n",
    "        else:\n",
    "            centerIndex = 0\n",
    "    # get the Galaxy num\n",
    "    with h5py.File(inputRoot, 'r' ) as hf:\n",
    "        data = hf[inputFile]\n",
    "        # print (\"data.keys = \" , data.keys())\n",
    "        gid = data['GalaxyID'][:]\n",
    "        num = len(gid)\n",
    "        \n",
    "\n",
    "        #read data\n",
    "        mass =  data['mstars_bulge'][:]/h + data[ 'mstars_disk'][:]/h\n",
    "        Mhalo = data['mhhalo'][:]/h\n",
    "        # 坐标单位kpc(n,3),速度单位km/s(n,3)\n",
    "        pos = np.array([data[ 'xgal'][:], data['ygal'][:], data['zgal'][:]]).T *1000/h\n",
    "        vel = np.array([data['vxgal'][:], data['vygal'][:], data['vzgal'][:]]).T\n",
    "        center = pos[centerIndex]\n",
    "        pos = pos - center\n",
    "        vel = vel - vel[centerIndex]\n",
    "        print('center pos:', center*h/1000)\n",
    "    index = []\n",
    "    dis = []\n",
    "    for i in range(num):\n",
    "        dis_ = ((pos[i][0]**2 + pos[i][1]**2 + pos[i][2]**2)**0.5)\n",
    "        # 筛选条件小于300kpc，大于100msun\n",
    "        if  dis_< r and mass[i] > mass_min:\n",
    "            index.append(i)\n",
    "            dis.append(dis_)\n",
    "            \n",
    "    index = np.array(index)\n",
    "    print(\"Galform Mhalo=%e\"%Mhalo[centerIndex])\n",
    "    # 放入pandas DataFrame中，按质量排序\n",
    "    satellite_data =pd.DataFrame({\"id\":index, \\\n",
    "        \"mass\":mass[index], \"distance[kpc]\":dis,\\\n",
    "        \"x[kpc]\":pos[index][:,0],\"y[kpc]\":pos[index][:,1],\"z[kpc]\":pos[index][:,2],\\\n",
    "        \"vx[km/s]\":vel[index][:,0],\"vy[km/s]\":vel[index][:,1],\"vz[km/s]\":vel[index][:,2]},  \\\n",
    "    columns=['id', 'mass', 'distance[kpc]', 'x[kpc]', 'y[kpc]', 'z[kpc]', 'vx[km/s]', 'vy[km/s]', 'vz[km/s]'])\n",
    "    satellite_data = satellite_data.sort_values(by=['mass'],ascending=False)\n",
    "    # 返回显示质量最大的maxn个,maxn=1000表示输出所有满足条件的星系，从1开始是因为0是中央星系\n",
    "    print (\"Galaxy num = \" , num, \"satellite num = \", len(index)-1)\n",
    "    satellite_pos = np.array(satellite_data[['x[kpc]','y[kpc]','z[kpc]']])\n",
    "    satellite_vel = np.array(satellite_data[['vx[km/s]','vy[km/s]','vz[km/s]']])\n",
    "    return Mhalo[centerIndex], satellite_data.iloc[:maxn+1], satellite_pos[1:maxn+1], satellite_vel[1:maxn+1]\n",
    "\n",
    "\n",
    "def read_hydro(file_num, simulation, maxn):\n",
    "    # read the subgroup catalogue\n",
    "    # inputFile_root = \"groups_199_z000p000/eagle_subfind_tab_028_z000p000.%i.hdf5\" \n",
    "    file = simulation_name\n",
    "    inputFile_root = '/home/zhaox/Magpie/' + file + '/groups_199_z000p000/eagle_subfind_tab_199_z000p000.%i.hdf5'\n",
    "    # read the data - read the first tab file to get the total number of subgroups\n",
    "    inputFile = inputFile_root % 0\n",
    "\n",
    "    # 对于4和5，中央星系的galaxyID不等于0\n",
    "\n",
    "    if simulation == 'zcut7':\n",
    "        if file_num == 4:\n",
    "            centerIndex = 2\n",
    "        elif file_num == 5:\n",
    "            centerIndex = 2\n",
    "        else:\n",
    "            centerIndex = 1\n",
    "    elif simulation == '7DM_GAS':\n",
    "        if file_num == 2:\n",
    "            centerIndex = 2\n",
    "        elif file_num == 4:\n",
    "            centerIndex = 3\n",
    "        else:\n",
    "            centerIndex = 1\n",
    "    else:\n",
    "        print(\"can't understand simulation_name!\")\n",
    "        return\n",
    "    with h5py.File( inputFile, 'r' ) as hf:\n",
    "        header  = hf['Header'].attrs\n",
    "        # print ('header keys:', header.keys())\n",
    "        numFiles = header['NTask']  # this gives the number of files in which the group catalog is saved\n",
    "        noTotGrps = header['TotNgroups']  # total number of FOF groups\n",
    "        noTotSubs = header['TotNsubgroups']  # total number of SUBFIND subhaloes\n",
    "        hFactor   = header['HubbleParam']\n",
    "        # print(\"All groups in the file:\", hf.keys())\n",
    "        # print(\"All entries in the 'FOF' group:\", hf['FOF'].keys())\n",
    "        # print(\"All entries in the 'SubHalo' group:\", hf['Subhalo'].keys())\n",
    "        # print(numFiles, noTotGrps, noTotSubs, hFactor)\n",
    "\n",
    "\n",
    "    # reserve memory for the output arrays\n",
    "    FOF_length   = np.zeros( noTotGrps, np.uint32 )\n",
    "    FOF_mass     = np.zeros( noTotGrps, np.float32 )\n",
    "    FOF_pos      = np.zeros( (noTotGrps,3), np.float32 )  # centre of potential\n",
    "    FOF_M200     = np.zeros( noTotGrps, np.float32 )\n",
    "    FOF_R200     = np.zeros( noTotGrps, np.float32 )\n",
    "    Subhalo_mass = np.zeros( noTotSubs, np.float32 )\n",
    "    Subhalo_pos  = np.zeros( (noTotSubs,3), np.float32 )  # centre of potential\n",
    "    Subhalo_vel = np.zeros( (noTotSubs,3), np.float32 )\n",
    "    Subhalo_gnum = np.zeros( noTotSubs, np.float32 )\n",
    "\n",
    "    # loop over all the various files\n",
    "    start, end = 0, 0\n",
    "    start2, end2 = 0, 0\n",
    "    for i in range(numFiles):\n",
    "        inFile = inputFile_root % i\n",
    "        with h5py.File( inFile, 'r' ) as hf:\n",
    "            h = hf['Header'].attrs\n",
    "            numGrps = h['Ngroups']  # number of groups this file\n",
    "            numsubGrps = h['Nsubgroups']\n",
    "            end = start + numGrps\n",
    "            end2 = start2 + numsubGrps\n",
    "    #         print(numsubGrps)\n",
    "            # print (\"Reading file %i of %i --%s-- which contains %i groups ...\" % ( i+1, numFiles, inFile, numGrps ))\n",
    "            \n",
    "            # FOF_length[start:end] = hf[\"FOF/GroupLength\"]\n",
    "            # FOF_mass[start:end] = hf[\"FOF/GroupMass\"]\n",
    "            FOF_pos[start:end]  = hf[\"FOF/GroupCentreOfPotential\"]\n",
    "            FOF_M200[start:end] = hf[\"FOF/Group_M_Crit200\"]\n",
    "            FOF_R200[start:end] = hf[\"FOF/Group_R_Crit200\"]\n",
    "            Subhalo_pos[start2:end2] = hf[\"Subhalo/CentreOfPotential\"]\n",
    "            Subhalo_mass[start2:end2] = hf[\"Subhalo/MassType\"][:,4]\n",
    "            Subhalo_vel[start2:end2] = hf[\"Subhalo/Velocity\"]\n",
    "            Subhalo_gnum[start2:end2] = hf[\"Subhalo/GroupNumber\"]\n",
    "            start = end\n",
    "            start2 = end2\n",
    "    Subhalo_pos = (Subhalo_pos - FOF_pos[centerIndex-1])* 1000/hFactor\n",
    "    satellite_index = []\n",
    "    dis = []\n",
    "    for i in range(len(Subhalo_pos)):\n",
    "        dis_ = ((Subhalo_pos[i][0]**2 + Subhalo_pos[i][1]**2 + Subhalo_pos[i][2]**2)**0.5)\n",
    "        # 筛选条件小于300kpc，大于100msun\n",
    "        # print(dis_)\n",
    "        if  dis_  < 300 and Subhalo_mass[i] > 0:\n",
    "            satellite_index.append(i)\n",
    "            dis.append(dis_)\n",
    "    # print(satellite_index)\n",
    "    # 选择groupNumber==centerindex的星系\n",
    "    # satellite_index = np.where(Subhalo_gnum == centerIndex)\n",
    "\n",
    "    # print(satellite_index)\n",
    "    print('r200 = ',FOF_R200[centerIndex-1])\n",
    "    #计算相对坐标和相对速度\n",
    "    # satellite_pos = (Subhalo_pos[satellite_index] - FOF_pos[centerIndex-1])* 1000/hFactor\n",
    "    satellite_pos = Subhalo_pos[satellite_index]\n",
    "    satellite_vel = Subhalo_vel[satellite_index] - Subhalo_vel[satellite_index][0]\n",
    "    dis = np.linalg.norm(satellite_pos, axis = 1)\n",
    "    satellite_data =pd.DataFrame({\"groupNumber\":Subhalo_gnum[satellite_index], \"id\":satellite_index,\\\n",
    "            \"mass\":Subhalo_mass[satellite_index]*1e10/hFactor, \"distance[kpc]\":dis, \\\n",
    "            \"x[kpc]\":satellite_pos[:,0],\"y[kpc]\":satellite_pos[:,1],\"z[kpc]\":satellite_pos[:,2],\\\n",
    "            \"vx[km/s]\":satellite_vel[:,0],\"vy[km/s]\":satellite_vel[:,1],\"vz[km/s]\":satellite_vel[:,2]},  \\\n",
    "        columns=['groupNumber', 'id', 'mass', 'distance[kpc]', 'x[kpc]', 'y[kpc]', 'z[kpc]', 'vx[km/s]', 'vy[km/s]', 'vz[km/s]'])\n",
    "        # 返回显示质量最大的maxn个,maxn=1000表示输出所有满足条件的星系，从1开始是因为0是中央星系\n",
    "    # satellite_data = all_data[all_data['groupNumber'] == centerIndex+1] \n",
    "    # satellite_data = satellite_data.query(\"mass > 0 & `distance[kpc]` < 300\")\n",
    "    # satellite_index = np.where(satellite_data['groupNumber'] == centerIndex)\n",
    "    # satellite_data = satellite_data.iloc[satellite_index]\n",
    "    satellite_data = satellite_data.sort_values(by=['mass'],ascending=False)\n",
    "    # satellite_data = satellite_data.loc[satellite_data['distance[kpc]']<300 ]\n",
    "    satellite_pos = np.array(satellite_data[['x[kpc]','y[kpc]','z[kpc]']])\n",
    "    satellite_vel = np.array(satellite_data[['vx[km/s]','vy[km/s]','vz[km/s]']])\n",
    "\n",
    "    print('center pos:', FOF_pos[centerIndex-1], \"satellite num = \", len(satellite_pos)-1)\n",
    "    return FOF_R200[centerIndex-1], FOF_M200[centerIndex-1], satellite_data.iloc[:maxn+1], satellite_pos[1:maxn+1], satellite_vel[1:maxn+1]\n",
    "    # return satellite_data.sort_values(by=['mass'],ascending=False).iloc[:]"
   ]
  },
  {
   "cell_type": "code",
   "execution_count": 4,
   "metadata": {},
   "outputs": [],
   "source": [
    "def pos_match(hydro_pos, galform_pos):\n",
    "    match = np.full(len(hydro_pos), -1,dtype=int)\n",
    "    for i in range(len(hydro_pos)):\n",
    "        for j in range(len(galform_pos)):\n",
    "            if np.linalg.norm(hydro_pos[i] - galform_pos[j]) < 0.1:\n",
    "                match[i] = j\n",
    "                continue\n",
    "    return match"
   ]
  },
  {
   "cell_type": "code",
   "execution_count": 5,
   "metadata": {},
   "outputs": [],
   "source": [
    "def read_data(file, mass_min = 100, r_min = 300, after_destruction=True):\n",
    "# within 300kpc, > mass_min, after tidal destruction\n",
    "\n",
    "    with h5py.File(file, 'r' ) as hf:\n",
    "        # data = hf[inputFile]\n",
    "        # print (\"data.keys = \" , data.keys())\n",
    "        # gid = data['GalaxyID'][:]\n",
    "        # num = len(gid)\n",
    "        print(\"hf.keys()\", hf.keys())\n",
    "        # print(\"hf/satellite_galaxies.keys()\",hf['satellite_galaxies'].keys())\n",
    "        t = hf[\"header_info/time\"][:]\n",
    "        a = hf[\"header_info/scale_factor\"][:]\n",
    "        central_Mhalo = hf['central_galaxy/Mhalo'][:]\n",
    "        satellite_mstar = hf['satellite_galaxies/Mstar'][:]\n",
    "        satellite_msub = hf['satellite_galaxies/Msub'][:]\n",
    "        # satellite_mhalo = hf['satellite_galaxies/Mhalo'][:]\n",
    "        central_pos  = hf['central_galaxy/pos'][:]\n",
    "        satellite_pos = hf['satellite_galaxies/pos'][:]\n",
    "        satellite_vel = hf['satellite_galaxies/vel'][:]\n",
    "        # is_MW_central = hf['satellite_galaxies/is_MW_central'][:]\n",
    "        # Last snapshot at which the galaxy is a FOF central subhalo. Different from Galform definition of central galaxy.\n",
    "        # satellite_snap_last_FOF_central = hf['satellite_galaxies/snap_last_FOF_central'][:]\n",
    "        # Last snapshot at which the galaxy was a central.\n",
    "        # satellite_snap_last_central = hf[\"satellite_galaxies/snap_last_central\"][:]\n",
    "        # satellite_type = hf[\"satellite_galaxies/type\"][:]\n",
    "        destruction = hf[\"tidal_disruption/destroyed_orbit_interpolation\"][:]\n",
    "    print(\"d<300,m>0 satellite num=\", len(satellite_mstar))\n",
    "    print(\"d<300,m>100 satellite num=\", sum(satellite_mstar[:,0]>100))\n",
    "    \n",
    "    # R200 = 227.2 * (central_Mhalo/1.252e12)**0.3333\n",
    "    is_satellite = np.logical_and(satellite_mstar[:,0]>mass_min, destruction==False)\n",
    "    if after_destruction:\n",
    "        satellite_mstar = satellite_mstar[is_satellite]\n",
    "        satellite_pos = satellite_pos[is_satellite]\n",
    "        satellite_vel = satellite_vel[is_satellite]\n",
    "    print(\"d<300,m>100 after destruction satellite num=\", sum(is_satellite))\n",
    "    return satellite_msub, satellite_mstar, satellite_pos, satellite_vel, central_pos,central_Mhalo"
   ]
  },
  {
   "cell_type": "code",
   "execution_count": 6,
   "metadata": {},
   "outputs": [],
   "source": [
    "h = 0.6776999831199646"
   ]
  },
  {
   "cell_type": "code",
   "execution_count": 5,
   "metadata": {},
   "outputs": [
    {
     "ename": "NameError",
     "evalue": "name 'read_data' is not defined",
     "output_type": "error",
     "traceback": [
      "\u001b[0;31m---------------------------------------------------------------------------\u001b[0m",
      "\u001b[0;31mNameError\u001b[0m                                 Traceback (most recent call last)",
      "Cell \u001b[0;32mIn[5], line 9\u001b[0m\n\u001b[1;32m      7\u001b[0m \u001b[39melif\u001b[39;00m simulation \u001b[39m==\u001b[39m\u001b[39m'\u001b[39m\u001b[39mzcut7\u001b[39m\u001b[39m'\u001b[39m:\n\u001b[1;32m      8\u001b[0m     file \u001b[39m=\u001b[39m \u001b[39m\"\u001b[39m\u001b[39m/home/zhaox/Magpie/Destruction/satellite_orbits_Galform/M\u001b[39m\u001b[39m\"\u001b[39m \u001b[39m+\u001b[39m \u001b[39mstr\u001b[39m(simulation_num) \u001b[39m+\u001b[39m \u001b[39m\"\u001b[39m\u001b[39m_MR.hdf5\u001b[39m\u001b[39m\"\u001b[39m\n\u001b[0;32m----> 9\u001b[0m satellite_msub, satellite_mstar, satellite_pos, satellite_vel, central_pos,central_Mhalo \u001b[39m=\u001b[39m read_data(file, after_destruction\u001b[39m=\u001b[39m\u001b[39mFalse\u001b[39;00m)\n\u001b[1;32m     10\u001b[0m sort \u001b[39m=\u001b[39m np\u001b[39m.\u001b[39margsort(satellite_mstar[:,\u001b[39m0\u001b[39m])[::\u001b[39m-\u001b[39m\u001b[39m1\u001b[39m] \u001b[39m# 大到小\u001b[39;00m\n\u001b[1;32m     11\u001b[0m satellite_pos \u001b[39m=\u001b[39m satellite_pos[sort]\n",
      "\u001b[0;31mNameError\u001b[0m: name 'read_data' is not defined"
     ]
    }
   ],
   "source": [
    "simulation_num = 1\n",
    "simulation = 'zcut7'\n",
    "# simulation = '7DM_GAS'\n",
    "simulation_name = 'M' + str(simulation_num) + '_' + simulation\n",
    "if simulation == '7DM_GAS':\n",
    "    file = \"/home/zhaox/Magpie/Destruction/satellite_orbits_Galform/M\" + str(simulation_num) + \"_7DM_GAS.hdf5\"\n",
    "elif simulation =='zcut7':\n",
    "    file = \"/home/zhaox/Magpie/Destruction/satellite_orbits_Galform/M\" + str(simulation_num) + \"_MR.hdf5\"\n",
    "satellite_msub, satellite_mstar, satellite_pos, satellite_vel, central_pos,central_Mhalo = read_data(file, after_destruction=False)\n",
    "sort = np.argsort(satellite_mstar[:,0])[::-1] # 大到小\n",
    "satellite_pos = satellite_pos[sort]\n",
    "satellite_vel = satellite_vel[sort]\n",
    "satellite_mstar = satellite_mstar[sort]\n",
    "satellite_msub = satellite_msub[sort]\n",
    "print(\"central_Mhalo=%e\"%central_Mhalo[0])\n",
    "print(\"satellite_msub=\",satellite_msub[:,0])"
   ]
  },
  {
   "cell_type": "code",
   "execution_count": 8,
   "metadata": {},
   "outputs": [
    {
     "data": {
      "text/plain": [
       "array([27.89449692, 38.13427734, 25.12496567])"
      ]
     },
     "execution_count": 8,
     "metadata": {},
     "output_type": "execute_result"
    }
   ],
   "source": [
    "central_pos[0]/1000*h"
   ]
  },
  {
   "cell_type": "code",
   "execution_count": 8,
   "metadata": {},
   "outputs": [
    {
     "name": "stdout",
     "output_type": "stream",
     "text": [
      "r200 =  0.13329083\n",
      "center pos: [47.606144 49.335148 20.3374  ] satellite num =  24\n"
     ]
    }
   ],
   "source": [
    "\n",
    "maxn = 1000\n",
    "file_num = simulation_num\n",
    "h = cosmo.h\n",
    "# r = 0.13329083*1000/h\n",
    "r = 350\n",
    "\n",
    "simulation_name = 'M' + str(file_num)+'_' +simulation\n",
    "# simulation_name = '7DM_GAS'\n",
    "hydro_R200, hydro_M200, hydro_satellite_data, hydro_pos, hydro_vel = read_hydro(file_num, simulation,maxn)\n",
    "# galform_satellite_data, galform_pos, galform_vel = read_galform(file_num, simulation,maxn, r=r)"
   ]
  },
  {
   "cell_type": "code",
   "execution_count": 9,
   "metadata": {},
   "outputs": [
    {
     "data": {
      "text/plain": [
       "0.13329083"
      ]
     },
     "execution_count": 9,
     "metadata": {},
     "output_type": "execute_result"
    }
   ],
   "source": [
    "hydro_R200"
   ]
  },
  {
   "cell_type": "code",
   "execution_count": 11,
   "metadata": {},
   "outputs": [
    {
     "name": "stdout",
     "output_type": "stream",
     "text": [
      "1\n",
      "2\n",
      "3\n",
      "4\n",
      "5\n"
     ]
    }
   ],
   "source": [
    "for i in range(1,6,1):\n",
    "    print(i)"
   ]
  },
  {
   "cell_type": "code",
   "execution_count": 12,
   "metadata": {},
   "outputs": [
    {
     "name": "stdout",
     "output_type": "stream",
     "text": [
      "r200 =  0.13329083\n",
      "center pos: [47.606144 49.335148 20.3374  ] satellite num =  24\n",
      "r200 =  0.13497305\n",
      "center pos: [47.57527  49.336098 20.316504] satellite num =  31\n",
      "r200 =  0.1473333\n",
      "center pos: [26.079184 31.32167  42.181503] satellite num =  30\n",
      "r200 =  0.14724852\n",
      "center pos: [26.076216 31.32041  42.159283] satellite num =  29\n",
      "r200 =  0.15836081\n",
      "center pos: [48.15624  33.671974 47.70441 ] satellite num =  29\n",
      "r200 =  0.15805022\n",
      "center pos: [48.16409  33.67621  47.680977] satellite num =  32\n",
      "r200 =  0.13992597\n",
      "center pos: [27.894497 38.134277 25.124966] satellite num =  32\n",
      "r200 =  0.1446742\n",
      "center pos: [27.876484 38.108208 25.096678] satellite num =  29\n",
      "r200 =  0.100427255\n",
      "center pos: [38.66934 22.42929 45.06645] satellite num =  11\n",
      "r200 =  0.099346854\n",
      "center pos: [38.662483 22.43605  45.048016] satellite num =  14\n"
     ]
    }
   ],
   "source": [
    "central_R200 = []\n",
    "for i in range(1,6,1):\n",
    "    file_num = i\n",
    "    simulation = 'zcut7'\n",
    "    simulation_name = 'M' + str(file_num)+'_' +simulation\n",
    "    hydro_R200, hydro_M200, hydro_satellite_data, hydro_pos, hydro_vel = read_hydro(file_num, simulation,maxn)\n",
    "    central_R200.append(hydro_R200)\n",
    "    simulation = '7DM_GAS'\n",
    "    simulation_name = 'M' + str(file_num)+'_' +simulation\n",
    "    hydro_R200, hydro_M200, hydro_satellite_data, hydro_pos, hydro_vel = read_hydro(file_num, simulation,maxn)\n",
    "    central_R200.append(hydro_R200)"
   ]
  },
  {
   "cell_type": "code",
   "execution_count": 13,
   "metadata": {},
   "outputs": [],
   "source": [
    "np.savetxt('/home/zhaox/app/after_destruction/central_R200.txt', np.array(central_R200))"
   ]
  },
  {
   "cell_type": "code",
   "execution_count": 14,
   "metadata": {},
   "outputs": [
    {
     "data": {
      "text/plain": [
       "[0.13329083,\n",
       " 0.13497305,\n",
       " 0.1473333,\n",
       " 0.14724852,\n",
       " 0.15836081,\n",
       " 0.15805022,\n",
       " 0.13992597,\n",
       " 0.1446742,\n",
       " 0.100427255,\n",
       " 0.099346854]"
      ]
     },
     "execution_count": 14,
     "metadata": {},
     "output_type": "execute_result"
    }
   ],
   "source": [
    "central_R200"
   ]
  },
  {
   "cell_type": "code",
   "execution_count": 10,
   "metadata": {},
   "outputs": [
    {
     "name": "stdout",
     "output_type": "stream",
     "text": [
      "center pos: [27.894497 38.134277 25.124966]\n",
      "Galform Mhalo=1.098704e+12\n",
      "Galaxy num =  1212 satellite num =  145\n"
     ]
    }
   ],
   "source": [
    "galform_Mhhalo, galform_satellite_data, galform_pos, galform_vel = read_galform(file_num, simulation,maxn, r=r)"
   ]
  },
  {
   "cell_type": "code",
   "execution_count": 11,
   "metadata": {},
   "outputs": [
    {
     "data": {
      "text/plain": [
       "array([ 0,  2,  1,  8, 12, 10,  7,  6, 19, 15, 28, 11, 34, 20, 23, 32, 84,\n",
       "       39, 52, 33, 75, 30, 63, 49, 41, 85, 66, 67, 83, 42, 31, 89])"
      ]
     },
     "execution_count": 11,
     "metadata": {},
     "output_type": "execute_result"
    }
   ],
   "source": [
    "pos_match(hydro_pos, galform_pos)"
   ]
  },
  {
   "cell_type": "code",
   "execution_count": 12,
   "metadata": {},
   "outputs": [
    {
     "name": "stdout",
     "output_type": "stream",
     "text": [
      "before destruction:\n"
     ]
    },
    {
     "data": {
      "text/plain": [
       "array([ 0,  2,  1,  8, 12, 10,  7,  6, 18, 15, 26, 11, 32, 19, 22, 30, 81,\n",
       "       36, 49, 31, 72, 28, 60, 46, 38, 82, 63, 64, 80, 39, 29, 86])"
      ]
     },
     "execution_count": 12,
     "metadata": {},
     "output_type": "execute_result"
    }
   ],
   "source": [
    "print(\"before destruction:\")\n",
    "pos_match(hydro_pos, satellite_pos[:,0])"
   ]
  },
  {
   "cell_type": "code",
   "execution_count": 21,
   "metadata": {},
   "outputs": [
    {
     "name": "stdout",
     "output_type": "stream",
     "text": [
      "hf.keys() <KeysViewHDF5 ['central_galaxy', 'header_info', 'metadata', 'satellite_galaxies', 'tidal_disruption']>\n",
      "d<300,m>0 satellite num= 149\n",
      "d<300,m>100 satellite num= 142\n",
      "d<300,m>100 after destruction satellite num= 93\n",
      "after destruction\n"
     ]
    },
    {
     "data": {
      "text/plain": [
       "array([ 0,  2,  1,  5,  9,  7,  4,  3, 11, 10, 17,  8, 23, 12, 14, 21, 52,\n",
       "       25, 31, 22, 47, 19, 40, 29, 26, 53, 41, 42, 51, -1, 20, 56])"
      ]
     },
     "execution_count": 21,
     "metadata": {},
     "output_type": "execute_result"
    }
   ],
   "source": [
    "satellite_msub, satellite_mstar, satellite_pos, satellite_vel, central_pos,central_Mhalo = read_data(file, after_destruction=True)\n",
    "sort = np.argsort(satellite_mstar[:,0])[::-1] # 大到小\n",
    "satellite_pos = satellite_pos[sort]\n",
    "satellite_vel = satellite_vel[sort]\n",
    "satellite_mstar = satellite_mstar[sort]\n",
    "print(\"after destruction\")\n",
    "\n",
    "pos_match(hydro_pos, satellite_pos[:,0])"
   ]
  },
  {
   "cell_type": "code",
   "execution_count": 14,
   "metadata": {},
   "outputs": [
    {
     "name": "stdout",
     "output_type": "stream",
     "text": [
      "M4_zcut7:\n",
      "halo mass--------------\n",
      "Hydro M200=9.399319e+11\n",
      "Galform central mchalo[0]=1.098704e+12\n",
      "Galform mhhalo=1.098704e+12\n"
     ]
    }
   ],
   "source": [
    "print(simulation_name+\":\")\n",
    "# print(\"star mass--------------\")\n",
    "# print(\"Galform star mass=%e:\"%(galform_satellite_data.loc[0]['mass']))\n",
    "# print(\"hydro massType[:,4]=%e:\"%(hydro_satellite_data.loc[0]['mass']))\n",
    "print(\"halo mass--------------\")\n",
    "print(\"Hydro M200=%e\"%(hydro_M200 * 10**10/h) )\n",
    "print(\"Galform central mchalo[0]=%e\"%(central_Mhalo[0]))\n",
    "print(\"Galform mhhalo=%e\"%galform_Mhhalo)"
   ]
  },
  {
   "cell_type": "code",
   "execution_count": 15,
   "metadata": {},
   "outputs": [
    {
     "data": {
      "text/html": [
       "<div>\n",
       "<style scoped>\n",
       "    .dataframe tbody tr th:only-of-type {\n",
       "        vertical-align: middle;\n",
       "    }\n",
       "\n",
       "    .dataframe tbody tr th {\n",
       "        vertical-align: top;\n",
       "    }\n",
       "\n",
       "    .dataframe thead th {\n",
       "        text-align: right;\n",
       "    }\n",
       "</style>\n",
       "<table border=\"1\" class=\"dataframe\">\n",
       "  <thead>\n",
       "    <tr style=\"text-align: right;\">\n",
       "      <th></th>\n",
       "      <th>id</th>\n",
       "      <th>mass</th>\n",
       "      <th>distance[kpc]</th>\n",
       "      <th>x[kpc]</th>\n",
       "      <th>y[kpc]</th>\n",
       "      <th>z[kpc]</th>\n",
       "      <th>vx[km/s]</th>\n",
       "      <th>vy[km/s]</th>\n",
       "      <th>vz[km/s]</th>\n",
       "    </tr>\n",
       "  </thead>\n",
       "  <tbody>\n",
       "    <tr>\n",
       "      <th>0</th>\n",
       "      <td>518</td>\n",
       "      <td>1.762396e+10</td>\n",
       "      <td>0.000000</td>\n",
       "      <td>0.000000</td>\n",
       "      <td>0.000000</td>\n",
       "      <td>0.000000</td>\n",
       "      <td>0.000000</td>\n",
       "      <td>0.000000</td>\n",
       "      <td>0.000000</td>\n",
       "    </tr>\n",
       "    <tr>\n",
       "      <th>6</th>\n",
       "      <td>526</td>\n",
       "      <td>2.000817e+09</td>\n",
       "      <td>72.785532</td>\n",
       "      <td>46.324219</td>\n",
       "      <td>54.523438</td>\n",
       "      <td>13.378906</td>\n",
       "      <td>41.865532</td>\n",
       "      <td>-85.956444</td>\n",
       "      <td>17.960556</td>\n",
       "    </tr>\n",
       "    <tr>\n",
       "      <th>138</th>\n",
       "      <td>668</td>\n",
       "      <td>5.498566e+07</td>\n",
       "      <td>263.879453</td>\n",
       "      <td>-224.996094</td>\n",
       "      <td>135.566406</td>\n",
       "      <td>-25.117188</td>\n",
       "      <td>2.563797</td>\n",
       "      <td>-93.290306</td>\n",
       "      <td>103.900299</td>\n",
       "    </tr>\n",
       "    <tr>\n",
       "      <th>3</th>\n",
       "      <td>522</td>\n",
       "      <td>3.277911e+07</td>\n",
       "      <td>265.305294</td>\n",
       "      <td>-139.332031</td>\n",
       "      <td>-193.855469</td>\n",
       "      <td>115.730469</td>\n",
       "      <td>41.274109</td>\n",
       "      <td>-47.771118</td>\n",
       "      <td>59.093048</td>\n",
       "    </tr>\n",
       "    <tr>\n",
       "      <th>47</th>\n",
       "      <td>571</td>\n",
       "      <td>2.266948e+07</td>\n",
       "      <td>5.766055</td>\n",
       "      <td>2.843750</td>\n",
       "      <td>1.722656</td>\n",
       "      <td>-4.710938</td>\n",
       "      <td>64.780617</td>\n",
       "      <td>284.278381</td>\n",
       "      <td>-53.185791</td>\n",
       "    </tr>\n",
       "    <tr>\n",
       "      <th>...</th>\n",
       "      <td>...</td>\n",
       "      <td>...</td>\n",
       "      <td>...</td>\n",
       "      <td>...</td>\n",
       "      <td>...</td>\n",
       "      <td>...</td>\n",
       "      <td>...</td>\n",
       "      <td>...</td>\n",
       "      <td>...</td>\n",
       "    </tr>\n",
       "    <tr>\n",
       "      <th>94</th>\n",
       "      <td>619</td>\n",
       "      <td>1.529018e+02</td>\n",
       "      <td>34.071756</td>\n",
       "      <td>-27.257812</td>\n",
       "      <td>18.113281</td>\n",
       "      <td>9.476562</td>\n",
       "      <td>-38.814651</td>\n",
       "      <td>-74.841469</td>\n",
       "      <td>72.707275</td>\n",
       "    </tr>\n",
       "    <tr>\n",
       "      <th>23</th>\n",
       "      <td>544</td>\n",
       "      <td>1.479329e+02</td>\n",
       "      <td>174.047644</td>\n",
       "      <td>-48.023438</td>\n",
       "      <td>36.144531</td>\n",
       "      <td>-163.339844</td>\n",
       "      <td>108.650002</td>\n",
       "      <td>33.424301</td>\n",
       "      <td>81.643982</td>\n",
       "    </tr>\n",
       "    <tr>\n",
       "      <th>130</th>\n",
       "      <td>657</td>\n",
       "      <td>1.454682e+02</td>\n",
       "      <td>20.647183</td>\n",
       "      <td>-13.628906</td>\n",
       "      <td>-15.484375</td>\n",
       "      <td>-0.890625</td>\n",
       "      <td>31.838280</td>\n",
       "      <td>-6.894653</td>\n",
       "      <td>-0.128601</td>\n",
       "    </tr>\n",
       "    <tr>\n",
       "      <th>37</th>\n",
       "      <td>561</td>\n",
       "      <td>1.403359e+02</td>\n",
       "      <td>151.285999</td>\n",
       "      <td>-22.628906</td>\n",
       "      <td>149.359375</td>\n",
       "      <td>-8.195312</td>\n",
       "      <td>-58.291443</td>\n",
       "      <td>23.287994</td>\n",
       "      <td>-24.920792</td>\n",
       "    </tr>\n",
       "    <tr>\n",
       "      <th>136</th>\n",
       "      <td>664</td>\n",
       "      <td>1.048427e+02</td>\n",
       "      <td>5.381148</td>\n",
       "      <td>-1.480469</td>\n",
       "      <td>-3.652344</td>\n",
       "      <td>3.664062</td>\n",
       "      <td>132.644623</td>\n",
       "      <td>-184.099503</td>\n",
       "      <td>-17.422104</td>\n",
       "    </tr>\n",
       "  </tbody>\n",
       "</table>\n",
       "<p>146 rows × 9 columns</p>\n",
       "</div>"
      ],
      "text/plain": [
       "      id          mass  distance[kpc]      x[kpc]      y[kpc]      z[kpc]  \\\n",
       "0    518  1.762396e+10       0.000000    0.000000    0.000000    0.000000   \n",
       "6    526  2.000817e+09      72.785532   46.324219   54.523438   13.378906   \n",
       "138  668  5.498566e+07     263.879453 -224.996094  135.566406  -25.117188   \n",
       "3    522  3.277911e+07     265.305294 -139.332031 -193.855469  115.730469   \n",
       "47   571  2.266948e+07       5.766055    2.843750    1.722656   -4.710938   \n",
       "..   ...           ...            ...         ...         ...         ...   \n",
       "94   619  1.529018e+02      34.071756  -27.257812   18.113281    9.476562   \n",
       "23   544  1.479329e+02     174.047644  -48.023438   36.144531 -163.339844   \n",
       "130  657  1.454682e+02      20.647183  -13.628906  -15.484375   -0.890625   \n",
       "37   561  1.403359e+02     151.285999  -22.628906  149.359375   -8.195312   \n",
       "136  664  1.048427e+02       5.381148   -1.480469   -3.652344    3.664062   \n",
       "\n",
       "       vx[km/s]    vy[km/s]    vz[km/s]  \n",
       "0      0.000000    0.000000    0.000000  \n",
       "6     41.865532  -85.956444   17.960556  \n",
       "138    2.563797  -93.290306  103.900299  \n",
       "3     41.274109  -47.771118   59.093048  \n",
       "47    64.780617  284.278381  -53.185791  \n",
       "..          ...         ...         ...  \n",
       "94   -38.814651  -74.841469   72.707275  \n",
       "23   108.650002   33.424301   81.643982  \n",
       "130   31.838280   -6.894653   -0.128601  \n",
       "37   -58.291443   23.287994  -24.920792  \n",
       "136  132.644623 -184.099503  -17.422104  \n",
       "\n",
       "[146 rows x 9 columns]"
      ]
     },
     "execution_count": 15,
     "metadata": {},
     "output_type": "execute_result"
    }
   ],
   "source": [
    "galform_satellite_data"
   ]
  },
  {
   "cell_type": "code",
   "execution_count": 16,
   "metadata": {},
   "outputs": [
    {
     "data": {
      "text/plain": [
       "(149, 199, 3)"
      ]
     },
     "execution_count": 16,
     "metadata": {},
     "output_type": "execute_result"
    }
   ],
   "source": [
    "satellite_pos.shape"
   ]
  },
  {
   "cell_type": "code",
   "execution_count": 17,
   "metadata": {},
   "outputs": [],
   "source": [
    "dis_l = np.zeros((len(satellite_pos)-1,199))\n",
    "for i in range(len(satellite_pos)-1):\n",
    "    for j in range(199):\n",
    "        dis_l[i][j] = np.linalg.norm(satellite_pos[i+1][j])"
   ]
  },
  {
   "cell_type": "code",
   "execution_count": 18,
   "metadata": {},
   "outputs": [],
   "source": [
    "parameter = np.loadtxt(\"/home/zhaox/Magpie/Galform/M1_7DM_GAS/output.times\")\n",
    "t = list(reversed(parameter[:,3]))\n",
    "lookbackTime = cosmo.age(0) - t"
   ]
  },
  {
   "cell_type": "code",
   "execution_count": 19,
   "metadata": {},
   "outputs": [],
   "source": [
    "# fig, ax = plt.subplots(figsize = (10,8))\n",
    "# # ax.plot(lookbackTime, dis_l[0], label = 'lmc')\n",
    "# # ax.plot(lookbackTime, dis_l[1], label = 'smc')\n",
    "# index = np.arange(0,11,1)\n",
    "\n",
    "# # index = latter_index\n",
    "# # index = original_index\n",
    "# # ax.plot(lookbackTime, R200, label = 'r200', linewidth = 5)\n",
    "# # ax.semilogy(lookbackTime, R200, label = 'r200', linewidth = 5)\n",
    "# ax.plot(lookbackTime, dis_l[0], label = '0')\n",
    "# ax.plot(lookbackTime, dis_l[1], label = '1')\n",
    "# ax.plot(lookbackTime, dis_l[2], label = '2')\n",
    "# ax.plot(lookbackTime, dis_l[3], label = '3')\n",
    "# ax.plot(lookbackTime, dis_l[4], label = '4')\n",
    "# ax.plot(lookbackTime, dis_l[5], label = '5')\n",
    "# # for i in range(satellite_num_r200):\n",
    "# # for i in born_infall_galaxy:\n",
    "#     # if bring_by_lmc[i] == True:\n",
    "#     #     ax.plot(lookbackTime, dis_l[i], color = 'black')\n",
    "#     # elif bring_by_smc[i] == True:\n",
    "#     #     ax.plot(lookbackTime, dis_l[i], color = 'red')\n",
    "#     # else:\n",
    "#     # ax.semilogy(lookbackTime, dis_l[i])\n",
    "#     # ax.plot(lookbackTime, dis_l[i])\n",
    "# ax.set_xlim(14,0)\n",
    "# ax.set_ybound(lower=0)\n",
    "# # ax.set_ylim(bottom=0)\n",
    "# # ax.set_ylim([1.e1, 1.e3])\n",
    "# ax.set_xlabel('lookback time/[Gyr]')\n",
    "# ax.set_ylabel('D/[kpc]')\n",
    "# ax.set_ylim(0,650)\n",
    "# plt.legend()\n",
    "# def lbtime2z(lbtime):\n",
    "#     t_universe = cosmo.age(0)\n",
    "#     z = cosmo.age(t_universe - lbtime, inverse = True)\n",
    "#     return [\"%.1f\" % z_ for z_ in z]\n",
    "\n",
    "\n",
    "# title = 'satellite distance evolution'\n",
    "# ax2 = ax.twiny()\n",
    "# ax2.set_xlim(ax.get_xlim())\n",
    "# new_tick_locations = np.array([0.01, cosmo.lookbackTime(0.2), cosmo.lookbackTime(0.5), cosmo.lookbackTime(1), cosmo.lookbackTime(2), cosmo.lookbackTime(3), cosmo.lookbackTime(5)])\n",
    "# ax2.minorticks_off()\n",
    "# ax2.set_xticks(new_tick_locations)\n",
    "# ax2.set_xticklabels(lbtime2z(new_tick_locations))\n",
    "# ax2.set_xlabel('z')\n",
    "\n",
    "# plt.suptitle(title)"
   ]
  }
 ],
 "metadata": {
  "kernelspec": {
   "display_name": "base",
   "language": "python",
   "name": "python3"
  },
  "language_info": {
   "codemirror_mode": {
    "name": "ipython",
    "version": 3
   },
   "file_extension": ".py",
   "mimetype": "text/x-python",
   "name": "python",
   "nbconvert_exporter": "python",
   "pygments_lexer": "ipython3",
   "version": "3.8.16"
  },
  "orig_nbformat": 4
 },
 "nbformat": 4,
 "nbformat_minor": 2
}
