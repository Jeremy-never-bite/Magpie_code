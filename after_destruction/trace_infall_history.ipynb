{
 "cells": [
  {
   "cell_type": "markdown",
   "metadata": {},
   "source": [
    "# Orbit extraction from Galform output  \n",
    "\n",
    "This Notebook calculates the orbits of all galaxies found within 300 kpc (distance can be changed) of the MW progenitor for the MAGPIE project. It follows the most massive progenitor of each $z=0$ galaxy. The code does the following steps (each one is implemented as one or more functions):  \n",
    "\n",
    "- Reads the most massive progenitor history and saves the position and velocity of this galaxy with respect to the MW progenitor. That is, the position and velocity of the MW analogue is 0 at each snapshot. **These are saved as `pos` and `vel` in the output hdf5 file.**  \n",
    "\n",
    "- For all the snapshots a galaxy is a satellite, either type 1 = with surviving subhalo or type 2 = with destroyed subhalo, it finds the position and velocity of the central galaxy according to Galform. **These are saved as `pos_central` and `vel_central` in the output file.** The dataset `is_MW_central` keeps track if the central galaxy is actually the MW progenitor.  \n",
    "\n",
    "- Reads the Subfind files to find the latest snapshot at which a galaxy is the central subhalo of an FOF halo. For that snapshot, it reads $M_{200~\\rm{crit}}$, $R_{200~\\rm{crit}}$ and $M_{2500~\\rm{crit}}$, $R_{2500~\\rm{crit}}$ and calculates the NFW concentration from those 4 values. This is the slowest bit of the code, probably because the Subfind files are split in too many files. \n",
    "\n",
    "**Note:** that a Galform central is different from a Subfind central subhalo. I think, in Galform a subhalo is a central galaxy as long as it hasn't entered the half mass radius of a more massive object. In Subfind, only the most massive subhalo in a FOF group is the central."
   ]
  },
  {
   "cell_type": "code",
   "execution_count": 79,
   "metadata": {},
   "outputs": [],
   "source": [
    "from matplotlib.backends.backend_pdf import PdfPages\n",
    "import h5py                                    # To open snapshots\n",
    "import numpy as np                             # Numerical library\n",
    "# For quickly finding all snapshot paths\n",
    "from glob import glob\n",
    "from pyread_eagle import EagleSnapshot         # Eagle read routine\n",
    "# Useful to get age of the universe and thus integration times\n",
    "from astropy.cosmology import FlatLambdaCDM\n",
    "# from eagle_database.database import Database   # Eagle database code\n",
    "\n",
    "# plotting\n",
    "import matplotlib.pyplot as plt\n",
    "from matplotlib import gridspec\n",
    "%matplotlib inline\n",
    "\n",
    "\n",
    "plt.style.use(\"./shao.mplstyle\")\n",
    "fontSize = 15\n",
    "lineWidth = 1.5\n",
    "\n",
    "colors = [u'#1f77b4', u'#ff7f0e', u'#2ca02c', u'#d62728', u'#9467bd', u'#8c564b', u'#e377c2', u'#7f7f7f',\n",
    "          u'#bcbd22', u'#17becf']\n"
   ]
  },
  {
   "cell_type": "code",
   "execution_count": 186,
   "metadata": {},
   "outputs": [],
   "source": [
    "from colossus.cosmology import cosmology\n",
    "from astropy.cosmology import z_at_value\n",
    "from astropy import units as unit\n",
    "from astropy.coordinates import SkyCoord\n",
    "params = {'flat': True, 'H0': 67.77, 'Om0': 0.307, 'Ob0': 0.04825, 'sigma8': 0.8288, 'ns': 0.9611}\n",
    "cosmology.addCosmology('planck14', params)\n",
    "cosmo = cosmology.setCosmology('planck14')"
   ]
  },
  {
   "cell_type": "markdown",
   "metadata": {},
   "source": [
    "## Parameters to select the satellites  \n",
    "\n",
    "Selects as satellites all the $z=0$ galaxies within the given distance from the central galaxy."
   ]
  },
  {
   "cell_type": "code",
   "execution_count": 80,
   "metadata": {},
   "outputs": [],
   "source": [
    "R_max = 300.  # physical kpc\n",
    "Mstar_min = 1.  # in solar masses\n"
   ]
  },
  {
   "cell_type": "markdown",
   "metadata": {},
   "source": [
    "## Path to the files used to read in the data and where to save the output  \n",
    "\n",
    "- The `systems` list can be used to select a subset of the haloes for which to run the calculations. If `systems = None` then it calculates the orbits for all the main haloes.  \n",
    "- The `central_index` is used to specify the index of the main galaxy at $z=0$. If `central_index = None` it selects the main galaxy with the largest halo mass, if a value `>=0` then it uses that `i-th` galaxy from the Galform file."
   ]
  },
  {
   "cell_type": "code",
   "execution_count": 81,
   "metadata": {},
   "outputs": [],
   "source": [
    "# specify for which entries below to calculate the satellite positions at each redshift\n",
    "#systems = [16, 17, 18, 19]\n",
    "systems = [0]\n",
    "\n",
    "# central galaxy index (i.e.) position in the Galform file (one entry per system)\n",
    "# only needed for the systems where the central is not a type=0 galaxy with the largest halo mass\n",
    "# index of the galaxy in the Galform file dataset 'Output001'\n",
    "centralIndeces = [\n",
    "    0,    # M1_zcut7\n",
    "    0,    # M2_zcut7\n",
    "    0,    # M3_zcut7\n",
    "    518,  # M4_zcut7\n",
    "    79,   # M5_zcut7\n",
    "    0,    # M1_7DM_GAS\n",
    "    387,  # M2_7DM_GAS\n",
    "    0,    # M3_7DM_GAS\n",
    "    581,  # M4_7DM_GAS\n",
    "    0,    # M5_7DM_GAS\n",
    "    0,    # M1_MR_DMO\n",
    "    0,    # M2_MR_DMO\n",
    "    0,    # M3_MR_DMO\n",
    "    597,  # M4_MR_DMO\n",
    "    109,  # M5_MR_DMO\n",
    "    0,    # M1_HR_DMO\n",
    "    0,    # M2_HR_DMO\n",
    "    0,    # M3_HR_DMO\n",
    "    596,  # M4_HR_DMO\n",
    "    0     # M5_HR_DMO\n",
    "]\n",
    "\n",
    "# path to the input files\n",
    "root_galaxyFiles = \"/home/zhaox/Magpie/Galform/\"\n",
    "list_galaxyFiles = [\n",
    "    \"M1_zcut7/galaxies.hdf5\",\n",
    "    \"M2_zcut7/galaxies.hdf5\",\n",
    "    \"M3_zcut7/galaxies.hdf5\",\n",
    "    \"M4_zcut7/galaxies.hdf5\",\n",
    "    \"M5_zcut7/galaxies.hdf5\",\n",
    "    \"M1_7DM_GAS/galaxies.hdf5\",\n",
    "    \"M2_7DM_GAS/galaxies.hdf5\",\n",
    "    \"M3_7DM_GAS/galaxies.hdf5\",\n",
    "    \"M4_7DM_GAS/galaxies.hdf5\",\n",
    "    \"M5_7DM_GAS/galaxies.hdf5\",\n",
    "    \"M1_MR_DMO/galaxies.hdf5\",\n",
    "    \"M2_MR_DMO/galaxies.hdf5\",\n",
    "    \"M3_MR_DMO/galaxies.hdf5\",\n",
    "    \"M4_MR_DMO/galaxies.hdf5\",\n",
    "    \"M5_MR_DMO/galaxies.hdf5\",\n",
    "    \"M1_HR_DMO/galaxies.hdf5\",\n",
    "    \"M2_HR_DMO/galaxies.hdf5\",\n",
    "    \"M3_HR_DMO/galaxies.hdf5\",\n",
    "    \"M4_HR_DMO/galaxies.hdf5\",\n",
    "    \"M5_HR_DMO/galaxies.hdf5\"\n",
    "]\n",
    "\n",
    "# path to the input particle data files\n",
    "root_subhaloFiles = \"/home/zhaox/Magpie/\"\n",
    "list_subhaloFiles = [\n",
    "    \"M1_zcut7/groups_%03i_z???p???/\",\n",
    "    \"M2_zcut7/groups_%03i_z???p???/\",\n",
    "    \"M3_zcut7/groups_%03i_z???p???/\",\n",
    "    \"M4_zcut7/groups_%03i_z???p???/\",\n",
    "    \"M5_zcut7/groups_%03i_z???p???/\",\n",
    "    \"M1_7DM_GAS/groups_%03i_z???p???/\",\n",
    "    \"M2_7DM_GAS/groups_%03i_z???p???/\",\n",
    "    \"M3_7DM_GAS/groups_%03i_z???p???/\",\n",
    "    \"M4_7DM_GAS/groups_%03i_z???p???/\",\n",
    "    \"M5_7DM_GAS/groups_%03i_z???p???/\",\n",
    "    \"M1_MR_DMO/groups_%03i_z???p???/\",\n",
    "    \"M2_MR_DMO/groups_%03i_z???p???/\",\n",
    "    \"M3_MR_DMO/groups_%03i_z???p???/\",\n",
    "    \"M4_MR_DMO/groups_%03i_z???p???/\",\n",
    "    \"M5_MR_DMO/groups_%03i_z???p???/\",\n",
    "    \"M1_HR_DMO/groups_%03i_z???p???/\",\n",
    "    \"M2_HR_DMO/groups_%03i_z???p???/\",\n",
    "    \"M3_HR_DMO/groups_%03i_z???p???/\",\n",
    "    \"M4_HR_DMO/groups_%03i_z???p???/\",\n",
    "    \"M5_HR_DMO/groups_%03i_z???p???/\"\n",
    "]\n",
    "\n",
    "# path to the output files\n",
    "root_outputFiles = \"./satellite_orbits_Galform/\"\n",
    "list_outputFiles = [\n",
    "    \"M1_MR.hdf5\",\n",
    "    \"M2_MR.hdf5\",\n",
    "    \"M3_MR.hdf5\",\n",
    "    \"M4_MR.hdf5\",\n",
    "    \"M5_MR.hdf5\",\n",
    "    \"M1_7DM_GAS.hdf5\",\n",
    "    \"M2_7DM_GAS.hdf5\",\n",
    "    \"M3_7DM_GAS.hdf5\",\n",
    "    \"M4_7DM_GAS.hdf5\",\n",
    "    \"M5_7DM_GAS.hdf5\",\n",
    "    \"M1_MR_DMO.hdf5\",\n",
    "    \"M2_MR_DMO.hdf5\",\n",
    "    \"M3_MR_DMO.hdf5\",\n",
    "    \"M4_MR_DMO.hdf5\",\n",
    "    \"M5_MR_DMO.hdf5\",\n",
    "    \"M1_HR_DMO.hdf5\",\n",
    "    \"M2_HR_DMO.hdf5\",\n",
    "    \"M3_HR_DMO.hdf5\",\n",
    "    \"M4_HR_DMO.hdf5\",\n",
    "    \"M5_HR_DMO.hdf5\"\n",
    "]\n",
    "\n",
    "# path to the output files for figures\n",
    "plotFigures = True\n",
    "root_plotFiles = root_outputFiles\n",
    "list_plotFiles = [\n",
    "    \"M1_MR_orbits.pdf\",\n",
    "    \"M2_MR_orbits.pdf\",\n",
    "    \"M3_MR_orbits.pdf\",\n",
    "    \"M4_MR_orbits.pdf\",\n",
    "    \"M5_MR_orbits.pdf\",\n",
    "    \"M1_7DM_GAS_orbits.pdf\",\n",
    "    \"M2_7DM_GAS_orbits.pdf\",\n",
    "    \"M3_7DM_GAS_orbits.pdf\",\n",
    "    \"M4_7DM_GAS_orbits.pdf\",\n",
    "    \"M5_7DM_GAS_orbits.pdf\",\n",
    "    \"M1_MR_DMO_orbits.pdf\",\n",
    "    \"M2_MR_DMO_orbits.pdf\",\n",
    "    \"M3_MR_DMO_orbits.pdf\",\n",
    "    \"M4_MR_DMO_orbits.pdf\",\n",
    "    \"M5_MR_DMO_orbits.pdf\",\n",
    "    \"M1_HR_DMO_orbits.pdf\",\n",
    "    \"M2_HR_DMO_orbits.pdf\",\n",
    "    \"M3_HR_DMO_orbits.pdf\",\n",
    "    \"M4_HR_DMO_orbits.pdf\",\n",
    "    \"M5_HR_DMO_orbits.pdf\"\n",
    "]\n",
    "\n",
    "if systems is None:\n",
    "    systems = list(range(len(centralIndeces)))\n"
   ]
  },
  {
   "cell_type": "markdown",
   "metadata": {},
   "source": [
    "## Various functions used when performing the calculation"
   ]
  },
  {
   "cell_type": "code",
   "execution_count": 82,
   "metadata": {},
   "outputs": [],
   "source": [
    "def findCentralGalaxy(hf):\n",
    "    \"\"\"Finds the central galaxy as the type=0 galaxy with the largest halo mass.\"\"\"\n",
    "    galType = np.array(hf['Output001/type'])\n",
    "    Mhalo = np.array(hf['Output001/mhhalo'])\n",
    "    Mhalo_max = Mhalo[galType == 0].max()\n",
    "    print(Mhalo[galType == 0][:20])\n",
    "    index = np.where((Mhalo == Mhalo_max) * (galType == 0))[0][0]\n",
    "    return index, Mhalo[index]\n",
    "\n",
    "\n",
    "def findSatellites(hf, centralIndex, maxDistance, minMstar):\n",
    "    \"\"\"Finds the satellites as all the galaxies within a given distance from the central galaxy.\"\"\"\n",
    "    pos = np.column_stack((np.array(hf['Output001/xgal']), np.array(hf['Output001/ygal']),\n",
    "                           np.array(hf['Output001/zgal'])))\n",
    "    Mstar = np.array(hf['Output001/mstars_bulge']) + \\\n",
    "        np.array(hf['Output001/mstars_disk'])\n",
    "    pos0 = pos[centralIndex]\n",
    "    pos = pos - pos0  # position relative to the central\n",
    "    dis = (pos**2).sum(axis=1)  # distance from the central\n",
    "    satellites = dis <= maxDistance**2\n",
    "    satellites[centralIndex] = False  # remove the central galaxy\n",
    "    satellites *= Mstar >= minMstar   # stellar mass selection\n",
    "    return np.where(satellites)[0]\n"
   ]
  },
  {
   "cell_type": "code",
   "execution_count": 83,
   "metadata": {
    "scrolled": true
   },
   "outputs": [],
   "source": [
    "# read all the positions at the selected output\n",
    "# find the closest central when normalized by virial radius\n",
    "# if central in current set, copy that info; if not read from the file\n",
    "# find second central if current central fall inside another halo not the MW progenitor\n",
    "\n",
    "\n",
    "def findHost(hf, sat_pos, out_index):\n",
    "    \"\"\"Finds the first central galaxy at the infall snapshot of a satellite.\"\"\"\n",
    "    dataset = 'Output%03i/' % (out_index+1)\n",
    "\n",
    "    # select central galaxies\n",
    "    temp_central = np.array(hf[dataset+'is_central'])\n",
    "    sel = temp_central == 1\n",
    "\n",
    "    # get the ids and positions of all centrals\n",
    "    temp_IDs = np.array(hf[dataset+'GalaxyID'])[sel]\n",
    "    temp_pos = np.column_stack((np.array(hf[dataset+'xgal']), np.array(hf[dataset+'ygal']),\n",
    "                                np.array(hf[dataset+'zgal'])))[sel]\n",
    "    temp_dis = ((temp_pos - sat_pos[None, :])**2).sum(axis=1)\n",
    "    temp_Rhalo = np.array(hf[dataset+'halo_r_virial'])[sel]\n",
    "\n",
    "    target = np.argmin(temp_dis / temp_Rhalo)\n",
    "    return temp_IDs[target]\n",
    "\n",
    "\n",
    "def findMergerTree_central(hf, sat_pos, out_index, MW_ID, MW_pos, MW_vel):\n",
    "    \"Finds the position and velocity of the central galaxy for satellites at each snapshot.\"\n",
    "    target_ID = findHost(hf, sat_pos, out_index)  # find the central at infall\n",
    "    matched = np.where(target_ID == MW_ID)[0]\n",
    "    if len(matched) >= 1:  # the satellite fell into the MW analogue\n",
    "        return MW_pos[:out_index+1], MW_vel[:out_index+1], True\n",
    "\n",
    "    # find the position and velocities of the central galaxy\n",
    "    pos = np.zeros((out_index+1, 3), np.float64)\n",
    "    vel = np.zeros((out_index+1, 3), np.float64)\n",
    "    MWa = np.zeros((out_index+1), bool)\n",
    "    for i in range(out_index, 0, -1):\n",
    "        dataset = 'Output%03i/' % (i+1)\n",
    "        temp_IDs = np.array(hf[dataset+'GalaxyID'])\n",
    "        sel = temp_IDs == target_ID  # select the target galaxy\n",
    "#         print(i, target_ID, sel.sum())\n",
    "\n",
    "        # check if it is central or not\n",
    "        if np.array(hf[dataset+'is_central'])[sel][0]:  # target galaxy is a central\n",
    "            target_ID = np.array(hf[dataset+'DescendantID'])[sel][0]\n",
    "            pos[i, 0] = np.array(hf[dataset+'xgal'])[sel]\n",
    "            pos[i, 1] = np.array(hf[dataset+'ygal'])[sel]\n",
    "            pos[i, 2] = np.array(hf[dataset+'zgal'])[sel]\n",
    "            vel[i, 0] = np.array(hf[dataset+'vxgal'])[sel]\n",
    "            vel[i, 1] = np.array(hf[dataset+'vygal'])[sel]\n",
    "            vel[i, 2] = np.array(hf[dataset+'vzgal'])[sel]\n",
    "        else:  # target galaxy is a satellite, so return position of its own central\n",
    "            sat_pos = np.column_stack((np.array(hf[dataset+'xgal']), np.array(hf[dataset+'ygal']),\n",
    "                                       np.array(hf[dataset+'zgal'])))[sel][0]\n",
    "            pos[:i+1], vel[:i+1], MWa[:i +\n",
    "                                      1] = findMergerTree_central(hf, sat_pos, i, MW_ID, MW_pos, MW_vel)\n",
    "            break\n",
    "    return pos, vel, MWa\n",
    "\n",
    "\n",
    "# with h5py.File( galaxyFile, 'r' ) as hf:\n",
    "#     gal_central_pos = np.zeros( (numObjs,numSnaps,3), np.float64 )\n",
    "#     gal_central_vel = np.zeros( (numObjs,numSnaps,3), np.float64 )\n",
    "#     gal_central_MW = np.zeros( (numObjs,numSnaps), bool )\n",
    "#     for j in range(1,numObjs):\n",
    "#         k = gal_indexCen[j] - 1\n",
    "#         if k < 0: # this is a central at z=0\n",
    "#             continue\n",
    "#         gal_central_pos[j,:k+1], gal_central_vel[j,:k+1], gal_central_MW[j,:k+1] = \\\n",
    "#                 findMergerTree_central(hf, gal_pos[j,k], k, gal_ID[0], gal_pos[0], gal_vel[0] )\n"
   ]
  },
  {
   "cell_type": "code",
   "execution_count": 84,
   "metadata": {},
   "outputs": [],
   "source": [
    "def readActualData(hf, numObjs, numSnaps, gal_ID_start, gal_ID_end):\n",
    "    \"\"\"Reads the data for the most massive progenitor of z=0 galaxies at each redshift they exist.\"\"\"\n",
    "    # quantities that store redshift info\n",
    "    # reserve memory for the main progenitor of each z=0 galaxy\n",
    "    gal_ID = -np.ones((numObjs, numSnaps), np.int64)\n",
    "    gal_type = -np.ones((numObjs, numSnaps), np.int32)\n",
    "    gal_pos = np.zeros((numObjs, numSnaps, 3), np.float64)\n",
    "    gal_vel = np.zeros((numObjs, numSnaps, 3), np.float64)\n",
    "    gal_Mstar = np.zeros((numObjs, numSnaps), np.float64)  # stellar mass\n",
    "    # half stellar mass radius\n",
    "    gal_RHalf = np.zeros((numObjs, numSnaps), np.float64)\n",
    "    gal_Mhalo = np.zeros((numObjs, numSnaps), np.float64)  # host halo mass\n",
    "    # subhalo index in Subfind catalogue\n",
    "    gal_subIndex = -np.ones((numObjs, numSnaps), np.int32)\n",
    "    # snapnum*10^12+filenum*10^8+gal_subIndex\n",
    "    gal_subID = -np.ones((numObjs, numSnaps), np.int64)\n",
    "\n",
    "    # loop over each snapshot and read the position and other properties of the main galaxy progenitor\n",
    "    print(\"\\tReading the info at each Galform output ...\")\n",
    "    for i in range(1, numSnaps+1):\n",
    "        dataset = 'Output%03i/' % i\n",
    "        if dataset[:-1] in hf.keys() and 'GalaxyID' in hf[dataset].keys():\n",
    "            temp_index = np.empty(numObjs, np.int32)\n",
    "            temp_ID = np.array(hf[dataset + 'GalaxyID'])\n",
    "            for j in range(numObjs):\n",
    "                current_index = np.where(\n",
    "                    (temp_ID >= gal_ID_start[j]) * (temp_ID <= gal_ID_end[j]))[0]\n",
    "                temp_index[j] = current_index[0] if len(\n",
    "                    current_index) > 0 else -1\n",
    "\n",
    "            # get the number of objects with a progenitor at this redshift\n",
    "            valid = temp_index >= 0\n",
    "            if valid.sum() == 0:  # no progenitor present\n",
    "                continue\n",
    "            if i % 10 == 0:\n",
    "                print(\"\\t\\toutput %i has %i progenitors\" % (i, valid.sum()))\n",
    "            temp_index = temp_index[valid]\n",
    "            gal_ID[:, i-1][valid] = temp_ID[temp_index]\n",
    "            gal_type[:, i -\n",
    "                     1][valid] = np.array(hf[dataset + 'type'])[temp_index]\n",
    "            gal_pos[:, i-1][valid] = np.column_stack((np.array(hf[dataset+'xgal']),\n",
    "                                                      np.array(\n",
    "                                                          hf[dataset+'ygal']),\n",
    "                                                      np.array(hf[dataset+'zgal'])))[temp_index]\n",
    "            gal_vel[:, i-1][valid] = np.column_stack((np.array(hf[dataset+'vxgal']),\n",
    "                                                      np.array(\n",
    "                                                          hf[dataset+'vygal']),\n",
    "                                                      np.array(hf[dataset+'vzgal'])))[temp_index]\n",
    "            # sum the bulge and disk stellar masses\n",
    "            gal_Mstar[:, i-1][valid] = np.array(hf[dataset + 'mstars_bulge'])[temp_index] + \\\n",
    "                np.array(hf[dataset + 'mstars_disk'])[temp_index]\n",
    "            # calculate the half stellar mass radius as a weighted mean of the bulge and disk values\n",
    "            gal_RHalf[:, i-1][valid] = (np.array(hf[dataset + 'mstars_bulge'])[temp_index] *\n",
    "                                        np.array(hf[dataset + 'rbulge'])[temp_index] +\n",
    "                                        np.array(hf[dataset + 'mstars_disk'])[temp_index] *\n",
    "                                        np.array(hf[dataset + 'rdisk'])[temp_index]) / \\\n",
    "                gal_Mstar[:, i-1][valid]\n",
    "            gal_Mhalo[:, i -\n",
    "                      1][valid] = np.array(hf[dataset + 'mchalo'])[temp_index]\n",
    "            gal_subIndex[:, i -\n",
    "                         1][valid] = np.array(hf[dataset + 'SubhaloIndex'])[temp_index]\n",
    "            gal_subID[:, i -\n",
    "                      1][valid] = np.array(hf[dataset + 'SubhaloID'])[temp_index]\n",
    "\n",
    "    return gal_ID, gal_type, gal_pos, gal_vel, gal_Mstar, gal_RHalf, gal_Mhalo, gal_subIndex, gal_subID\n",
    "\n",
    "\n",
    "def readGalformGalaxyData(galaxyFile, centralIndex, R_max, Mstar_min):\n",
    "    \"\"\"Reads the galaxy data within a Galform file. \n",
    "\n",
    "    Finds the most massive galaxy defined as the one with position 'centralIndex' \n",
    "    in the file and finds all its satellites, i.e. all galaxies within `R_max`\n",
    "    with stellar mass larger than `Mstar_min`. \n",
    "\n",
    "    Returns multiple properties of the satellites and of their most massive progenitor.\n",
    "\n",
    "    Also calculates the position and velocities of the central galaxy at each snapshot\n",
    "    for all satellite progenitors.\n",
    "    \"\"\"\n",
    "    with h5py.File(galaxyFile, 'r') as hf:\n",
    "        # read the cosmology and snapshot info\n",
    "        h = np.array(hf['Parameters/h0'])\n",
    "        Omega0 = np.array(hf['Parameters/omega0'])\n",
    "        OmegaB = np.array(hf['Parameters/omegab'])\n",
    "        print(\"\\tcosmological parameters (h, Omega_M, Omega_B): \", h, Omega0, OmegaB)\n",
    "\n",
    "        redshift = np.array(hf['Output_Times/zout'])\n",
    "        time = np.array(hf['Output_Times/tout'])\n",
    "        scale_factor = np.array(hf['Output_Times/aout'])\n",
    "        snap_number = np.array(hf['Output_Times/snapnum_out'])\n",
    "\n",
    "        # find the central galaxy\n",
    "        if centralIndex is None:\n",
    "            centralIndex, Mhalo_max = findCentralGalaxy(hf)\n",
    "            print(\"\\tcentral galaxy index and Mhalo/1.e12: \",\n",
    "                  centralIndex, Mhalo_max/1.e12/h)\n",
    "\n",
    "        # find the satellites\n",
    "        satelliteIndex = findSatellites(\n",
    "            hf, centralIndex, R_max/1.e3*h, Mstar_min*h)\n",
    "        print(\"\\tthere are %i satellites within %.0f kpc from the central and with Mstar above %.2e Msolar\"\n",
    "              % (satelliteIndex.shape[0], R_max, Mstar_min))\n",
    "\n",
    "        # Arrays for keeping track of info needed for identifying the most massive progenitor\n",
    "        numObjs = 1 + satelliteIndex.shape[0]\n",
    "        indices = np.hstack((centralIndex, satelliteIndex))\n",
    "        # first ID of each galaxy\n",
    "        gal_ID_start = np.array(hf['Output001/GalaxyID'])[indices]\n",
    "        # last main progenitor\n",
    "        gal_ID_end = np.array(hf['Output001/EndMainBranchID'])[indices]\n",
    "\n",
    "        # read the snapshot info\n",
    "        numSnaps = snap_number.shape[0]\n",
    "        print(\"\\tnumber of snapshots in the file: \", numSnaps)\n",
    "        gal_ID, gal_type, gal_pos, gal_vel, gal_Mstar, gal_RHalf, gal_Mhalo, gal_subIndex, gal_subID = \\\n",
    "            readActualData(hf, numObjs, numSnaps, gal_ID_start, gal_ID_end)\n",
    "\n",
    "        # find the pos and velocity of the central galaxy for satellites\n",
    "        # index at which the galaxy was last a central\n",
    "        # last a value when galaxy was central\n",
    "        gal_acHalo = np.array(hf['Output001/achalo'])[indices]\n",
    "        gal_indexCen = np.interp(\n",
    "            gal_acHalo, scale_factor[::-1], range(numSnaps)[::-1]).astype(np.int32)\n",
    "        # alternatively can do this\n",
    "        # gal_indexCen = np.argmin( np.abs(gal_acHalo[:, None] - scale_factor[None, :]), axis = 1)\n",
    "\n",
    "        gal_central_pos = np.zeros((numObjs, numSnaps, 3), np.float64)\n",
    "        gal_central_vel = np.zeros((numObjs, numSnaps, 3), np.float64)\n",
    "        gal_central_MW = np.zeros((numObjs, numSnaps), bool)\n",
    "        for j in range(1, numObjs):\n",
    "            k = gal_indexCen[j] - 1\n",
    "            if k < 0:  # this is a central at z=0\n",
    "                continue\n",
    "            gal_central_pos[j, :k+1], gal_central_vel[j, :k+1], gal_central_MW[j, :k+1] = \\\n",
    "                findMergerTree_central(\n",
    "                    hf, gal_pos[j, k], k, gal_ID[0], gal_pos[0], gal_vel[0])\n",
    "\n",
    "    return h, Omega0, OmegaB, redshift, time, scale_factor, snap_number, \\\n",
    "        gal_ID, gal_type, gal_pos, gal_vel, gal_Mstar, gal_RHalf, gal_Mhalo, gal_subIndex, gal_subID, \\\n",
    "        gal_indexCen, gal_central_pos, gal_central_vel, gal_central_MW\n"
   ]
  },
  {
   "cell_type": "code",
   "execution_count": 123,
   "metadata": {},
   "outputs": [],
   "source": [
    "# function for reading in the Subfind data\n",
    "def readSubhalomass(subhaloFile, gal_subID):\n",
    "    \"\"\"Reads the group data from a Subfind file.\"\"\"\n",
    "    subfile_basename = 'eagle_subfind_tab_???_z???p???.%i.hdf5'\n",
    "    # create array for subhalo mass\n",
    "    numObjs = gal_subID.shape[0]\n",
    "    numSnaps = gal_subID.shape[1]\n",
    "    gal_Msub = np.zeros((numObjs, numSnaps), np.float64)\n",
    "    gal_GroupNumber = np.zeros((numObjs, numSnaps), int)\n",
    "    gal_SubGroupNumber = np.zeros((numObjs, numSnaps), int)\n",
    "    for i in range(0, numObjs):\n",
    "        for j in range(0, numSnaps):\n",
    "            if j == 0 and i % 10 == 0:\n",
    "                print(\"\\t\\t %ith galaxy finished\" % (i))\n",
    "            if gal_subID[i, j] < 0:\n",
    "                continue\n",
    "            ID_temp = gal_subID[i, j]\n",
    "            a = divmod(ID_temp, 10**15)  # a[0] > 0 if no subhalo exists\n",
    "            b = divmod(a[1], 10**12)    # b[0] is snapnum\n",
    "            # c[0] is the file number and c[1] is the index of the subhalo\n",
    "            c = divmod(b[1], 10**8)\n",
    "            snapname = subhaloFile % b[0]\n",
    "            subfilename = snapname + subfile_basename\n",
    "            inputFiles = glob(subfilename % c[0])\n",
    "            # find and read the file\n",
    "            with h5py.File(inputFiles[0], 'r') as hf:\n",
    "                #           print( hf['Header'].attrs.keys() )    # returns the names of all the attributes in the header\n",
    "                HubbleParam = hf['Header'].attrs['HubbleParam']\n",
    "                numGroups = hf['Header'].attrs['TotNgroups']\n",
    "                numSubgroups = hf['Header'].attrs['TotNsubgroups']\n",
    "                gal_Msub[i, j] = np.array(\n",
    "                    hf['Subhalo/Mass'])[c[1]] * 1.e10 / HubbleParam\n",
    "                gal_GroupNumber[i, j] = np.array(hf['Subhalo/GroupNumber'])[c[1]]\n",
    "                gal_SubGroupNumber[i, j] = np.array(hf['Subhalo/SubGroupNumber'])[c[1]]\n",
    "    return gal_Msub, gal_GroupNumber, gal_SubGroupNumber\n",
    "\n",
    "# function for reading in the FoF data\n",
    "\n",
    "\n",
    "def readFOFHaloData(inputFile):\n",
    "    \"\"\"Reads the group data from a Subfind file.\"\"\"\n",
    "    inputFile = inputFile + 'eagle_subfind_tab_???_z???p???.*.hdf5'\n",
    "    inputFiles = glob(inputFile)\n",
    "    inputFiles.sort()\n",
    "\n",
    "    # read the total number of groups and subgroups in the file\n",
    "    with h5py.File(inputFiles[0], 'r') as hf:\n",
    "        #         print( hf['Header'].attrs.keys() )    # returns the names of all the attributes in the header\n",
    "        HubbleParam = hf['Header'].attrs['HubbleParam']\n",
    "        numGroups = hf['Header'].attrs['TotNgroups']\n",
    "        numSubgroups = hf['Header'].attrs['TotNsubgroups']\n",
    "        numFiles = len(inputFiles)\n",
    "#     print( \"The '%s' catalogue contains %i groups and %i subgroups that are saved in %i files.\" \\\n",
    "#           % (inputFiles[0], numGroups, numSubgroups, numFiles) )\n",
    "#     print( \"\\t\", inputFiles[0] )\n",
    "\n",
    "    # reserve numpy arrays to quickly read the data\n",
    "    M200 = np.empty(numGroups, np.float32)\n",
    "    R200 = np.empty(numGroups, np.float32)\n",
    "    M2500 = np.empty(numGroups, np.float32)\n",
    "    R2500 = np.empty(numGroups, np.float32)\n",
    "    pos = np.empty((numGroups, 3), np.float64)\n",
    "    numSubs = np.empty(numGroups, np.int32)\n",
    "\n",
    "    start, end = 0, 0\n",
    "    for i in range(numFiles):\n",
    "        with h5py.File(inputFiles[i], 'r') as hf:\n",
    "            end = start + hf['Header'].attrs['Ngroups']\n",
    "            if end > start:  # the file contains group data\n",
    "                M200[start:end] = np.array(\n",
    "                    hf['FOF/Group_M_Crit200']) * 1.e10 / HubbleParam\n",
    "                R200[start:end] = np.array(\n",
    "                    hf['FOF/Group_R_Crit200']) * 1.e3 / HubbleParam\n",
    "                M2500[start:end] = np.array(\n",
    "                    hf['FOF/Group_M_Crit2500']) * 1.e10 / HubbleParam\n",
    "                R2500[start:end] = np.array(\n",
    "                    hf['FOF/Group_R_Crit2500']) * 1.e3 / HubbleParam\n",
    "                pos[start:end] = np.array(hf['FOF/GroupCentreOfPotential'])\n",
    "                numSubs[start:end] = np.array(hf['FOF/NumOfSubhalos'])\n",
    "                start = end\n",
    "    sel = numSubs > 0\n",
    "    return M200[sel], R200[sel], M2500[sel], R2500[sel], pos[sel]\n",
    "\n",
    "\n",
    "def findNFWConcentration(M200, R200, M1, R1, cmin=1, cmax=50):\n",
    "    \"\"\"Calculate the NFW concentration given two enclosed mass measurements at two different radii.\"\"\"\n",
    "    def func(c): return M200 * (np.log(1.+c*R1/R200) - c *\n",
    "                                R1/(R200+c*R1)) / (np.log(1.+c) - c/(1.+c)) - M1\n",
    "    conc = np.logspace(np.log10(cmin), np.log10(cmax), 1000)\n",
    "    index = np.argmin(np.abs(func(conc)))\n",
    "    return conc[index]\n",
    "\n",
    "\n",
    "def readHaloProfile(inputFile, snap_number, gal_indexCen, gal_pos):\n",
    "    \"\"\"Finds for each satellite the snapshot at which it was a Subfind central.\n",
    "    At that time, reads in the M200, R200 as well as the 2500 values and calculates the NFW concentration.\"\"\"\n",
    "    # find all the satellites that were last centrals at each snapshot\n",
    "    # if any such objects, read in the SubFind files and get the M200, R200, Vmax and Rmax values\n",
    "    numObjs = gal_pos.shape[0]\n",
    "    numSnaps = gal_pos.shape[1]\n",
    "    gal_M200 = np.zeros(numObjs, np.float64)\n",
    "    gal_R200 = np.zeros(numObjs, np.float64)\n",
    "    gal_conc = np.zeros(numObjs, np.float64)\n",
    "\n",
    "    # there could be differences between the definition of a Galform central and Subfind central\n",
    "    # the code checks if a galaxy is a subfind central, and, if not,\n",
    "    # keeps track to check the subfind catalogue at the previous snapshot\n",
    "    gal_indexCen_sub = gal_indexCen.copy()\n",
    "\n",
    "    for i in range(0, numSnaps):\n",
    "        indices = np.where(gal_indexCen_sub == i)[0]\n",
    "        if len(indices) == 0:  # no centrals in this snapshot, so skip\n",
    "            continue\n",
    "        print(\"\\t\\tsnapshot\",\n",
    "              snap_number[i], \"searching host halo for:\", indices, end=\"\\n\")\n",
    "\n",
    "        # read the Subfind files -- read only M200, R200, Vmax and Rmax\n",
    "        subhaloFile = inputFile % snap_number[i]\n",
    "        M200, R200, M2500, R2500, pos = readFOFHaloData(subhaloFile)\n",
    "\n",
    "        # for each satellite that is a central for the last time at this snapshot, find its halo properties\n",
    "        for j in indices:\n",
    "            temp_dis = ((pos-gal_pos[j, i])**2).sum(axis=1)\n",
    "            temp_index = np.argmin(temp_dis)\n",
    "            if temp_dis[temp_index] < 1.e-6:  # subhalo coincides with group centre\n",
    "                gal_M200[j] = M200[temp_index]\n",
    "                gal_R200[j] = R200[temp_index]\n",
    "                gal_conc[j] = findNFWConcentration(M200[temp_index], R200[temp_index],\n",
    "                                                   M2500[temp_index], R2500[temp_index])\n",
    "            else:  # subhalo is not a subfind central, so check again at the previous snapshot\n",
    "                gal_indexCen_sub[j] += 1\n",
    "\n",
    "    return gal_M200, gal_R200, gal_conc, gal_indexCen_sub\n"
   ]
  },
  {
   "cell_type": "code",
   "execution_count": 86,
   "metadata": {},
   "outputs": [],
   "source": [
    "\n",
    "\n",
    "def writeSatelliteData(outputFile, gal_ID, gal_type, gal_pos, gal_vel, gal_Mstar, gal_Mhalo, gal_RHalf, gal_Msub,\n",
    "                       gal_M200, gal_R200, gal_conc, gal_snap_FOF_lastCentral,\n",
    "                       gal_snap_lastCentral, gal_central_pos, gal_central_vel, gal_central_MW,\n",
    "                       redshift, time, scale_factor, snap_number, h, Omega0, OmegaB):\n",
    "    \"\"\"Writes the central galaxy and satellite data in a hdf5 file.\"\"\"\n",
    "    with h5py.File(outputFile, 'w') as hf:\n",
    "        g1 = hf.create_group(\"header_info\")\n",
    "        d1 = g1.create_dataset('redshift', data=redshift, dtype='f4')\n",
    "        d1.attrs[\"description\"] = \"The redshift of each snapshot.\"\n",
    "        d1 = g1.create_dataset('time', data=time, dtype='f4')\n",
    "        d1.attrs[\"description\"] = \"The age of the universe in Gyrs at the time of the snapshot.\"\n",
    "        d1 = g1.create_dataset('scale_factor', data=scale_factor, dtype='f4')\n",
    "        d1.attrs[\"description\"] = \"The expansion factor at the given snapshot.\"\n",
    "        d1 = g1.create_dataset('snap_number', data=snap_number, dtype='i')\n",
    "        d1.attrs[\"description\"] = \"The snapshot number.\"\n",
    "        d1 = g1.create_dataset('h', data=h, dtype='f4')\n",
    "        d1.attrs[\"description\"] = \"The Hubble h0 value.\"\n",
    "        d1 = g1.create_dataset('Omega0', data=Omega0, dtype='f4')\n",
    "        d1.attrs[\"description\"] = \"The fractional amount of matter at z=0.\"\n",
    "        d1 = g1.create_dataset('OmegaB', data=OmegaB, dtype='f4')\n",
    "        d1.attrs[\"description\"] = \"The fractional amount of baryons at z=0.\"\n",
    "\n",
    "        # write the central galaxy data\n",
    "        g1 = hf.create_group(\"central_galaxy\")\n",
    "        d1 = g1.create_dataset('ID', data=gal_ID[0], dtype='i')\n",
    "        d1.attrs[\"description\"] = \"The Galform galaxy ID at each snapshot.\"\n",
    "        d1 = g1.create_dataset('pos', data=gal_pos[0], dtype='f8')\n",
    "        d1.attrs[\"description\"] = \"The galaxy pos (x,y,z) in physical kpc at each snapshot.\"\n",
    "        d1 = g1.create_dataset('vel', data=gal_vel[0], dtype='f8')\n",
    "        d1.attrs[\"description\"] = \"The galaxy velocity (Vx,Vy,Vz) in km/s at each snapshot.\"\n",
    "        d1 = g1.create_dataset('type', data=gal_type[0], dtype='i')\n",
    "        d1.attrs[\"description\"] = \"The galaxy type at each snapshot.\"\n",
    "        d1 = g1.create_dataset('Mstar', data=gal_Mstar[0], dtype='f8')\n",
    "        d1.attrs[\"description\"] = \"The galaxy stellar mass in Msolar at each snapshot.\"\n",
    "        d1 = g1.create_dataset('Mhalo', data=gal_Mhalo[0], dtype='f8')\n",
    "        d1.attrs[\"description\"] = \"The mass in Msolar of the host halo in last snapshot galaxy was a central.\"\n",
    "\n",
    "        # write the satellite galaxy data\n",
    "        g1 = hf.create_group(\"satellite_galaxies\")\n",
    "        d1 = g1.create_dataset('ID', data=gal_ID[1:], dtype='i')\n",
    "        d1.attrs[\"description\"] = \"The Galform galaxy ID at each snapshot.\"\n",
    "        d1 = g1.create_dataset('pos', data=gal_pos[1:], dtype='f8')\n",
    "        d1.attrs[\"description\"] = \"The galaxy pos (x,y,z) in physical kpc at each snapshot. Pos w.r.t. MW progenitor.\"\n",
    "        d1 = g1.create_dataset('vel', data=gal_vel[1:], dtype='f8')\n",
    "        d1.attrs[\"description\"] = \"The galaxy velocity (Vx,Vy,Vz) in km/s at each snapshot. Vel w.r.t. MW progenitor.\"\n",
    "        d1 = g1.create_dataset('snap_last_central',\n",
    "                               data=gal_snap_lastCentral[1:], dtype='i')\n",
    "        d1.attrs[\"description\"] = \"Last snapshot at which the galaxy was a central.\"\n",
    "        d1 = g1.create_dataset(\n",
    "            'pos_central', data=gal_central_pos[1:], dtype='f8')\n",
    "        d1.attrs[\"description\"] = \"The pos (x,y,z) of the central of this galaxy in physical kpc at each snapshot. Pos w.r.t. MW progenitor.\"\n",
    "        d1 = g1.create_dataset(\n",
    "            'vel_central', data=gal_central_vel[1:], dtype='f8')\n",
    "        d1.attrs[\"description\"] = \"The velocity (Vx,Vy,Vz) of the central of this galaxy in km/s at each snapshot. Vel w.r.t. MW progenitor.\"\n",
    "        d1 = g1.create_dataset(\n",
    "            'is_MW_central', data=gal_central_MW[1:], dtype=bool)\n",
    "        d1.attrs[\"description\"] = \"True if the central of this galaxy is the MW progenitor.\"\n",
    "        d1 = g1.create_dataset('type', data=gal_type[1:], dtype='i')\n",
    "        d1.attrs[\"description\"] = \"True if the central of this galaxy is the MW progenitor.\"\n",
    "        d1 = g1.create_dataset('RstarHalf', data=gal_RHalf[1:], dtype='f8')\n",
    "        d1.attrs[\n",
    "            \"description\"] = \"The half stellar mass radius of the galaxy at each snapshot (weighted mean of the disk and bulge values).\"\n",
    "        d1 = g1.create_dataset('Mstar', data=gal_Mstar[1:], dtype='f8')\n",
    "        d1.attrs[\"description\"] = \"The galaxy stellar mass in Msolar at each snapshot.\"\n",
    "        d1 = g1.create_dataset('Mhalo', data=gal_Mhalo[1:], dtype='f8')\n",
    "        d1.attrs[\"description\"] = \"The mass in Msolar of the host halo in last snapshot galaxy was a central.\"\n",
    "        d1 = g1.create_dataset('Msub', data=gal_Msub[1:], dtype='f8')\n",
    "        d1.attrs[\"description\"] = \"The mass of subhalo.\"\n",
    "\n",
    "        d1 = g1.create_dataset('M200', data=gal_M200[1:], dtype='f8')\n",
    "        d1.attrs[\"description\"] = \"The 200 rho_crit mass at last snapshot the galaxy is a central inside an FOF group.\"\n",
    "        d1 = g1.create_dataset('R200', data=gal_R200[1:], dtype='f8')\n",
    "        d1.attrs[\"description\"] = \"The 200 rho_crit radius at last snapshot the galaxy is a central inside an FOF group.\"\n",
    "        d1 = g1.create_dataset('conc', data=gal_conc[1:], dtype='f8')\n",
    "        d1.attrs[\"description\"] = \"The concentration at the last snapshot the galaxy is a central inside an FOF group.\"\n",
    "        d1 = g1.create_dataset('snap_last_FOF_central',\n",
    "                               data=gal_snap_FOF_lastCentral[1:], dtype='i')\n",
    "        d1.attrs[\"description\"] = \"Last snapshot at which the galaxy is a FOF central subhalo. Different from Galform definition of central galaxy.\"\n",
    "\n",
    "        grp = hf.create_group(\"metadata\")\n",
    "        grp.attrs[\"units\"] = np.string_(\n",
    "            \"Positions: kpc;  Velocities: km/s;  Masses: Msolar\")\n",
    "        grp.attrs[\"num_centrals\"] = 1\n",
    "        grp.attrs[\"num_satellites\"] = gal_ID.shape[0] - 1\n",
    "        grp.attrs[\"program_options\"] = \"Obtained using the 'Extract_orbit_history_from_Galfrom.ipynb' jupyter notebook\"\n"
   ]
  },
  {
   "cell_type": "code",
   "execution_count": 87,
   "metadata": {},
   "outputs": [],
   "source": [
    "def plotCentralGalaxy(time, gal_ID, gal_Mstar, gal_Mhalo, gal_pos, gal_vel):\n",
    "    s = gal_ID[0] >= 0  # select only valid entries\n",
    "\n",
    "    fig1 = plt.figure(figsize=(2*7.5, 3*5))\n",
    "    gs = gridspec.GridSpec(3, 2)\n",
    "    # fig1.suptitle( \"Position and velocity of the main galaxy\" )\n",
    "\n",
    "    ax1 = plt.subplot(gs[0])\n",
    "    plt.xlabel(r'time [Gyrs]')\n",
    "    plt.ylabel(r'M$_{\\star}$ [M$_{\\odot}$]')\n",
    "    plt.semilogy(time[s], gal_Mstar[0][s], '-', c=colors[0])\n",
    "    plt.scatter(time[s], gal_Mstar[0][s], c=time[s], s=20)\n",
    "\n",
    "    ax1 = plt.subplot(gs[1])\n",
    "    plt.xlabel(r'time [Gyrs]')\n",
    "    plt.ylabel(r'M$_{\\rm halo}$ [M$_{\\odot}$]')\n",
    "    plt.semilogy(time[s], gal_Mhalo[0][s], '-', c=colors[0])\n",
    "    plt.scatter(time[s], gal_Mhalo[0][s], c=time[s], s=20)\n",
    "\n",
    "    ax1 = plt.subplot(gs[2])\n",
    "    plt.xlabel('X [kpc]')\n",
    "    plt.ylabel('Y [kpc]')\n",
    "    pos_x = gal_pos[0, :, 0][s] - gal_pos[0, 0, 0]\n",
    "    pos_y = gal_pos[0, :, 1][s] - gal_pos[0, 0, 1]\n",
    "    pos_z = gal_pos[0, :, 2][s] - gal_pos[0, 0, 2]\n",
    "    plt.plot(pos_x, pos_y, '-', c=colors[0])\n",
    "    plt.scatter(pos_x, pos_y, c=time[s])\n",
    "\n",
    "    ax1 = plt.subplot(gs[3])\n",
    "    plt.xlabel('X [kpc]')\n",
    "    plt.ylabel('Z [kpc]')\n",
    "    plt.plot(pos_x, pos_z, '-', c=colors[0])\n",
    "    plt.scatter(pos_x, pos_z, c=time[s])\n",
    "\n",
    "    ax1 = plt.subplot(gs[4])\n",
    "    plt.xlabel(r'V$_{X}$ [km/s]')\n",
    "    plt.ylabel(r'V$_{Y}$ [km/s]')\n",
    "    plt.plot(gal_vel[0, :, 0][s], gal_vel[0, :, 1][s], '-', c=colors[0])\n",
    "    plt.scatter(gal_vel[0, :, 0][s], gal_vel[0, :, 1][s], c=time[s])\n",
    "\n",
    "    ax1 = plt.subplot(gs[5])\n",
    "    plt.xlabel(r'V$_{X}$ [km/s]')\n",
    "    plt.ylabel(r'V$_{Z}$ [km/s]')\n",
    "    plt.plot(gal_vel[0, :, 0][s], gal_vel[0, :, 2][s], '-', c=colors[0])\n",
    "    plt.scatter(gal_vel[0, :, 0][s], gal_vel[0, :, 2][s], c=time[s], s=20)\n",
    "\n",
    "    return fig1\n",
    "\n",
    "# x = plotCentralGalaxy(time, gal_ID, gal_Mstar, gal_Mhalo, gal_pos, gal_vel)\n",
    "\n",
    "\n",
    "def plotSatellites(time, gal_ID, gal_Mstar, gal_Mhalo, gal_Msub, gal_pos, gal_central_pos, range1, range2):\n",
    "    fig1 = plt.figure(figsize=(2*7.5, 4*5))\n",
    "    gs = gridspec.GridSpec(4, 2)\n",
    "\n",
    "    s = gal_ID[0] >= 0\n",
    "    R200 = 227.2 * (gal_Mhalo[0][s]/1.252e12)**0.3333\n",
    "\n",
    "    ax1 = plt.subplot(gs[0])\n",
    "    plt.ylim([1.e1, 1.e10])\n",
    "    ax1 = plt.subplot(gs[1])\n",
    "    plt.ylim([1.e1, 1.e10])\n",
    "\n",
    "    ax1 = plt.subplot(gs[2])\n",
    "    plt.ylim([1.e6, 1.e12])\n",
    "    ax1 = plt.subplot(gs[3])\n",
    "    plt.ylim([1.e6, 1.e12])\n",
    "\n",
    "    ax1 = plt.subplot(gs[4])\n",
    "    plt.ylim([1.e1, 1.e3])\n",
    "    plt.semilogy(time[s], R200, '-', lw=2, c=\"0.5\", alpha=0.5)\n",
    "\n",
    "    ax1 = plt.subplot(gs[5])\n",
    "    plt.ylim([1.e1, 1.e3])\n",
    "    plt.semilogy(time[s], R200, '-', lw=2, c=\"0.5\", alpha=0.5)\n",
    "\n",
    "    ax1 = plt.subplot(gs[6])\n",
    "    plt.ylim([1.e1, 1.e3])\n",
    "    plt.semilogy(time[s], R200, '-', lw=2, c=\"0.5\", alpha=0.5)\n",
    "\n",
    "    ax1 = plt.subplot(gs[7])\n",
    "    plt.ylim([1.e1, 1.e3])\n",
    "    plt.semilogy(time[s], R200, '-', lw=2, c=\"0.5\", alpha=0.5)\n",
    "\n",
    "    for i in range1:\n",
    "        s = gal_ID[i] >= 0\n",
    "        s0 = s * gal_type[i] == 0\n",
    "        s1 = s * gal_type[i] == 1\n",
    "        s2 = s * gal_type[i] == 2\n",
    "\n",
    "        ax1 = plt.subplot(gs[0])\n",
    "        plt.xlabel(r'time [Gyrs]')\n",
    "        plt.ylabel(r'M$_{\\star}$ [M$_{\\odot}$]')\n",
    "        plt.semilogy(time[s0], gal_Mstar[i][s0],\n",
    "                     '-', lw=2, c=colors[(i-1) % 5])\n",
    "        plt.semilogy(time[s1], gal_Mstar[i][s1],\n",
    "                     '--', lw=2, c=colors[(i-1) % 5])\n",
    "        plt.semilogy(time[s2], gal_Mstar[i][s2],\n",
    "                     ':', lw=2, c=colors[(i-1) % 5])\n",
    "\n",
    "        ax1 = plt.subplot(gs[2])\n",
    "        plt.xlabel(r'time [Gyrs]')\n",
    "        plt.ylabel(r'M$_{\\rm halo}$ [M$_{\\odot}$]')\n",
    "        plt.semilogy(time[s0], gal_Mhalo[i][s0], '-', lw=2,\n",
    "                     c=colors[(i-1) % 5], label=\"%i\" % i)\n",
    "        plt.semilogy(time[s1], gal_Mhalo[i][s1],\n",
    "                     '--', lw=2, c=colors[(i-1) % 5])\n",
    "        plt.semilogy(time[s2], gal_Mhalo[i][s2],\n",
    "                     ':', lw=2, c=colors[(i-1) % 5])\n",
    "        plt.semilogy(time, gal_Msub[i], ls='dashdot',\n",
    "                     lw=2, c=colors[(i-1) % 5])\n",
    "\n",
    "        ax1 = plt.subplot(gs[4])\n",
    "        dis = np.sqrt((gal_pos[i]**2).sum(axis=1))\n",
    "        plt.xlabel(r'time [Gyrs]')\n",
    "        plt.ylabel(r'r [kpc]')\n",
    "        plt.semilogy(time[s0], dis[s0], '-', lw=2, c=colors[(i-1) % 5])\n",
    "        plt.semilogy(time[s1], dis[s1], '--', lw=2, c=colors[(i-1) % 5])\n",
    "        plt.semilogy(time[s2], dis[s2], ':', lw=2, c=colors[(i-1) % 5])\n",
    "\n",
    "        ax1 = plt.subplot(gs[6])\n",
    "        dis = np.sqrt(((gal_central_pos[i]-gal_pos[i])**2).sum(axis=1))\n",
    "        plt.xlabel(r'time [Gyrs]')\n",
    "        plt.ylabel(r'r [kpc]')\n",
    "        plt.semilogy(time[s0], dis[s0], '-', lw=2, c=colors[(i-1) % 5])\n",
    "        plt.semilogy(time[s1], dis[s1], '--', lw=2, c=colors[(i-1) % 5])\n",
    "        plt.semilogy(time[s2], dis[s2], ':', lw=2, c=colors[(i-1) % 5])\n",
    "\n",
    "    for i in range2:\n",
    "        s = gal_ID[i] >= 0\n",
    "        s0 = s * gal_type[i] == 0\n",
    "        s1 = s * gal_type[i] == 1\n",
    "        s2 = s * gal_type[i] == 2\n",
    "\n",
    "        ax1 = plt.subplot(gs[1])\n",
    "        plt.xlabel(r'time [Gyrs]')\n",
    "        plt.ylabel(r'M$_{\\star}$ [M$_{\\odot}$]')\n",
    "        plt.semilogy(time[s0], gal_Mstar[i][s0],\n",
    "                     '-', lw=2, c=colors[(i-1) % 5])\n",
    "        plt.semilogy(time[s1], gal_Mstar[i][s1],\n",
    "                     '--', lw=2, c=colors[(i-1) % 5])\n",
    "        plt.semilogy(time[s2], gal_Mstar[i][s2],\n",
    "                     ':', lw=2, c=colors[(i-1) % 5])\n",
    "\n",
    "        ax1 = plt.subplot(gs[3])\n",
    "        plt.xlabel(r'time [Gyrs]')\n",
    "        plt.ylabel(r'M$_{\\rm halo}$ [M$_{\\odot}$]')\n",
    "        plt.semilogy(time[s0], gal_Mhalo[i][s0], '-', lw=2,\n",
    "                     c=colors[(i-1) % 5], label=\"%i\" % i)\n",
    "        plt.semilogy(time[s1], gal_Mhalo[i][s1],\n",
    "                     '--', lw=2, c=colors[(i-1) % 5])\n",
    "        plt.semilogy(time[s2], gal_Mhalo[i][s2],\n",
    "                     ':', lw=2, c=colors[(i-1) % 5])\n",
    "        plt.semilogy(time, gal_Msub[i], ls='dashdot',\n",
    "                     lw=2, c=colors[(i-1) % 5])\n",
    "\n",
    "        ax1 = plt.subplot(gs[5])\n",
    "        dis = np.sqrt((gal_pos[i]**2).sum(axis=1))\n",
    "        plt.xlabel(r'time [Gyrs]')\n",
    "        plt.ylabel(r'r [kpc]')\n",
    "        plt.semilogy(time[s0], dis[s0], '-', lw=2, c=colors[(i-1) % 5])\n",
    "        plt.semilogy(time[s1], dis[s1], '--', lw=2, c=colors[(i-1) % 5])\n",
    "        plt.semilogy(time[s2], dis[s2], ':', lw=2, c=colors[(i-1) % 5])\n",
    "\n",
    "        ax1 = plt.subplot(gs[7])\n",
    "        dis = np.sqrt(((gal_central_pos[i]-gal_pos[i])**2).sum(axis=1))\n",
    "        plt.xlabel(r'time [Gyrs]')\n",
    "        plt.ylabel(r'r [kpc]')\n",
    "        plt.semilogy(time[s0], dis[s0], '-', lw=2, c=colors[(i-1) % 5])\n",
    "        plt.semilogy(time[s1], dis[s1], '--', lw=2, c=colors[(i-1) % 5])\n",
    "        plt.semilogy(time[s2], dis[s2], ':', lw=2, c=colors[(i-1) % 5])\n",
    "\n",
    "    if len(range1) > 0:\n",
    "        ax1 = plt.subplot(gs[2])\n",
    "        plt.legend()  # ncol=len(range1) )\n",
    "\n",
    "    if len(range2) > 0:\n",
    "        ax1 = plt.subplot(gs[3])\n",
    "        plt.legend()  # ncol=len(range2) )\n",
    "\n",
    "    return fig1\n",
    "\n",
    "# x = plotSatellites(time, gal_ID, gal_Mstar, gal_Mhalo, gal_pos, list(range(1,6)), list(range(6,11)) )\n",
    "\n",
    "\n",
    "def plotEntries(fileName, time, gal_ID, gal_Mstar, gal_Mhalo, gal_Msub, gal_pos, gal_vel, gal_central_pos):\n",
    "    numSats = gal_ID.shape[0]\n",
    "    figs = []\n",
    "\n",
    "    # plot the central galaxy\n",
    "    figs.append(plotCentralGalaxy(\n",
    "        time, gal_ID, gal_Mstar, gal_Mhalo, gal_pos, gal_vel))\n",
    "\n",
    "    # plot the satellites, 10 on a page\n",
    "    count = 1\n",
    "    while numSats - count > 0:\n",
    "        range1 = [i for i in range(count+0, count + 5) if i < numSats]\n",
    "        range2 = [i for i in range(count+5, count+10) if i < numSats]\n",
    "        figs.append(plotSatellites(time, gal_ID, gal_Mstar, gal_Mhalo,\n",
    "                                   gal_Msub, gal_pos, gal_central_pos, range1, range2))\n",
    "        count += 10\n",
    "\n",
    "    # save the figures to a file\n",
    "    pp = PdfPages(fileName)\n",
    "    for fig in figs:\n",
    "        pp.savefig(fig, bbox_inches='tight')\n",
    "    pp.close()\n",
    "\n",
    "# plotEntries( \"test.pdf\", time, gal_ID, gal_Mstar, gal_Mhalo, gal_pos, gal_vel )\n"
   ]
  },
  {
   "cell_type": "markdown",
   "metadata": {},
   "source": [
    "## Main pipeline that calls each function needed to read in the Galform galaxy data"
   ]
  },
  {
   "cell_type": "code",
   "execution_count": 125,
   "metadata": {},
   "outputs": [
    {
     "name": "stdout",
     "output_type": "stream",
     "text": [
      "Reading system '0' info from the file '/home/zhaox/Magpie/Galform/M1_zcut7/galaxies.hdf5' ...\n",
      "\tcosmological parameters (h, Omega_M, Omega_B):  0.6777 0.307 0.0482519\n",
      "\tthere are 132 satellites within 300 kpc from the central and with Mstar above 1.00e+00 Msolar\n",
      "\tnumber of snapshots in the file:  199\n",
      "\tReading the info at each Galform output ...\n",
      "\t\toutput 10 has 133 progenitors\n",
      "\t\toutput 20 has 133 progenitors\n",
      "\t\toutput 30 has 133 progenitors\n",
      "\t\toutput 40 has 132 progenitors\n",
      "\t\toutput 50 has 132 progenitors\n",
      "\t\toutput 60 has 132 progenitors\n",
      "\t\toutput 70 has 132 progenitors\n",
      "\t\toutput 80 has 132 progenitors\n",
      "\t\toutput 90 has 132 progenitors\n",
      "\t\toutput 100 has 132 progenitors\n",
      "\t\toutput 110 has 132 progenitors\n",
      "\t\toutput 120 has 131 progenitors\n",
      "\t\toutput 130 has 131 progenitors\n",
      "\t\toutput 140 has 131 progenitors\n",
      "\t\toutput 150 has 130 progenitors\n"
     ]
    },
    {
     "name": "stderr",
     "output_type": "stream",
     "text": [
      "/tmp/ipykernel_87992/4080200034.py:53: RuntimeWarning: invalid value encountered in divide\n",
      "  gal_RHalf[:, i-1][valid] = (np.array(hf[dataset + 'mstars_bulge'])[temp_index] *\n"
     ]
    },
    {
     "name": "stdout",
     "output_type": "stream",
     "text": [
      "\t\toutput 160 has 124 progenitors\n",
      "\t\toutput 170 has 115 progenitors\n",
      "\t\toutput 180 has 67 progenitors\n",
      "\t\toutput 190 has 13 progenitors\n",
      "\tReading subhalo mass at various redshifts ...\n",
      "\t\t 0th galaxy finished\n"
     ]
    },
    {
     "name": "stderr",
     "output_type": "stream",
     "text": [
      "/tmp/ipykernel_87992/2069241770.py:9: DeprecationWarning: `np.int` is a deprecated alias for the builtin `int`. To silence this warning, use `int` by itself. Doing this will not modify any behavior and is safe. When replacing `np.int`, you may wish to use e.g. `np.int64` or `np.int32` to specify the precision. If you wish to review your current use, check the release note link for additional information.\n",
      "Deprecated in NumPy 1.20; for more details and guidance: https://numpy.org/devdocs/release/1.20.0-notes.html#deprecations\n",
      "  gal_GroupNumber = np.zeros((numObjs, numSnaps), np.int)\n",
      "/tmp/ipykernel_87992/2069241770.py:10: DeprecationWarning: `np.int` is a deprecated alias for the builtin `int`. To silence this warning, use `int` by itself. Doing this will not modify any behavior and is safe. When replacing `np.int`, you may wish to use e.g. `np.int64` or `np.int32` to specify the precision. If you wish to review your current use, check the release note link for additional information.\n",
      "Deprecated in NumPy 1.20; for more details and guidance: https://numpy.org/devdocs/release/1.20.0-notes.html#deprecations\n",
      "  gal_SubGroupNumber = np.zeros((numObjs, numSnaps), np.int)\n"
     ]
    },
    {
     "name": "stdout",
     "output_type": "stream",
     "text": [
      "\t\t 10th galaxy finished\n",
      "\t\t 20th galaxy finished\n",
      "\t\t 30th galaxy finished\n",
      "\t\t 40th galaxy finished\n",
      "\t\t 50th galaxy finished\n",
      "\t\t 60th galaxy finished\n",
      "\t\t 70th galaxy finished\n",
      "\t\t 80th galaxy finished\n",
      "\t\t 90th galaxy finished\n",
      "\t\t 100th galaxy finished\n",
      "\t\t 110th galaxy finished\n",
      "\t\t 120th galaxy finished\n",
      "\t\t 130th galaxy finished\n"
     ]
    }
   ],
   "source": [
    "%matplotlib agg\n",
    "\n",
    "for system in systems:\n",
    "    galaxyFile = root_galaxyFiles + list_galaxyFiles[system]\n",
    "    print(\"Reading system '%i' info from the file '%s' ...\" %\n",
    "          (system, galaxyFile))\n",
    "\n",
    "    # read the data from the Galform file\n",
    "    h, Omega0, OmegaB, redshift, time, scale_factor, snap_number, \\\n",
    "        gal_ID, gal_type, gal_pos, gal_vel, gal_Mstar, gal_RHalf, gal_Mhalo, gal_subIndex, gal_subID, \\\n",
    "        gal_indexCen, gal_central_pos, gal_central_vel, gal_central_MW = \\\n",
    "        readGalformGalaxyData(\n",
    "            galaxyFile, centralIndeces[system], R_max, Mstar_min)\n",
    "    numObjs = gal_ID.shape[0]  # number of objects = 1 + number of satellites\n",
    "    numSnaps = gal_ID.shape[1]  # number of snapshots\n",
    "\n",
    "    # find the subhalo mass at various snapshots for each satellite\n",
    "    print(\"\\tReading subhalo mass at various redshifts ...\")\n",
    "    subhaloFile = root_subhaloFiles + list_subhaloFiles[system]\n",
    "    gal_Msub,gal_GroupNumber,gal_SubGroupNumber = readSubhalomass(subhaloFile, gal_subID)\n",
    "\n",
    "    # # find the halo properties at infall\n",
    "    # print(\"\\tReading Subfind files to find host halo profile at infall ...\")\n",
    "    # gal_M200, gal_R200, gal_conc, gal_indexCen_sub = \\\n",
    "    #     readHaloProfile(subhaloFile, snap_number, gal_indexCen, gal_pos)\n",
    "\n",
    "    # withoutHost = gal_indexCen_sub >= numSnaps\n",
    "    # if withoutHost.sum() > 0:\n",
    "    #     gal_M200[withoutHost] = gal_Mhalo[:, 0][withoutHost]\n",
    "    #     gal_R200[withoutHost] = gal_R200[0] * \\\n",
    "    #         (gal_M200[withoutHost]/gal_M200[0])**(1./3.)\n",
    "    #     gal_conc[withoutHost] = 10.\n",
    "    #     gal_indexCen_sub[withoutHost] = numSnaps-1\n",
    "\n",
    "    # # shift the positions and velocity w.r.t. the central object\n",
    "    # print(\"\\tshifting satellite position and velocities w.r.t. the central galaxy\")\n",
    "    # for j in range(1, numObjs):\n",
    "    #     s = (gal_ID[0] >= 0) * (gal_ID[j] >= 0)\n",
    "    #     gal_pos[j][s] -= gal_pos[0][s]\n",
    "    #     gal_pos[j][~s] = np.nan\n",
    "    #     gal_vel[j][s] -= gal_vel[0][s]\n",
    "    #     gal_vel[j][~s] = np.nan\n",
    "\n",
    "    #     s[gal_indexCen[j]:] = False\n",
    "    #     gal_central_pos[j][s] -= gal_pos[0][s]\n",
    "    #     gal_central_pos[j][~s] = np.nan\n",
    "    #     gal_central_vel[j][s] -= gal_vel[0][s]\n",
    "    #     gal_central_vel[j][~s] = np.nan\n",
    "\n",
    "    # # change the units to physical kpc, km/s and Msolar\n",
    "    # print(\"\\tchanging units to: physical kpc, km/s and Msolar\")\n",
    "    # gal_Mstar /= h\n",
    "    # gal_Mhalo /= h\n",
    "    # gal_pos[0] *= 1.e3 / h\n",
    "    # gal_pos[1:] *= 1.e3 / h * scale_factor[None, :, None]\n",
    "    # gal_RHalf *= 1.e3 / h * scale_factor[None, :]\n",
    "    # gal_vel *= np.sqrt(scale_factor)[None, :, None]\n",
    "    # gal_central_pos[1:] *= 1.e3 / h * scale_factor[None, :, None]\n",
    "    # gal_central_vel *= np.sqrt(scale_factor)[None, :, None]\n",
    "\n",
    "    # # save the data to an hdf5 file\n",
    "    # outputFile = root_outputFiles + list_outputFiles[system]\n",
    "    # print(\"\\twriting the data to '%s' ...\" % outputFile)\n",
    "    # writeSatelliteData(outputFile, gal_ID, gal_type, gal_pos, gal_vel, gal_Mstar, gal_Mhalo, gal_RHalf, gal_Msub,\n",
    "    #                    gal_M200, gal_R200, gal_conc, snap_number[gal_indexCen_sub],\n",
    "    #                    snap_number[gal_indexCen], gal_central_pos, gal_central_vel, gal_central_MW,\n",
    "    #                    redshift, time, scale_factor, snap_number, h, Omega0, OmegaB)\n",
    "\n",
    "    # # plot the satellite orbits and save to file\n",
    "    # if plotFigures:\n",
    "    #     outputFile = root_plotFiles + list_plotFiles[system]\n",
    "    #     print(\"\\tplotting the satellite orbits to file '%s' ...\" % outputFile)\n",
    "    #     plotEntries(outputFile, time, gal_ID, gal_Mstar, gal_Mhalo,\n",
    "    #                 gal_Msub, gal_pos, gal_vel, gal_central_pos)\n",
    "\n",
    "    # print(\"\\t Done\")"
   ]
  },
  {
   "cell_type": "code",
   "execution_count": 135,
   "metadata": {},
   "outputs": [
    {
     "data": {
      "text/plain": [
       "array([ 1,  1,  1,  1,  1,  1,  1,  1,  1,  1,  1,  1,  1,  1,  1,  1,  1,\n",
       "        1,  1,  1,  1,  1,  1,  1,  1,  1,  1,  1,  1,  1,  1,  1,  1,  1,\n",
       "        1,  1,  1,  1,  1,  1,  1,  1,  1,  1,  1,  1,  1,  1,  1,  1,  1,\n",
       "        1,  1,  1,  1,  1,  1,  1,  1,  1,  1,  1,  1,  1,  1,  1,  1,  1,\n",
       "        1,  2,  2,  1,  1,  1,  1,  1,  1,  1,  1,  1,  1,  1,  1,  1,  1,\n",
       "        1,  1,  1,  1,  1,  1,  1,  1,  1,  1,  1,  1,  1,  1,  1,  1,  1,\n",
       "        1,  1,  1,  1,  1,  1,  2,  1,  2,  2,  2,  2,  2,  2,  1,  1,  1,\n",
       "        1,  2,  1,  1,  1,  1,  1,  1,  1,  1,  1,  1,  1,  1,  1,  1,  1,\n",
       "        1,  1,  1,  1,  1,  1,  1,  1,  1,  1,  1,  1,  1,  2,  1,  1,  1,\n",
       "        3,  3,  2,  3,  3,  2,  2,  2,  2,  2,  1,  2,  2,  2,  2,  2,  2,\n",
       "        2,  3,  3,  3,  2,  2,  2,  2,  2,  2,  2,  4,  3,  2, 12, 15, 18,\n",
       "       18, 14,  6,  7,  6,  7,  6,  7,  5,  8,  0,  0])"
      ]
     },
     "execution_count": 135,
     "metadata": {},
     "output_type": "execute_result"
    }
   ],
   "source": [
    "np.array(gal_GroupNumber[0,:])"
   ]
  },
  {
   "cell_type": "code",
   "execution_count": 149,
   "metadata": {},
   "outputs": [
    {
     "data": {
      "text/plain": [
       "177"
      ]
     },
     "execution_count": 149,
     "metadata": {},
     "output_type": "execute_result"
    }
   ],
   "source": [
    "np.where(gal_GroupNumber[3,:] == 0 )[0][0] - 1"
   ]
  },
  {
   "cell_type": "code",
   "execution_count": 151,
   "metadata": {},
   "outputs": [
    {
     "data": {
      "text/plain": [
       "(133, 199)"
      ]
     },
     "execution_count": 151,
     "metadata": {},
     "output_type": "execute_result"
    }
   ],
   "source": [
    "gal_GroupNumber.shape"
   ]
  },
  {
   "cell_type": "code",
   "execution_count": null,
   "metadata": {},
   "outputs": [],
   "source": [
    "np.argsort()"
   ]
  },
  {
   "cell_type": "code",
   "execution_count": 152,
   "metadata": {},
   "outputs": [
    {
     "data": {
      "text/plain": [
       "(133, 199)"
      ]
     },
     "execution_count": 152,
     "metadata": {},
     "output_type": "execute_result"
    }
   ],
   "source": [
    "gal_Mstar"
   ]
  },
  {
   "cell_type": "code",
   "execution_count": 155,
   "metadata": {},
   "outputs": [
    {
     "data": {
      "text/plain": [
       "array([ 70, 106,  32,  53, 124, 111,  33,  21,  54, 117,  67, 112, 122,\n",
       "       104,  77, 116,  15, 114, 125, 110,  52, 107, 102, 113,  94,  95,\n",
       "       103,  90,  68,   3,  83, 118,  22,  30,  98, 100,  79, 128, 109,\n",
       "       121,  51, 123,  88,  23,  85,  80,  59,  96,   7,  84, 119,  99,\n",
       "         6,  93,  10,  82,  72,  73,  78, 115,  31,  41,  76,  75, 120,\n",
       "        89,  39,  92, 105, 108,  56,  48,  91,   5,  28,  58,  45,  26,\n",
       "        60, 129,  65,  97,  43,  16,  71,  36,  38,  29,  62,  74,  63,\n",
       "        61,  49,  46,   2,  86,  47,  81,  40,  17, 130, 127,  87,  42,\n",
       "        14,  24,  19,  11, 101,  37,  57,  13,  27,  50,  20, 132,  66,\n",
       "        34, 126,  69,  18,  25,  44,   1,  64, 131,  35,   8,   9,  55,\n",
       "        12,   4,   0])"
      ]
     },
     "execution_count": 155,
     "metadata": {},
     "output_type": "execute_result"
    }
   ],
   "source": [
    "gal_Mstar[:,0].argsort()"
   ]
  },
  {
   "cell_type": "code",
   "execution_count": 158,
   "metadata": {},
   "outputs": [],
   "source": [
    "lmc_index = gal_Mstar[:,0].argsort()[-2]\n",
    "lmc_group_number = gal_GroupNumber[lmc_index,:]\n",
    "lmc_subGroup_number = gal_SubGroupNumber[lmc_index,:]"
   ]
  },
  {
   "cell_type": "code",
   "execution_count": 164,
   "metadata": {},
   "outputs": [
    {
     "data": {
      "text/plain": [
       "array([[ 0,  0,  0, ...,  0,  0,  0],\n",
       "       [ 6, 10,  7, ...,  0,  0,  0],\n",
       "       [39, 43, 35, ...,  0,  0,  0],\n",
       "       ...,\n",
       "       [32, 35, 31, ...,  0,  0,  0],\n",
       "       [ 0,  0,  0, ...,  0,  0,  0],\n",
       "       [ 0,  9,  9, ...,  0,  0,  0]])"
      ]
     },
     "execution_count": 164,
     "metadata": {},
     "output_type": "execute_result"
    }
   ],
   "source": [
    "gal_SubGroupNumber"
   ]
  },
  {
   "cell_type": "code",
   "execution_count": 170,
   "metadata": {},
   "outputs": [
    {
     "data": {
      "text/plain": [
       "array([39, 43, 35, 36, 39, 40, 45, 31, 34, 37, 33, 36, 32, 31, 28, 30, 31,\n",
       "       32, 33, 30, 33, 29, 29, 28, 27, 28, 28, 29, 25, 24, 24, 23, 24, 24,\n",
       "       28, 24, 21, 20, 14, 16, 21, 13, 19, 23, 23, 18, 21, 20, 20, 21, 24,\n",
       "       24, 25, 26, 18,  7,  7,  5,  6,  7,  6,  4,  0,  0,  0,  0,  0,  0,\n",
       "        2,  6,  6,  6,  5,  5,  6,  6,  5,  0,  0,  0,  0,  0,  0,  0,  0,\n",
       "        0,  0,  0,  0,  0,  0,  1,  0,  0,  1,  1,  0,  0,  0,  0,  0,  0,\n",
       "        0,  0,  0,  0,  0,  0,  0,  0,  0,  0,  0,  0,  0,  0,  0,  0,  0,\n",
       "        0,  0,  0,  0,  0,  0,  0,  0,  0,  0,  0,  0,  0,  0,  0,  0,  0,\n",
       "        0,  0,  0,  0,  0,  0,  0,  0,  0,  0,  0,  0,  0,  0,  0,  0,  0,\n",
       "        0,  0,  0,  0,  0,  0,  0,  0,  0,  0,  0,  0,  0,  0,  0,  0,  0,\n",
       "        0,  0,  0,  0,  0,  0,  0,  0,  0,  0,  0,  0,  0,  0,  0,  0,  0,\n",
       "        0,  0,  0,  0,  0,  0,  0,  0,  0,  0,  0,  0])"
      ]
     },
     "execution_count": 170,
     "metadata": {},
     "output_type": "execute_result"
    }
   ],
   "source": [
    "gal_SubGroupNumber[2,:]"
   ]
  },
  {
   "cell_type": "code",
   "execution_count": 161,
   "metadata": {},
   "outputs": [
    {
     "data": {
      "text/plain": [
       "array([1, 1, 1, 1, 1, 1, 1, 1, 1, 1, 1, 1, 1, 1, 1, 1, 1, 1, 1, 1, 1, 1,\n",
       "       1, 1, 1, 1, 1, 1, 1, 1, 1, 1, 1, 1, 1, 1, 1, 1, 1, 1, 1, 1, 1, 1,\n",
       "       1, 1, 1, 1, 1, 1, 1, 1, 1, 1, 1, 0, 0, 0, 0, 0, 0, 0, 0, 0, 0, 0,\n",
       "       0, 0, 0, 0, 0, 0, 0, 0, 0, 0, 0, 0, 0, 0, 0, 0, 0, 0, 0, 0, 0, 0,\n",
       "       0, 0, 0, 0, 0, 0, 0, 0, 0, 0, 0, 0, 0, 0, 0, 0, 0, 0, 0, 0, 0, 0,\n",
       "       0, 0, 0, 0, 0, 0, 0, 0, 0, 0, 0, 0, 0, 0, 0, 0, 0, 0, 0, 0, 0, 0,\n",
       "       0, 0, 0, 0, 0, 0, 0, 0, 0, 0, 0, 0, 0, 0, 0, 0, 0, 0, 0, 0, 0, 0,\n",
       "       0, 0, 0, 0, 0, 0, 0, 0, 0, 0, 0, 0, 0, 0, 0, 0, 0, 0, 0, 0, 0, 0,\n",
       "       0, 0, 0, 0, 0, 0, 0, 0, 0, 0, 0, 0, 0, 0, 1, 1, 0, 0, 0, 0, 0, 0,\n",
       "       0])"
      ]
     },
     "execution_count": 161,
     "metadata": {},
     "output_type": "execute_result"
    }
   ],
   "source": [
    "lmc_subGroup_number"
   ]
  },
  {
   "cell_type": "code",
   "execution_count": 174,
   "metadata": {},
   "outputs": [
    {
     "data": {
      "text/plain": [
       "0"
      ]
     },
     "execution_count": 174,
     "metadata": {},
     "output_type": "execute_result"
    }
   ],
   "source": [
    "np.where(gal_SubGroupNumber == 0)[0][0]"
   ]
  },
  {
   "cell_type": "code",
   "execution_count": 175,
   "metadata": {},
   "outputs": [],
   "source": [
    "infall_index = np.zeros(numObjs, dtype=int)\n",
    "for i in range(numObjs):\n",
    "    infall_index[i] = np.where(gal_SubGroupNumber[i,:] == 0)[0][0]"
   ]
  },
  {
   "cell_type": "code",
   "execution_count": 172,
   "metadata": {},
   "outputs": [
    {
     "data": {
      "text/plain": [
       "0"
      ]
     },
     "execution_count": 172,
     "metadata": {},
     "output_type": "execute_result"
    }
   ],
   "source": [
    "lmc_subGroup_number[55]"
   ]
  },
  {
   "cell_type": "code",
   "execution_count": 176,
   "metadata": {},
   "outputs": [
    {
     "data": {
      "text/plain": [
       "array([  0,  47,  62,  22,  55,  40,  51,  53,  61,  38,  61,   7,  66,\n",
       "        67,  20,  68,  18,  76,  83,  75,  81,   5,  26,   7,  19,  44,\n",
       "        56,  44,  15,  56,  26,  10, 117,  11,  48, 104, 112, 108,  37,\n",
       "       120, 112,  32, 112, 112, 110,  27, 108, 115, 110, 124, 112, 114,\n",
       "       112, 113, 113, 120, 122, 125,  36, 122, 100, 133,  94, 122, 131,\n",
       "       128, 140, 131,  98, 130,  59, 134,  37, 149, 141, 137, 137, 107,\n",
       "       144, 139, 140, 137, 130, 143, 144, 142, 148, 150, 148, 164, 149,\n",
       "       147, 147, 152, 152, 148, 148, 142, 139, 151, 150, 153, 154, 153,\n",
       "        96, 158, 154, 157, 159, 159, 149, 161, 161, 163, 165, 172, 171,\n",
       "       170, 172, 174, 174, 178, 175, 175, 163, 180,  24,   1,   7,   5,\n",
       "        24,   0,   0])"
      ]
     },
     "execution_count": 176,
     "metadata": {},
     "output_type": "execute_result"
    }
   ],
   "source": [
    "infall_index"
   ]
  },
  {
   "cell_type": "code",
   "execution_count": 179,
   "metadata": {},
   "outputs": [
    {
     "data": {
      "text/plain": [
       "array([13.820529  , 13.698786  , 13.576501  , 13.4537    , 13.330382  ,\n",
       "       13.206577  , 13.082293  , 12.957555  , 12.832373  , 12.706767  ,\n",
       "       12.580754  , 12.4543705 , 12.327606  , 12.200485  , 12.073062  ,\n",
       "       11.945311  , 11.817295  , 11.689003  , 11.560486  , 11.431754  ,\n",
       "       11.30283   , 11.173744  , 11.044505  , 10.915157  , 10.7857275 ,\n",
       "       10.65623   , 10.526724  , 10.397207  , 10.267745  , 10.138378  ,\n",
       "       10.00913   ,  9.880057  ,  9.751179  ,  9.622529  ,  9.494185  ,\n",
       "        9.366154  ,  9.238497  ,  9.111236  ,  8.984433  ,  8.85811   ,\n",
       "        8.732334  ,  8.6071205 ,  8.482525  ,  8.358595  ,  8.235351  ,\n",
       "        8.11286   ,  7.9911547 ,  7.8702564 ,  7.7502484 ,  7.631141  ,\n",
       "        7.512977  ,  7.395803  ,  7.279665  ,  7.1645823 ,  7.050616  ,\n",
       "        6.9377995 ,  6.8261623 ,  6.7157497 ,  6.606592  ,  6.498718  ,\n",
       "        6.3921685 ,  6.286989  ,  6.1832027 ,  6.080837  ,  5.9799294 ,\n",
       "        5.8805056 ,  5.7825866 ,  5.686191  ,  5.5912776 ,  5.4978476 ,\n",
       "        5.4058733 ,  5.315371  ,  5.2263136 ,  5.1386995 ,  5.0524817 ,\n",
       "        4.9676766 ,  4.884252  ,  4.8022084 ,  4.7215095 ,  4.642158  ,\n",
       "        4.564134  ,  4.4874043 ,  4.4119663 ,  4.3378005 ,  4.264907  ,\n",
       "        4.1932306 ,  4.1227713 ,  4.05351   ,  3.9854443 ,  3.9185338 ,\n",
       "        3.8527775 ,  3.78814   ,  3.7246025 ,  3.6621609 ,  3.6007915 ,\n",
       "        3.5404794 ,  3.4811854 ,  3.422921  ,  3.3656385 ,  3.3093448 ,\n",
       "        3.253994  ,  3.1995912 ,  3.146107  ,  3.0935323 ,  3.0418353 ,\n",
       "        2.9909956 ,  2.9410105 ,  2.8918574 ,  2.843506  ,  2.7959495 ,\n",
       "        2.74917   ,  2.7031505 ,  2.6578693 ,  2.6133108 ,  2.5694542 ,\n",
       "        2.5262842 ,  2.4837945 ,  2.4419549 ,  2.400749  ,  2.3601716 ,\n",
       "        2.320205  ,  2.28082   ,  2.242014  ,  2.2037544 ,  2.166055  ,\n",
       "        2.1288693 ,  2.0922105 ,  2.056036  ,  2.020356  ,  1.9851419 ,\n",
       "        1.950381  ,  1.9160674 ,  1.8821768 ,  1.8486938 ,  1.8156289 ,\n",
       "        1.7829319 ,  1.7506253 ,  1.7186707 ,  1.6870798 ,  1.655814  ,\n",
       "        1.6248752 ,  1.5942491 ,  1.5639364 ,  1.5339105 ,  1.5041633 ,\n",
       "        1.4746809 ,  1.4454648 ,  1.4164928 ,  1.387763  ,  1.3592689 ,\n",
       "        1.3309855 ,  1.3029182 ,  1.275054  ,  1.2473845 ,  1.2199126 ,\n",
       "        1.1926074 ,  1.1654718 ,  1.138507  ,  1.111698  ,  1.0850335 ,\n",
       "        1.058521  ,  1.0321416 ,  1.0059    ,  0.9797809 ,  0.95379925,\n",
       "        0.9279293 ,  0.9021759 ,  0.8765577 ,  0.85106814,  0.8257236 ,\n",
       "        0.8005277 ,  0.7755085 ,  0.75065315,  0.72597456,  0.7014907 ,\n",
       "        0.6772146 ,  0.6531439 ,  0.6292851 ,  0.6056632 ,  0.5822745 ,\n",
       "        0.55914277,  0.53625923,  0.5136478 ,  0.49131155,  0.46926394,\n",
       "        0.44751474,  0.42607102,  0.40494654,  0.38415244,  0.36369586,\n",
       "        0.34358948,  0.3238458 ,  0.30447486,  0.28549066,  0.26690188,\n",
       "        0.24872531,  0.23096971,  0.21365196,  0.19678487], dtype=float32)"
      ]
     },
     "execution_count": 179,
     "metadata": {},
     "output_type": "execute_result"
    }
   ],
   "source": [
    "time"
   ]
  },
  {
   "cell_type": "code",
   "execution_count": 180,
   "metadata": {},
   "outputs": [],
   "source": [
    "lbTime = time[0] - time"
   ]
  },
  {
   "cell_type": "code",
   "execution_count": 181,
   "metadata": {},
   "outputs": [
    {
     "data": {
      "text/plain": [
       "array([ 0.        ,  0.1217432 ,  0.24402809,  0.36682892,  0.49014664,\n",
       "        0.6139517 ,  0.7382364 ,  0.86297417,  0.9881563 ,  1.1137619 ,\n",
       "        1.2397747 ,  1.3661585 ,  1.4929228 ,  1.6200438 ,  1.747467  ,\n",
       "        1.8752184 ,  2.003234  ,  2.131526  ,  2.2600431 ,  2.3887749 ,\n",
       "        2.5176992 ,  2.6467848 ,  2.7760239 ,  2.9053717 ,  3.0348015 ,\n",
       "        3.164299  ,  3.2938051 ,  3.4233217 ,  3.552784  ,  3.6821508 ,\n",
       "        3.8113995 ,  3.9404716 ,  4.0693502 ,  4.198     ,  4.3263435 ,\n",
       "        4.4543753 ,  4.582032  ,  4.7092934 ,  4.836096  ,  4.9624186 ,\n",
       "        5.088195  ,  5.2134085 ,  5.338004  ,  5.461934  ,  5.5851784 ,\n",
       "        5.7076693 ,  5.8293743 ,  5.9502726 ,  6.0702806 ,  6.189388  ,\n",
       "        6.307552  ,  6.424726  ,  6.540864  ,  6.6559467 ,  6.769913  ,\n",
       "        6.8827295 ,  6.9943666 ,  7.1047792 ,  7.213937  ,  7.321811  ,\n",
       "        7.4283605 ,  7.53354   ,  7.6373262 ,  7.739692  ,  7.8405995 ,\n",
       "        7.9400234 ,  8.037943  ,  8.134338  ,  8.229252  ,  8.322681  ,\n",
       "        8.414656  ,  8.505157  ,  8.594215  ,  8.681829  ,  8.768047  ,\n",
       "        8.852852  ,  8.936277  ,  9.01832   ,  9.09902   ,  9.178371  ,\n",
       "        9.256395  ,  9.333124  ,  9.408563  ,  9.482729  ,  9.555622  ,\n",
       "        9.627298  ,  9.697758  ,  9.767019  ,  9.835085  ,  9.901995  ,\n",
       "        9.9677515 , 10.032389  , 10.095926  , 10.158368  , 10.219738  ,\n",
       "       10.280049  , 10.339344  , 10.397608  , 10.45489   , 10.511185  ,\n",
       "       10.566535  , 10.620937  , 10.674422  , 10.726996  , 10.778694  ,\n",
       "       10.829534  , 10.8795185 , 10.928672  , 10.977023  , 11.02458   ,\n",
       "       11.071359  , 11.117378  , 11.16266   , 11.207218  , 11.251075  ,\n",
       "       11.294245  , 11.336735  , 11.378574  , 11.41978   , 11.460358  ,\n",
       "       11.500324  , 11.539709  , 11.578515  , 11.616775  , 11.654474  ,\n",
       "       11.69166   , 11.728318  , 11.764493  , 11.800173  , 11.835387  ,\n",
       "       11.870148  , 11.904462  , 11.938353  , 11.971835  , 12.0049    ,\n",
       "       12.037597  , 12.069903  , 12.101858  , 12.13345   , 12.164715  ,\n",
       "       12.195654  , 12.22628   , 12.256593  , 12.286618  , 12.316366  ,\n",
       "       12.345848  , 12.375064  , 12.4040365 , 12.432766  , 12.46126   ,\n",
       "       12.489544  , 12.517611  , 12.545475  , 12.573145  , 12.600616  ,\n",
       "       12.627922  , 12.655057  , 12.682022  , 12.708831  , 12.735496  ,\n",
       "       12.762008  , 12.788387  , 12.814629  , 12.840748  , 12.86673   ,\n",
       "       12.8926    , 12.918353  , 12.943972  , 12.9694605 , 12.994805  ,\n",
       "       13.020001  , 13.04502   , 13.069876  , 13.094555  , 13.119039  ,\n",
       "       13.143314  , 13.167385  , 13.191244  , 13.214866  , 13.238255  ,\n",
       "       13.261386  , 13.284269  , 13.306881  , 13.329218  , 13.351265  ,\n",
       "       13.373014  , 13.394458  , 13.415583  , 13.436377  , 13.456833  ,\n",
       "       13.476939  , 13.496683  , 13.516054  , 13.535038  , 13.553627  ,\n",
       "       13.571804  , 13.58956   , 13.606877  , 13.623744  ], dtype=float32)"
      ]
     },
     "execution_count": 181,
     "metadata": {},
     "output_type": "execute_result"
    }
   ],
   "source": [
    "lbTime"
   ]
  },
  {
   "cell_type": "code",
   "execution_count": 183,
   "metadata": {},
   "outputs": [],
   "source": [
    "infall_lbtime = lbTime[infall_index]"
   ]
  },
  {
   "cell_type": "code",
   "execution_count": 157,
   "metadata": {},
   "outputs": [
    {
     "data": {
      "text/plain": [
       "array([1, 1, 1, 1, 1, 1, 1, 1, 1, 1, 1, 1, 1, 1, 1, 1, 1, 1, 1, 1, 1, 1,\n",
       "       1, 1, 1, 1, 1, 1, 1, 1, 1, 1, 1, 1, 1, 1, 1, 1, 1, 1, 1, 1, 1, 1,\n",
       "       1, 1, 1, 1, 1, 1, 1, 1, 1, 1, 1, 4, 4, 4, 4, 4, 4, 4, 4, 4, 5, 5,\n",
       "       5, 4, 5, 5, 5, 5, 5, 5, 6, 6, 6, 6, 6, 6, 6, 6, 6, 6, 6, 6, 6, 6,\n",
       "       6, 6, 6, 6, 6, 6, 6, 6, 6, 6, 6, 6, 6, 6, 5, 5, 5, 5, 5, 5, 5, 5,\n",
       "       5, 5, 5, 5, 5, 5, 4, 4, 4, 4, 4, 4, 4, 4, 4, 4, 4, 4, 4, 3, 3, 3,\n",
       "       3, 3, 3, 2, 2, 2, 2, 3, 3, 3, 3, 3, 3, 3, 3, 3, 3, 3, 3, 3, 3, 2,\n",
       "       1, 1, 1, 1, 1, 1, 1, 1, 1, 2, 1, 1, 1, 1, 1, 1, 1, 1, 1, 1, 1, 1,\n",
       "       1, 1, 1, 1, 1, 1, 1, 1, 1, 1, 1, 1, 1, 1, 1, 1, 4, 4, 2, 2, 1, 1,\n",
       "       0])"
      ]
     },
     "execution_count": 157,
     "metadata": {},
     "output_type": "execute_result"
    }
   ],
   "source": [
    "lmc_group_number"
   ]
  },
  {
   "cell_type": "code",
   "execution_count": 146,
   "metadata": {},
   "outputs": [
    {
     "data": {
      "text/plain": [
       "array([   1,    1,    1,    1,    1,    1,    1,    1,    1,    1,    1,\n",
       "          1,    1,    1,    1,    1,    1,    1,    1,    1,    1,    1,\n",
       "        238,  353,  413,  414,  396,  391,  349,  344,  310,  349,  310,\n",
       "        341,  380,  392,  344,  346,  362,  420,  418,  421,  402,    1,\n",
       "        333,  327,  292,    1,    1,    1,    1,    1,    1,    1,    1,\n",
       "          1,  289,    1,    1,  206,    1,  299,  248,  222,  272,  301,\n",
       "        223,  291,  266,  288,  319,  309,  267,    1,    1,    1,    1,\n",
       "          1,    1,  296,  315,  333,  342,  336,  350,  351,  336,  336,\n",
       "        340,  334,  358,  363,  391,  388,  395,  413,  410,  418,  405,\n",
       "        437,  426,  407,  423,  446,  416,  424,  450,  420,  447,  465,\n",
       "        462,  472,  473,  485,  486,  501,  507,  505,  545,  495,  512,\n",
       "        523,  522,  520,  525,  520,  523,  531,  514,  532,  589,  542,\n",
       "        574,  561,  610,  623,  655,  603,  572,  580,  620,  581,  592,\n",
       "        620,  623,  594,  634,  625,  663,  661,  640,  646,  654,  635,\n",
       "        589,  558,  567,  590,  608,  595,  622,  656,  643,  675,  696,\n",
       "        659,  665,  677,  647,  677,  740,  706,  789,  746,  808,  822,\n",
       "       1026, 1131,    0,    0,    0,    0,    0,    0,    0,    0,    0,\n",
       "          0,    0,    0,    0,    0,    0,    0,    0,    0,    0,    0,\n",
       "          0])"
      ]
     },
     "execution_count": 146,
     "metadata": {},
     "output_type": "execute_result"
    }
   ],
   "source": [
    "gal_GroupNumber[3,:]"
   ]
  },
  {
   "cell_type": "code",
   "execution_count": 139,
   "metadata": {},
   "outputs": [
    {
     "data": {
      "text/plain": [
       "array([   1,    1,    1,    1,    1,    1,    1,    1,    1,    1,    1,\n",
       "          1,    1,    1,    1,    1,    1,    1,    1,    1,    1,    1,\n",
       "        238,  353,  413,  414,  396,  391,  349,  344,  310,  349,  310,\n",
       "        341,  380,  392,  344,  346,  362,  420,  418,  421,  402,    1,\n",
       "        333,  327,  292,    1,    1,    1,    1,    1,    1,    1,    1,\n",
       "          1,  289,    1,    1,  206,    1,  299,  248,  222,  272,  301,\n",
       "        223,  291,  266,  288,  319,  309,  267,    1,    1,    1,    1,\n",
       "          1,    1,  296,  315,  333,  342,  336,  350,  351,  336,  336,\n",
       "        340,  334,  358,  363,  391,  388,  395,  413,  410,  418,  405,\n",
       "        437,  426,  407,  423,  446,  416,  424,  450,  420,  447,  465,\n",
       "        462,  472,  473,  485,  486,  501,  507,  505,  545,  495,  512,\n",
       "        523,  522,  520,  525,  520,  523,  531,  514,  532,  589,  542,\n",
       "        574,  561,  610,  623,  655,  603,  572,  580,  620,  581,  592,\n",
       "        620,  623,  594,  634,  625,  663,  661,  640,  646,  654,  635,\n",
       "        589,  558,  567,  590,  608,  595,  622,  656,  643,  675,  696,\n",
       "        659,  665,  677,  647,  677,  740,  706,  789,  746,  808,  822,\n",
       "       1026, 1131,    0,    0,    0,    0,    0,    0,    0,    0,    0,\n",
       "          0,    0,    0,    0,    0,    0,    0,    0,    0,    0,    0,\n",
       "          0])"
      ]
     },
     "execution_count": 139,
     "metadata": {},
     "output_type": "execute_result"
    }
   ],
   "source": [
    "np.array(gal_GroupNumber[3,:])"
   ]
  },
  {
   "cell_type": "code",
   "execution_count": 136,
   "metadata": {},
   "outputs": [
    {
     "name": "stdout",
     "output_type": "stream",
     "text": [
      "[ 0  0  0  0  0  0  0  0  0  0  0  0  0  0  0  0  0  0  0  0  0  0  0  0\n",
      "  0  0  0  0  0  0  0  0  0  0  0  0  0  0  0  0  0  0  0  0  0  0  0  0\n",
      "  0  0  0  0  0  0  0  0  0  0  0  0  0  0  0  0  0  0  0  0  0  0  0  0\n",
      "  0  0  0  0  0  0  0  0  0  0  0  0  0  0  0  0  0  0  0  0  0  0  0  0\n",
      "  0  0  0  0  0  0  0  0  0  0  0  0  0  0  0  0  0  0  0  0  0  0  0  0\n",
      "  0  0  0  0  0  0  0  0  0  0  0  0  0  0 15  0  0  0  0  0  0  0  0  0\n",
      "  0  0  0  0  0  0  0  0  0  7  0  0  3  0  0  0  0  0  0  0  0  0  0  0\n",
      "  0  0  0  0  0  0  0  0  0  0  0  0  0  0  0  0  0  0  0  0  0  0  0  0\n",
      "  0  0  0  0  0  0  0]\n"
     ]
    }
   ],
   "source": [
    "print(gal_SubGroupNumber[0,:])"
   ]
  },
  {
   "cell_type": "code",
   "execution_count": 45,
   "metadata": {},
   "outputs": [
    {
     "data": {
      "text/plain": [
       "'/home/zhaox/Magpie/M2_zcut7/groups_033_z???p???/'"
      ]
     },
     "execution_count": 45,
     "metadata": {},
     "output_type": "execute_result"
    }
   ],
   "source": [
    "subhaloFile % 33"
   ]
  },
  {
   "cell_type": "code",
   "execution_count": 46,
   "metadata": {},
   "outputs": [],
   "source": [
    "subfilename = subhaloFile % 33 + subfile_basename"
   ]
  },
  {
   "cell_type": "code",
   "execution_count": 48,
   "metadata": {},
   "outputs": [
    {
     "data": {
      "text/plain": [
       "16"
      ]
     },
     "execution_count": 48,
     "metadata": {},
     "output_type": "execute_result"
    }
   ],
   "source": [
    "c[0]"
   ]
  },
  {
   "cell_type": "code",
   "execution_count": 194,
   "metadata": {},
   "outputs": [
    {
     "name": "stderr",
     "output_type": "stream",
     "text": [
      "/tmp/ipykernel_87992/1214065159.py:7: MatplotlibDeprecationWarning: Auto-removal of overlapping axes is deprecated since 3.6 and will be removed two minor releases later; explicitly call ax.remove() as needed.\n",
      "  ax1 = plt.subplot()\n"
     ]
    }
   ],
   "source": [
    "# z = 1/a - 1\n",
    "# z_infall = z[infall_index]\n",
    "# infall_lbtime = np.array([cosmo.lookbackTime(z_) for z_ in z_infall])\n",
    "\n",
    "from matplotlib.ticker import MaxNLocator\n",
    "# plt.title(simulation_name + ' infall time PDF')\n",
    "ax1 = plt.subplot()\n",
    "bins = np.linspace(0,14,15)\n",
    "N, bins, patches = ax1.hist(infall_lbtime, bins,alpha=0.8, histtype='step', linewidth=3)\n",
    "ax1.set_xlabel('lookback time/[Gyr]')\n",
    "ax1.yaxis.set_major_locator(MaxNLocator(integer=True))\n",
    "# ax1.arrow(lbtime[0],2, 0, -1, width = 0.1, color = 'red')\n",
    "# ax1.text(lbtime[0]+1,2.5, \"lmc infall\", fontsize=13)\n",
    "# ax1.arrow(lbtime[1],2, 0, -1, width = 0.1, color = 'red')\n",
    "# ax1.text(lbtime[1]+1,2.5, \"smc infall\", fontsize=13)\n",
    "# ax1.invert_xaxis()\n",
    "# sort = np.argsort(satellite_mstar[is_within_r200,0])\n",
    "\n",
    "# ax1.arrow(infall_lbtime[sort[-1]],2, 0, -1, width = 0.1, color = 'orange')\n",
    "# ax1.text(infall_lbtime[sort[-1]]+1,2.5, \"lmc infall\", fontsize=13)\n",
    "# ax1.arrow(infall_lbtime[sort[-2]],2, 0, -1, width = 0.1, color = 'orange')\n",
    "# ax1.text(infall_lbtime[sort[-2]]+1,2.5, \"smc infall\", fontsize=13)\n",
    "\n",
    "ax1.set_xlim(14,0)\n",
    "\n",
    "# for i in range(1,5):\n",
    "#     patches[-i].set_facecolor('c')\n",
    "\n",
    "def lbtime2z(lbtime):\n",
    "    t_universe = cosmo.age(0)\n",
    "    z = cosmo.age(t_universe - lbtime, inverse = True)\n",
    "    return [\"%.1f\" % z_ for z_ in z]\n",
    "\n",
    "ax2 = ax1.twiny()\n",
    "ax2.set_xlim(ax1.get_xlim())\n",
    "new_tick_locations = np.array([0.01, cosmo.lookbackTime(0.2), cosmo.lookbackTime(0.5), cosmo.lookbackTime(1), cosmo.lookbackTime(2), cosmo.lookbackTime(3), cosmo.lookbackTime(5)])\n",
    "ax2.set_xticks(new_tick_locations)\n",
    "ax2.set_xticklabels(lbtime2z(new_tick_locations))\n",
    "# ax2.xaxis.set_major_locator(plt.MaxNLocator(integer=True))\n",
    "# ax2.xtick.minor.visible:=False\n",
    "# ax.xaxis.set_minor_locator([])\n",
    "ax2.minorticks_off()\n",
    "ax2.set_xlabel('z')\n",
    "ax1.set_ylabel('satellite number')\n",
    "plt.savefig('test')\n",
    "# plt.savefig('fig/'+simulation_name + ' infall time PDF.png', dpi=300)"
   ]
  },
  {
   "cell_type": "code",
   "execution_count": 52,
   "metadata": {},
   "outputs": [
    {
     "data": {
      "text/plain": [
       "'/home/zhaox/Magpie/M2_zcut7/groups_033_z???p???/eagle_subfind_tab_???_z???p???.%i.hdf5'"
      ]
     },
     "execution_count": 52,
     "metadata": {},
     "output_type": "execute_result"
    }
   ],
   "source": [
    "subfilename"
   ]
  },
  {
   "cell_type": "code",
   "execution_count": 50,
   "metadata": {},
   "outputs": [
    {
     "data": {
      "text/plain": [
       "['/home/zhaox/Magpie/M2_zcut7/groups_033_z006p176/eagle_subfind_tab_033_z006p176.16.hdf5']"
      ]
     },
     "execution_count": 50,
     "metadata": {},
     "output_type": "execute_result"
    }
   ],
   "source": [
    "glob(subfilename % c[0])"
   ]
  },
  {
   "cell_type": "code",
   "execution_count": 40,
   "metadata": {},
   "outputs": [
    {
     "data": {
      "text/plain": [
       "(145, 199)"
      ]
     },
     "execution_count": 40,
     "metadata": {},
     "output_type": "execute_result"
    }
   ],
   "source": [
    "gal_subID.shape"
   ]
  },
  {
   "cell_type": "code",
   "execution_count": 30,
   "metadata": {},
   "outputs": [
    {
     "data": {
      "text/plain": [
       "(145, 199, 3)"
      ]
     },
     "execution_count": 30,
     "metadata": {},
     "output_type": "execute_result"
    }
   ],
   "source": [
    "gal_pos.shape"
   ]
  },
  {
   "cell_type": "code",
   "execution_count": 36,
   "metadata": {},
   "outputs": [
    {
     "data": {
      "text/plain": [
       "'/home/zhaox/Magpie/M2_zcut7/groups_%03i_z???p???/'"
      ]
     },
     "execution_count": 36,
     "metadata": {},
     "output_type": "execute_result"
    }
   ],
   "source": [
    "subhaloFile"
   ]
  },
  {
   "cell_type": "code",
   "execution_count": null,
   "metadata": {},
   "outputs": [
    {
     "data": {
      "text/plain": [
       "Text(0, 0.5, 'r$_{\\\\rm half}$ [Kpc/h]')"
      ]
     },
     "execution_count": 11,
     "metadata": {},
     "output_type": "execute_result"
    },
    {
     "data": {
      "image/png": "[encoded data removed]",
      "text/plain": [
       "<Figure size 432x288 with 1 Axes>"
      ]
     },
     "metadata": {
      "needs_background": "light"
     },
     "output_type": "display_data"
    }
   ],
   "source": [
    "%matplotlib inline\n",
    "plt.loglog(gal_Mstar[:, 0], gal_RHalf[:, 0],  \"o\")\n",
    "plt.xlabel(r\"M$_{\\rm star}$ [M$_\\odot$/h]\")\n",
    "plt.ylabel(r\"r$_{\\rm half}$ [Kpc/h]\")\n",
    "# plt.loglog(gal_Mhalo[:,0], gal_Mstar[:,0],  \"o\")\n"
   ]
  },
  {
   "cell_type": "code",
   "execution_count": null,
   "metadata": {},
   "outputs": [
    {
     "name": "stdout",
     "output_type": "stream",
     "text": [
      "Mass of the central halo: 3.36e+11\n"
     ]
    },
    {
     "data": {
      "text/plain": [
       "[<matplotlib.lines.Line2D at 0x7f3ac2ff3ed0>]"
      ]
     },
     "execution_count": 12,
     "metadata": {},
     "output_type": "execute_result"
    },
    {
     "data": {
      "image/png": "[encoded data removed]",
      "text/plain": [
       "<Figure size 432x288 with 1 Axes>"
      ]
     },
     "metadata": {
      "needs_background": "light"
     },
     "output_type": "display_data"
    }
   ],
   "source": [
    "print(\"Mass of the central halo: %.2e\" % gal_M200[0])\n",
    "plt.semilogx(gal_M200[:], gal_Mhalo[:, 0]/gal_M200[:],  \"o\")\n"
   ]
  }
 ],
 "metadata": {
  "kernelspec": {
   "display_name": "base",
   "language": "python",
   "name": "python3"
  },
  "language_info": {
   "codemirror_mode": {
    "name": "ipython",
    "version": 3
   },
   "file_extension": ".py",
   "mimetype": "text/x-python",
   "name": "python",
   "nbconvert_exporter": "python",
   "pygments_lexer": "ipython3",
   "version": "3.8.16"
  }
 },
 "nbformat": 4,
 "nbformat_minor": 4
}
