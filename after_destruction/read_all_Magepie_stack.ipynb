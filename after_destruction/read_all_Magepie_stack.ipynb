{
 "cells": [
  {
   "cell_type": "code",
   "execution_count": null,
   "metadata": {},
   "outputs": [],
   "source": [
    "import pandas as pd\n",
    "import matplotlib as mpl\n",
    "from scipy import stats\n",
    "import scipy.special\n",
    "import os\n",
    "from scipy import constants\n",
    "from colossus.cosmology import cosmology\n",
    "from astropy.cosmology import z_at_value\n",
    "from astropy import units as unit\n",
    "from astropy.coordinates import SkyCoord\n",
    "params = {'flat': True, 'H0': 67.77, 'Om0': 0.307, 'Ob0': 0.04825, 'sigma8': 0.8288, 'ns': 0.9611}\n",
    "cosmology.addCosmology('planck14', params)\n",
    "cosmo = cosmology.setCosmology('planck14')"
   ]
  },
  {
   "cell_type": "code",
   "execution_count": null,
   "metadata": {},
   "outputs": [],
   "source": [
    "import sys\n",
    "import numpy as np\n",
    "import matplotlib.pyplot as plt\n",
    "import h5py\n",
    "import matplotlib as mpl\n",
    "from matplotlib import gridspec\n",
    "from matplotlib.ticker import MultipleLocator, FormatStrFormatter, AutoMinorLocator, FixedLocator\n",
    "from matplotlib.backends.backend_pdf import PdfPages\n",
    "\n",
    "plt.style.use(\"shao.mplstyle\")\n",
    "fontSize = 15\n",
    "lineWidth = 1.5\n",
    "\n",
    "colors = [u'#1f77b4', u'#ff7f0e', u'#2ca02c', u'#d62728', u'#9467bd', u'#8c564b', u'#e377c2', u'#7f7f7f', \\\n",
    "          u'#bcbd22', u'#17becf']"
   ]
  }
 ],
 "metadata": {
  "language_info": {
   "name": "python"
  },
  "orig_nbformat": 4
 },
 "nbformat": 4,
 "nbformat_minor": 2
}
